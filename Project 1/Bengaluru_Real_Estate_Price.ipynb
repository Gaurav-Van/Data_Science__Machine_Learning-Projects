{
 "cells": [
  {
   "cell_type": "markdown",
   "id": "53f29b4a-d428-44e4-9021-6c8ac7bc3eb7",
   "metadata": {},
   "source": [
    "# <font color ='blue'>Data Science Project: Predicting Home Prices in Bangalore</font>\n",
    "\n",
    "##### Real Estate Price Prediction\n",
    "##### Predicting price of a Real Estate Property on the basis of certain features\n",
    "##### Data set we are using is Bengaluru's House data set\n",
    "##### Will be Using Regression to solve the problem \n",
    "\n",
    "##### <font color ='blue'>Note</font>: Price is in lakhs "
   ]
  },
  {
   "cell_type": "code",
   "execution_count": 1,
   "id": "92b8bd6d-eda3-404d-8469-2715c08cfc06",
   "metadata": {},
   "outputs": [],
   "source": [
    "import numpy as np\n",
    "import pandas as pd\n",
    "import seaborn as sns\n",
    "import matplotlib.pyplot as plt\n",
    "from scipy import stats\n",
    "from sklearn.model_selection import train_test_split\n",
    "from sklearn.linear_model import LinearRegression\n",
    "from sklearn.tree import DecisionTreeRegressor\n",
    "from sklearn.ensemble import RandomForestRegressor\n",
    "from sklearn.metrics import mean_squared_error as mse\n",
    "from sklearn.model_selection import cross_val_score\n",
    "from sklearn.model_selection import KFold\n",
    "%matplotlib inline \n",
    "#stored within the notebook\n",
    "import matplotlib\n",
    "matplotlib.rcParams['figure.figsize'] = (20, 10)\n",
    "import warnings\n",
    "warnings.filterwarnings('ignore')"
   ]
  },
  {
   "cell_type": "code",
   "execution_count": 2,
   "id": "4b0986b0-fc43-4c35-bd76-9df516673221",
   "metadata": {},
   "outputs": [
    {
     "data": {
      "text/html": [
       "<div>\n",
       "<style scoped>\n",
       "    .dataframe tbody tr th:only-of-type {\n",
       "        vertical-align: middle;\n",
       "    }\n",
       "\n",
       "    .dataframe tbody tr th {\n",
       "        vertical-align: top;\n",
       "    }\n",
       "\n",
       "    .dataframe thead th {\n",
       "        text-align: right;\n",
       "    }\n",
       "</style>\n",
       "<table border=\"1\" class=\"dataframe\">\n",
       "  <thead>\n",
       "    <tr style=\"text-align: right;\">\n",
       "      <th></th>\n",
       "      <th>area_type</th>\n",
       "      <th>availability</th>\n",
       "      <th>location</th>\n",
       "      <th>size</th>\n",
       "      <th>society</th>\n",
       "      <th>total_sqft</th>\n",
       "      <th>bath</th>\n",
       "      <th>balcony</th>\n",
       "      <th>price</th>\n",
       "    </tr>\n",
       "  </thead>\n",
       "  <tbody>\n",
       "    <tr>\n",
       "      <th>0</th>\n",
       "      <td>Super built-up  Area</td>\n",
       "      <td>19-Dec</td>\n",
       "      <td>Electronic City Phase II</td>\n",
       "      <td>2 BHK</td>\n",
       "      <td>Coomee</td>\n",
       "      <td>1056</td>\n",
       "      <td>2.0</td>\n",
       "      <td>1.0</td>\n",
       "      <td>39.07</td>\n",
       "    </tr>\n",
       "    <tr>\n",
       "      <th>1</th>\n",
       "      <td>Plot  Area</td>\n",
       "      <td>Ready To Move</td>\n",
       "      <td>Chikka Tirupathi</td>\n",
       "      <td>4 Bedroom</td>\n",
       "      <td>Theanmp</td>\n",
       "      <td>2600</td>\n",
       "      <td>5.0</td>\n",
       "      <td>3.0</td>\n",
       "      <td>120.00</td>\n",
       "    </tr>\n",
       "    <tr>\n",
       "      <th>2</th>\n",
       "      <td>Built-up  Area</td>\n",
       "      <td>Ready To Move</td>\n",
       "      <td>Uttarahalli</td>\n",
       "      <td>3 BHK</td>\n",
       "      <td>NaN</td>\n",
       "      <td>1440</td>\n",
       "      <td>2.0</td>\n",
       "      <td>3.0</td>\n",
       "      <td>62.00</td>\n",
       "    </tr>\n",
       "    <tr>\n",
       "      <th>3</th>\n",
       "      <td>Super built-up  Area</td>\n",
       "      <td>Ready To Move</td>\n",
       "      <td>Lingadheeranahalli</td>\n",
       "      <td>3 BHK</td>\n",
       "      <td>Soiewre</td>\n",
       "      <td>1521</td>\n",
       "      <td>3.0</td>\n",
       "      <td>1.0</td>\n",
       "      <td>95.00</td>\n",
       "    </tr>\n",
       "    <tr>\n",
       "      <th>4</th>\n",
       "      <td>Super built-up  Area</td>\n",
       "      <td>Ready To Move</td>\n",
       "      <td>Kothanur</td>\n",
       "      <td>2 BHK</td>\n",
       "      <td>NaN</td>\n",
       "      <td>1200</td>\n",
       "      <td>2.0</td>\n",
       "      <td>1.0</td>\n",
       "      <td>51.00</td>\n",
       "    </tr>\n",
       "    <tr>\n",
       "      <th>5</th>\n",
       "      <td>Super built-up  Area</td>\n",
       "      <td>Ready To Move</td>\n",
       "      <td>Whitefield</td>\n",
       "      <td>2 BHK</td>\n",
       "      <td>DuenaTa</td>\n",
       "      <td>1170</td>\n",
       "      <td>2.0</td>\n",
       "      <td>1.0</td>\n",
       "      <td>38.00</td>\n",
       "    </tr>\n",
       "    <tr>\n",
       "      <th>6</th>\n",
       "      <td>Super built-up  Area</td>\n",
       "      <td>18-May</td>\n",
       "      <td>Old Airport Road</td>\n",
       "      <td>4 BHK</td>\n",
       "      <td>Jaades</td>\n",
       "      <td>2732</td>\n",
       "      <td>4.0</td>\n",
       "      <td>NaN</td>\n",
       "      <td>204.00</td>\n",
       "    </tr>\n",
       "    <tr>\n",
       "      <th>7</th>\n",
       "      <td>Super built-up  Area</td>\n",
       "      <td>Ready To Move</td>\n",
       "      <td>Rajaji Nagar</td>\n",
       "      <td>4 BHK</td>\n",
       "      <td>Brway G</td>\n",
       "      <td>3300</td>\n",
       "      <td>4.0</td>\n",
       "      <td>NaN</td>\n",
       "      <td>600.00</td>\n",
       "    </tr>\n",
       "    <tr>\n",
       "      <th>8</th>\n",
       "      <td>Super built-up  Area</td>\n",
       "      <td>Ready To Move</td>\n",
       "      <td>Marathahalli</td>\n",
       "      <td>3 BHK</td>\n",
       "      <td>NaN</td>\n",
       "      <td>1310</td>\n",
       "      <td>3.0</td>\n",
       "      <td>1.0</td>\n",
       "      <td>63.25</td>\n",
       "    </tr>\n",
       "    <tr>\n",
       "      <th>9</th>\n",
       "      <td>Plot  Area</td>\n",
       "      <td>Ready To Move</td>\n",
       "      <td>Gandhi Bazar</td>\n",
       "      <td>6 Bedroom</td>\n",
       "      <td>NaN</td>\n",
       "      <td>1020</td>\n",
       "      <td>6.0</td>\n",
       "      <td>NaN</td>\n",
       "      <td>370.00</td>\n",
       "    </tr>\n",
       "  </tbody>\n",
       "</table>\n",
       "</div>"
      ],
      "text/plain": [
       "              area_type   availability                  location       size  \\\n",
       "0  Super built-up  Area         19-Dec  Electronic City Phase II      2 BHK   \n",
       "1            Plot  Area  Ready To Move          Chikka Tirupathi  4 Bedroom   \n",
       "2        Built-up  Area  Ready To Move               Uttarahalli      3 BHK   \n",
       "3  Super built-up  Area  Ready To Move        Lingadheeranahalli      3 BHK   \n",
       "4  Super built-up  Area  Ready To Move                  Kothanur      2 BHK   \n",
       "5  Super built-up  Area  Ready To Move                Whitefield      2 BHK   \n",
       "6  Super built-up  Area         18-May          Old Airport Road      4 BHK   \n",
       "7  Super built-up  Area  Ready To Move              Rajaji Nagar      4 BHK   \n",
       "8  Super built-up  Area  Ready To Move              Marathahalli      3 BHK   \n",
       "9            Plot  Area  Ready To Move              Gandhi Bazar  6 Bedroom   \n",
       "\n",
       "   society total_sqft  bath  balcony   price  \n",
       "0  Coomee        1056   2.0      1.0   39.07  \n",
       "1  Theanmp       2600   5.0      3.0  120.00  \n",
       "2      NaN       1440   2.0      3.0   62.00  \n",
       "3  Soiewre       1521   3.0      1.0   95.00  \n",
       "4      NaN       1200   2.0      1.0   51.00  \n",
       "5  DuenaTa       1170   2.0      1.0   38.00  \n",
       "6  Jaades        2732   4.0      NaN  204.00  \n",
       "7  Brway G       3300   4.0      NaN  600.00  \n",
       "8      NaN       1310   3.0      1.0   63.25  \n",
       "9      NaN       1020   6.0      NaN  370.00  "
      ]
     },
     "execution_count": 2,
     "metadata": {},
     "output_type": "execute_result"
    }
   ],
   "source": [
    "#Bengaluru_House_Data -> Data set \n",
    "#Importing the data set\n",
    "Data_frame = pd.read_csv(\"Bengaluru_House_Data.csv\", na_values=[' ?'])\n",
    "Data_frame.head(10)"
   ]
  },
  {
   "cell_type": "code",
   "execution_count": 3,
   "id": "c44b8354-2bf5-4b21-af0a-e1ffd8da066b",
   "metadata": {},
   "outputs": [
    {
     "name": "stdout",
     "output_type": "stream",
     "text": [
      "Super built-up  Area    8790\n",
      "Built-up  Area          2418\n",
      "Plot  Area              2025\n",
      "Carpet  Area              87\n",
      "Name: area_type, dtype: int64\n",
      "\n",
      "\n",
      "Ready To Move    10581\n",
      "18-Dec             307\n",
      "18-May             295\n",
      "18-Apr             271\n",
      "18-Aug             200\n",
      "                 ...  \n",
      "16-Jan               1\n",
      "15-Jun               1\n",
      "16-Nov               1\n",
      "16-Jul               1\n",
      "14-Jul               1\n",
      "Name: availability, Length: 81, dtype: int64\n",
      "\n",
      "\n",
      "Whitefield                            540\n",
      "Sarjapur  Road                        399\n",
      "Electronic City                       302\n",
      "Kanakpura Road                        273\n",
      "Thanisandra                           234\n",
      "                                     ... \n",
      "Annasandrapalya                         1\n",
      "Howthinarayanappa Garden                1\n",
      "Basvasamithi Layout Vidyaranyapura      1\n",
      "Pillahalli                              1\n",
      "LIC Colony                              1\n",
      "Name: location, Length: 1305, dtype: int64\n",
      "\n",
      "\n",
      "2 BHK         5199\n",
      "3 BHK         4310\n",
      "4 Bedroom      826\n",
      "4 BHK          591\n",
      "3 Bedroom      547\n",
      "1 BHK          538\n",
      "2 Bedroom      329\n",
      "5 Bedroom      297\n",
      "6 Bedroom      191\n",
      "1 Bedroom      105\n",
      "8 Bedroom       84\n",
      "7 Bedroom       83\n",
      "5 BHK           59\n",
      "9 Bedroom       46\n",
      "6 BHK           30\n",
      "7 BHK           17\n",
      "1 RK            13\n",
      "10 Bedroom      12\n",
      "9 BHK            8\n",
      "8 BHK            5\n",
      "10 BHK           2\n",
      "11 BHK           2\n",
      "11 Bedroom       2\n",
      "14 BHK           1\n",
      "13 BHK           1\n",
      "43 Bedroom       1\n",
      "27 BHK           1\n",
      "18 Bedroom       1\n",
      "16 BHK           1\n",
      "19 BHK           1\n",
      "12 Bedroom       1\n",
      "Name: size, dtype: int64\n",
      "\n",
      "\n",
      "GrrvaGr    80\n",
      "PrarePa    76\n",
      "Prtates    59\n",
      "Sryalan    59\n",
      "GMown E    56\n",
      "           ..\n",
      "SKthaAa     1\n",
      "Suiumy      1\n",
      "Coise P     1\n",
      "Aantspa     1\n",
      "ShstaAl     1\n",
      "Name: society, Length: 2688, dtype: int64\n",
      "\n",
      "\n",
      "1200       843\n",
      "1100       221\n",
      "1500       205\n",
      "2400       196\n",
      "600        180\n",
      "          ... \n",
      "10200        1\n",
      "754          1\n",
      "1269.72      1\n",
      "2920         1\n",
      "396          1\n",
      "Name: total_sqft, Length: 2117, dtype: int64\n",
      "\n",
      "\n",
      "2.0     6908\n",
      "3.0     3286\n",
      "4.0     1226\n",
      "1.0      788\n",
      "5.0      524\n",
      "6.0      273\n",
      "7.0      102\n",
      "8.0       64\n",
      "9.0       43\n",
      "10.0      13\n",
      "12.0       7\n",
      "13.0       3\n",
      "11.0       3\n",
      "16.0       2\n",
      "27.0       1\n",
      "18.0       1\n",
      "40.0       1\n",
      "15.0       1\n",
      "14.0       1\n",
      "Name: bath, dtype: int64\n",
      "\n",
      "\n",
      "2.0    5113\n",
      "1.0    4897\n",
      "3.0    1672\n",
      "0.0    1029\n",
      "Name: balcony, dtype: int64\n",
      "\n",
      "\n",
      "75.00    310\n",
      "65.00    302\n",
      "55.00    275\n",
      "60.00    270\n",
      "45.00    240\n",
      "        ... \n",
      "81.55      1\n",
      "69.49      1\n",
      "42.18      1\n",
      "70.25      1\n",
      "74.82      1\n",
      "Name: price, Length: 1994, dtype: int64\n",
      "\n",
      "\n"
     ]
    }
   ],
   "source": [
    "for i in Data_frame.columns:\n",
    "    print(Data_frame[i].value_counts())\n",
    "    print(\"\\n\")"
   ]
  },
  {
   "cell_type": "code",
   "execution_count": 4,
   "id": "1a73bbce-7cff-4ff0-a7c7-a80d9ee5fd2b",
   "metadata": {},
   "outputs": [
    {
     "name": "stdout",
     "output_type": "stream",
     "text": [
      "area_type \n",
      " ['Super built-up  Area' 'Plot  Area' 'Built-up  Area' 'Carpet  Area']\n",
      "\n",
      "\n",
      "availability \n",
      " ['19-Dec' 'Ready To Move' '18-May' '18-Feb' '18-Nov' '20-Dec' '17-Oct'\n",
      " '21-Dec' '19-Sep' '20-Sep' '18-Mar' '20-Feb' '18-Apr' '20-Aug' '18-Oct'\n",
      " '19-Mar' '17-Sep' '18-Dec' '17-Aug' '19-Apr' '18-Jun' '22-Dec' '22-Jan'\n",
      " '18-Aug' '19-Jan' '17-Jul' '18-Jul' '21-Jun' '20-May' '19-Aug' '18-Sep'\n",
      " '17-May' '17-Jun' '21-May' '18-Jan' '20-Mar' '17-Dec' '16-Mar' '19-Jun'\n",
      " '22-Jun' '19-Jul' '21-Feb' 'Immediate Possession' '19-May' '17-Nov'\n",
      " '20-Oct' '20-Jun' '19-Feb' '21-Oct' '21-Jan' '17-Mar' '17-Apr' '22-May'\n",
      " '19-Oct' '21-Jul' '21-Nov' '21-Mar' '16-Dec' '22-Mar' '20-Jan' '21-Sep'\n",
      " '21-Aug' '14-Nov' '19-Nov' '15-Nov' '16-Jul' '15-Jun' '17-Feb' '20-Nov'\n",
      " '20-Jul' '16-Sep' '15-Oct' '15-Dec' '16-Oct' '22-Nov' '15-Aug' '17-Jan'\n",
      " '16-Nov' '20-Apr' '16-Jan' '14-Jul']\n",
      "\n",
      "\n",
      "location \n",
      " ['Electronic City Phase II' 'Chikka Tirupathi' 'Uttarahalli' ...\n",
      " '12th cross srinivas nagar banshankari 3rd stage' 'Havanur extension'\n",
      " 'Abshot Layout']\n",
      "\n",
      "\n",
      "size \n",
      " ['2 BHK' '4 Bedroom' '3 BHK' '4 BHK' '6 Bedroom' '3 Bedroom' '1 BHK'\n",
      " '1 RK' '1 Bedroom' '8 Bedroom' '2 Bedroom' '7 Bedroom' '5 BHK' '7 BHK'\n",
      " '6 BHK' '5 Bedroom' '11 BHK' '9 BHK' nan '9 Bedroom' '27 BHK'\n",
      " '10 Bedroom' '11 Bedroom' '10 BHK' '19 BHK' '16 BHK' '43 Bedroom'\n",
      " '14 BHK' '8 BHK' '12 Bedroom' '13 BHK' '18 Bedroom']\n",
      "\n",
      "\n",
      "society \n",
      " ['Coomee ' 'Theanmp' nan ... 'SJovest' 'ThhtsV ' 'RSntsAp']\n",
      "\n",
      "\n",
      "total_sqft \n",
      " ['1056' '2600' '1440' ... '1133 - 1384' '774' '4689']\n",
      "\n",
      "\n",
      "bath \n",
      " [ 2.  5.  3.  4.  6.  1.  9. nan  8.  7. 11. 10. 14. 27. 12. 16. 40. 15.\n",
      " 13. 18.]\n",
      "\n",
      "\n",
      "balcony \n",
      " [ 1.  3. nan  2.  0.]\n",
      "\n",
      "\n",
      "price \n",
      " [ 39.07 120.    62.   ...  40.14 231.   488.  ]\n",
      "\n",
      "\n"
     ]
    }
   ],
   "source": [
    "for i in Data_frame.columns:\n",
    "    print(f'{i} \\n {Data_frame[i].unique()}')\n",
    "    print(\"\\n\")"
   ]
  },
  {
   "cell_type": "code",
   "execution_count": 5,
   "id": "b20d0ca2-5314-439c-88a9-c86c718f1dcc",
   "metadata": {},
   "outputs": [
    {
     "data": {
      "text/plain": [
       "(13320, 9)"
      ]
     },
     "execution_count": 5,
     "metadata": {},
     "output_type": "execute_result"
    }
   ],
   "source": [
    "Data_frame.shape"
   ]
  },
  {
   "cell_type": "code",
   "execution_count": 6,
   "id": "e2329cdf-f552-4f14-8603-c62fccd3c511",
   "metadata": {},
   "outputs": [
    {
     "data": {
      "text/html": [
       "<div>\n",
       "<style scoped>\n",
       "    .dataframe tbody tr th:only-of-type {\n",
       "        vertical-align: middle;\n",
       "    }\n",
       "\n",
       "    .dataframe tbody tr th {\n",
       "        vertical-align: top;\n",
       "    }\n",
       "\n",
       "    .dataframe thead th {\n",
       "        text-align: right;\n",
       "    }\n",
       "</style>\n",
       "<table border=\"1\" class=\"dataframe\">\n",
       "  <thead>\n",
       "    <tr style=\"text-align: right;\">\n",
       "      <th></th>\n",
       "      <th>area_type</th>\n",
       "      <th>availability</th>\n",
       "      <th>location</th>\n",
       "      <th>size</th>\n",
       "      <th>society</th>\n",
       "      <th>total_sqft</th>\n",
       "      <th>bath</th>\n",
       "      <th>balcony</th>\n",
       "      <th>price</th>\n",
       "    </tr>\n",
       "  </thead>\n",
       "  <tbody>\n",
       "    <tr>\n",
       "      <th>count</th>\n",
       "      <td>13320</td>\n",
       "      <td>13320</td>\n",
       "      <td>13319</td>\n",
       "      <td>13304</td>\n",
       "      <td>7818</td>\n",
       "      <td>13320</td>\n",
       "      <td>13247.000000</td>\n",
       "      <td>12711.000000</td>\n",
       "      <td>13320.000000</td>\n",
       "    </tr>\n",
       "    <tr>\n",
       "      <th>unique</th>\n",
       "      <td>4</td>\n",
       "      <td>81</td>\n",
       "      <td>1305</td>\n",
       "      <td>31</td>\n",
       "      <td>2688</td>\n",
       "      <td>2117</td>\n",
       "      <td>NaN</td>\n",
       "      <td>NaN</td>\n",
       "      <td>NaN</td>\n",
       "    </tr>\n",
       "    <tr>\n",
       "      <th>top</th>\n",
       "      <td>Super built-up  Area</td>\n",
       "      <td>Ready To Move</td>\n",
       "      <td>Whitefield</td>\n",
       "      <td>2 BHK</td>\n",
       "      <td>GrrvaGr</td>\n",
       "      <td>1200</td>\n",
       "      <td>NaN</td>\n",
       "      <td>NaN</td>\n",
       "      <td>NaN</td>\n",
       "    </tr>\n",
       "    <tr>\n",
       "      <th>freq</th>\n",
       "      <td>8790</td>\n",
       "      <td>10581</td>\n",
       "      <td>540</td>\n",
       "      <td>5199</td>\n",
       "      <td>80</td>\n",
       "      <td>843</td>\n",
       "      <td>NaN</td>\n",
       "      <td>NaN</td>\n",
       "      <td>NaN</td>\n",
       "    </tr>\n",
       "    <tr>\n",
       "      <th>mean</th>\n",
       "      <td>NaN</td>\n",
       "      <td>NaN</td>\n",
       "      <td>NaN</td>\n",
       "      <td>NaN</td>\n",
       "      <td>NaN</td>\n",
       "      <td>NaN</td>\n",
       "      <td>2.692610</td>\n",
       "      <td>1.584376</td>\n",
       "      <td>112.565627</td>\n",
       "    </tr>\n",
       "    <tr>\n",
       "      <th>std</th>\n",
       "      <td>NaN</td>\n",
       "      <td>NaN</td>\n",
       "      <td>NaN</td>\n",
       "      <td>NaN</td>\n",
       "      <td>NaN</td>\n",
       "      <td>NaN</td>\n",
       "      <td>1.341458</td>\n",
       "      <td>0.817263</td>\n",
       "      <td>148.971674</td>\n",
       "    </tr>\n",
       "    <tr>\n",
       "      <th>min</th>\n",
       "      <td>NaN</td>\n",
       "      <td>NaN</td>\n",
       "      <td>NaN</td>\n",
       "      <td>NaN</td>\n",
       "      <td>NaN</td>\n",
       "      <td>NaN</td>\n",
       "      <td>1.000000</td>\n",
       "      <td>0.000000</td>\n",
       "      <td>8.000000</td>\n",
       "    </tr>\n",
       "    <tr>\n",
       "      <th>25%</th>\n",
       "      <td>NaN</td>\n",
       "      <td>NaN</td>\n",
       "      <td>NaN</td>\n",
       "      <td>NaN</td>\n",
       "      <td>NaN</td>\n",
       "      <td>NaN</td>\n",
       "      <td>2.000000</td>\n",
       "      <td>1.000000</td>\n",
       "      <td>50.000000</td>\n",
       "    </tr>\n",
       "    <tr>\n",
       "      <th>50%</th>\n",
       "      <td>NaN</td>\n",
       "      <td>NaN</td>\n",
       "      <td>NaN</td>\n",
       "      <td>NaN</td>\n",
       "      <td>NaN</td>\n",
       "      <td>NaN</td>\n",
       "      <td>2.000000</td>\n",
       "      <td>2.000000</td>\n",
       "      <td>72.000000</td>\n",
       "    </tr>\n",
       "    <tr>\n",
       "      <th>75%</th>\n",
       "      <td>NaN</td>\n",
       "      <td>NaN</td>\n",
       "      <td>NaN</td>\n",
       "      <td>NaN</td>\n",
       "      <td>NaN</td>\n",
       "      <td>NaN</td>\n",
       "      <td>3.000000</td>\n",
       "      <td>2.000000</td>\n",
       "      <td>120.000000</td>\n",
       "    </tr>\n",
       "    <tr>\n",
       "      <th>max</th>\n",
       "      <td>NaN</td>\n",
       "      <td>NaN</td>\n",
       "      <td>NaN</td>\n",
       "      <td>NaN</td>\n",
       "      <td>NaN</td>\n",
       "      <td>NaN</td>\n",
       "      <td>40.000000</td>\n",
       "      <td>3.000000</td>\n",
       "      <td>3600.000000</td>\n",
       "    </tr>\n",
       "  </tbody>\n",
       "</table>\n",
       "</div>"
      ],
      "text/plain": [
       "                   area_type   availability    location   size  society  \\\n",
       "count                  13320          13320       13319  13304     7818   \n",
       "unique                     4             81        1305     31     2688   \n",
       "top     Super built-up  Area  Ready To Move  Whitefield  2 BHK  GrrvaGr   \n",
       "freq                    8790          10581         540   5199       80   \n",
       "mean                     NaN            NaN         NaN    NaN      NaN   \n",
       "std                      NaN            NaN         NaN    NaN      NaN   \n",
       "min                      NaN            NaN         NaN    NaN      NaN   \n",
       "25%                      NaN            NaN         NaN    NaN      NaN   \n",
       "50%                      NaN            NaN         NaN    NaN      NaN   \n",
       "75%                      NaN            NaN         NaN    NaN      NaN   \n",
       "max                      NaN            NaN         NaN    NaN      NaN   \n",
       "\n",
       "       total_sqft          bath       balcony         price  \n",
       "count       13320  13247.000000  12711.000000  13320.000000  \n",
       "unique       2117           NaN           NaN           NaN  \n",
       "top          1200           NaN           NaN           NaN  \n",
       "freq          843           NaN           NaN           NaN  \n",
       "mean          NaN      2.692610      1.584376    112.565627  \n",
       "std           NaN      1.341458      0.817263    148.971674  \n",
       "min           NaN      1.000000      0.000000      8.000000  \n",
       "25%           NaN      2.000000      1.000000     50.000000  \n",
       "50%           NaN      2.000000      2.000000     72.000000  \n",
       "75%           NaN      3.000000      2.000000    120.000000  \n",
       "max           NaN     40.000000      3.000000   3600.000000  "
      ]
     },
     "execution_count": 6,
     "metadata": {},
     "output_type": "execute_result"
    }
   ],
   "source": [
    "Data_frame.describe(include='all') "
   ]
  },
  {
   "cell_type": "markdown",
   "id": "bfad2094-bf4f-419f-8998-f974d6a90031",
   "metadata": {},
   "source": [
    "##### In predicting Price of a property, 'availability' and 'society' are not THAT important factor in comparison to other features"
   ]
  },
  {
   "cell_type": "code",
   "execution_count": 7,
   "id": "a129d96d-b3c2-4e45-a4b4-eeb01b6e0d0d",
   "metadata": {},
   "outputs": [],
   "source": [
    "Data_frame_copy = Data_frame.copy()\n",
    "Data_frame.drop(['availability', 'society'], axis=1, inplace=True)"
   ]
  },
  {
   "cell_type": "markdown",
   "id": "8c22221b-d8ba-499b-b1ae-8bcc7b291d20",
   "metadata": {},
   "source": [
    "## <font color ='blue'>Handeling Missing Values / Data cleaning</font>\n",
    "##### Data is Missing in several columns as total rows/enteries are 13320 and in some features the count does not match"
   ]
  },
  {
   "cell_type": "code",
   "execution_count": 8,
   "id": "1f222cf5-67b3-4ad3-bc06-d58aa8d9cd77",
   "metadata": {},
   "outputs": [
    {
     "data": {
      "text/plain": [
       "area_type       0\n",
       "location        1\n",
       "size           16\n",
       "total_sqft      0\n",
       "bath           73\n",
       "balcony       609\n",
       "price           0\n",
       "dtype: int64"
      ]
     },
     "execution_count": 8,
     "metadata": {},
     "output_type": "execute_result"
    }
   ],
   "source": [
    "Data_frame.isnull().sum()"
   ]
  },
  {
   "cell_type": "markdown",
   "id": "055703be-efd9-46c7-9c3e-a86920161d68",
   "metadata": {},
   "source": [
    "#### Prob1 -> Droping and Replacing Missing Values \n",
    "##### 1, 16, 73 are negligible amount in front of 13320 enteries so we can drop, in the case of balcony -> 609 we might wanna replace them with either mean or median depending on outliers"
   ]
  },
  {
   "cell_type": "code",
   "execution_count": 9,
   "id": "0609d154-30bc-43ea-9ecc-c657af7906d5",
   "metadata": {},
   "outputs": [
    {
     "data": {
      "text/plain": [
       "(13246, 7)"
      ]
     },
     "execution_count": 9,
     "metadata": {},
     "output_type": "execute_result"
    }
   ],
   "source": [
    "# Droping Missing Values \n",
    "Data_frame.dropna(subset = ['location', 'size', 'bath'], inplace=True)\n",
    "Data_frame.shape"
   ]
  },
  {
   "cell_type": "code",
   "execution_count": 10,
   "id": "ef71cc42-fd4f-4758-80ef-5c331d463a78",
   "metadata": {},
   "outputs": [
    {
     "name": "stdout",
     "output_type": "stream",
     "text": [
      "<class 'pandas.core.frame.DataFrame'>\n",
      "Int64Index: 13246 entries, 0 to 13319\n",
      "Data columns (total 7 columns):\n",
      " #   Column      Non-Null Count  Dtype  \n",
      "---  ------      --------------  -----  \n",
      " 0   area_type   13246 non-null  object \n",
      " 1   location    13246 non-null  object \n",
      " 2   size        13246 non-null  object \n",
      " 3   total_sqft  13246 non-null  object \n",
      " 4   bath        13246 non-null  float64\n",
      " 5   balcony     12710 non-null  float64\n",
      " 6   price       13246 non-null  float64\n",
      "dtypes: float64(3), object(4)\n",
      "memory usage: 827.9+ KB\n"
     ]
    }
   ],
   "source": [
    "Data_frame.info()"
   ]
  },
  {
   "cell_type": "code",
   "execution_count": 11,
   "id": "2ce17fe7-bbdc-4636-9306-87b4c3bc07e8",
   "metadata": {},
   "outputs": [
    {
     "data": {
      "image/png": "[encoded data removed]",
      "text/plain": [
       "<Figure size 1440x720 with 1 Axes>"
      ]
     },
     "metadata": {
      "needs_background": "light"
     },
     "output_type": "display_data"
    }
   ],
   "source": [
    "#Replacing Missing Values\n",
    "sns.boxplot(x='balcony', data=Data_frame)\n",
    "plt.title(\"Balcony-BoxPlot\")\n",
    "plt.show()\n",
    "#Replacing the missing data with mean \n",
    "Data_frame['balcony'].replace(np.nan, Data_frame['balcony'].mean(), inplace=True)"
   ]
  },
  {
   "cell_type": "code",
   "execution_count": 12,
   "id": "ce091668-dda0-482b-8e16-07e89097de81",
   "metadata": {},
   "outputs": [
    {
     "data": {
      "text/plain": [
       "area_type     0\n",
       "location      0\n",
       "size          0\n",
       "total_sqft    0\n",
       "bath          0\n",
       "balcony       0\n",
       "price         0\n",
       "dtype: int64"
      ]
     },
     "execution_count": 12,
     "metadata": {},
     "output_type": "execute_result"
    }
   ],
   "source": [
    "Data_frame.isnull().sum()"
   ]
  },
  {
   "cell_type": "markdown",
   "id": "2b45b9f6-8794-4f70-840f-8d0f00f6aebd",
   "metadata": {},
   "source": [
    "#### Prob2 \n",
    "##### In size feature, some enteries are in the form of 2 BHK and some are in 2 bedrooms , Both are same so we can solve this by taking only the numeric value from the size feature"
   ]
  },
  {
   "cell_type": "code",
   "execution_count": 13,
   "id": "a59d4a14-7fae-4307-a612-6f8794177393",
   "metadata": {},
   "outputs": [
    {
     "data": {
      "text/html": [
       "<div>\n",
       "<style scoped>\n",
       "    .dataframe tbody tr th:only-of-type {\n",
       "        vertical-align: middle;\n",
       "    }\n",
       "\n",
       "    .dataframe tbody tr th {\n",
       "        vertical-align: top;\n",
       "    }\n",
       "\n",
       "    .dataframe thead th {\n",
       "        text-align: right;\n",
       "    }\n",
       "</style>\n",
       "<table border=\"1\" class=\"dataframe\">\n",
       "  <thead>\n",
       "    <tr style=\"text-align: right;\">\n",
       "      <th></th>\n",
       "      <th>area_type</th>\n",
       "      <th>location</th>\n",
       "      <th>total_sqft</th>\n",
       "      <th>bath</th>\n",
       "      <th>balcony</th>\n",
       "      <th>price</th>\n",
       "      <th>BHK</th>\n",
       "    </tr>\n",
       "  </thead>\n",
       "  <tbody>\n",
       "    <tr>\n",
       "      <th>0</th>\n",
       "      <td>Super built-up  Area</td>\n",
       "      <td>Electronic City Phase II</td>\n",
       "      <td>1056</td>\n",
       "      <td>2.0</td>\n",
       "      <td>1.0</td>\n",
       "      <td>39.07</td>\n",
       "      <td>2</td>\n",
       "    </tr>\n",
       "    <tr>\n",
       "      <th>1</th>\n",
       "      <td>Plot  Area</td>\n",
       "      <td>Chikka Tirupathi</td>\n",
       "      <td>2600</td>\n",
       "      <td>5.0</td>\n",
       "      <td>3.0</td>\n",
       "      <td>120.00</td>\n",
       "      <td>4</td>\n",
       "    </tr>\n",
       "    <tr>\n",
       "      <th>2</th>\n",
       "      <td>Built-up  Area</td>\n",
       "      <td>Uttarahalli</td>\n",
       "      <td>1440</td>\n",
       "      <td>2.0</td>\n",
       "      <td>3.0</td>\n",
       "      <td>62.00</td>\n",
       "      <td>3</td>\n",
       "    </tr>\n",
       "    <tr>\n",
       "      <th>3</th>\n",
       "      <td>Super built-up  Area</td>\n",
       "      <td>Lingadheeranahalli</td>\n",
       "      <td>1521</td>\n",
       "      <td>3.0</td>\n",
       "      <td>1.0</td>\n",
       "      <td>95.00</td>\n",
       "      <td>3</td>\n",
       "    </tr>\n",
       "    <tr>\n",
       "      <th>4</th>\n",
       "      <td>Super built-up  Area</td>\n",
       "      <td>Kothanur</td>\n",
       "      <td>1200</td>\n",
       "      <td>2.0</td>\n",
       "      <td>1.0</td>\n",
       "      <td>51.00</td>\n",
       "      <td>2</td>\n",
       "    </tr>\n",
       "  </tbody>\n",
       "</table>\n",
       "</div>"
      ],
      "text/plain": [
       "              area_type                  location total_sqft  bath  balcony  \\\n",
       "0  Super built-up  Area  Electronic City Phase II       1056   2.0      1.0   \n",
       "1            Plot  Area          Chikka Tirupathi       2600   5.0      3.0   \n",
       "2        Built-up  Area               Uttarahalli       1440   2.0      3.0   \n",
       "3  Super built-up  Area        Lingadheeranahalli       1521   3.0      1.0   \n",
       "4  Super built-up  Area                  Kothanur       1200   2.0      1.0   \n",
       "\n",
       "    price  BHK  \n",
       "0   39.07    2  \n",
       "1  120.00    4  \n",
       "2   62.00    3  \n",
       "3   95.00    3  \n",
       "4   51.00    2  "
      ]
     },
     "execution_count": 13,
     "metadata": {},
     "output_type": "execute_result"
    }
   ],
   "source": [
    "Data_frame['BHK'] = Data_frame['size'].apply(lambda x: int(x.split(' ')[0]))\n",
    "Data_frame.drop(['size'], axis=1, inplace=True)\n",
    "Data_frame.head()"
   ]
  },
  {
   "cell_type": "markdown",
   "id": "832eca6e-3b8a-4986-b010-d46e30fe14d9",
   "metadata": {},
   "source": [
    "#### Prob3 \n",
    "##### total_sqft should be float or numeric but here it is object [ because of dim1-dim2 input ] [and inputs like \n",
    "##### sq Yards, Grounds, etc..]\n",
    "##### The data is Not Structured\n",
    "#### Solution  \n",
    "##### so the best way would be to find an avg value of all dim1-dim2 input and replace it \n",
    "##### and convert the different types of meaurement to sqft\n",
    "##### while doing so,  all the values going in the total_sqft feature will make the data type of that feature -> float "
   ]
  },
  {
   "cell_type": "code",
   "execution_count": 14,
   "id": "23bada5c-f9f1-4ac9-89a5-757f3fb50f28",
   "metadata": {},
   "outputs": [
    {
     "name": "stdout",
     "output_type": "stream",
     "text": [
      "1200           843\n",
      "1100           221\n",
      "1500           204\n",
      "2400           195\n",
      "600            180\n",
      "              ... \n",
      "1520 - 1759      1\n",
      "695              1\n",
      "1445 - 1455      1\n",
      "929 - 1078       1\n",
      "396              1\n",
      "Name: total_sqft, Length: 2067, dtype: int64 \n",
      "\n",
      " ['1056' '2600' '1440' ... '1133 - 1384' '774' '4689']\n"
     ]
    }
   ],
   "source": [
    "print(f\"{Data_frame['total_sqft'].value_counts()} \\n\\n {Data_frame['total_sqft'].unique()}\")"
   ]
  },
  {
   "cell_type": "code",
   "execution_count": 15,
   "id": "f47b7fdb-b5bb-4ddd-b305-c89475617f70",
   "metadata": {},
   "outputs": [],
   "source": [
    "# We can convert these values to float but values with ranges will give us error so we can create a filter type function\n",
    "\n",
    "def is_float(x):\n",
    "    try:\n",
    "        float(x)\n",
    "    except:\n",
    "        return False\n",
    "    return True\n",
    "\n",
    "~Data_frame['total_sqft'].apply(is_float)\n",
    "Temp_df = Data_frame[~Data_frame['total_sqft'].apply(is_float)]\n"
   ]
  },
  {
   "cell_type": "code",
   "execution_count": 16,
   "id": "134a19ba-89f6-442d-b32e-c2251d623166",
   "metadata": {},
   "outputs": [
    {
     "data": {
      "text/plain": [
       "142.61Sq. Meter    2\n",
       "188.89Sq. Yards    1\n",
       "1100Sq. Meter      1\n",
       "24Sq. Meter        1\n",
       "142.84Sq. Meter    1\n",
       "38Guntha           1\n",
       "300Sq. Yards       1\n",
       "1574Sq. Yards      1\n",
       "84.53Sq. Meter     1\n",
       "2940Sq. Yards      1\n",
       "167Sq. Meter       1\n",
       "697Sq. Meter       1\n",
       "45Sq. Yards        1\n",
       "3040Sq. Meter      1\n",
       "1100Sq. Yards      1\n",
       "1Grounds           1\n",
       "45.06Sq. Meter     1\n",
       "86.72Sq. Meter     1\n",
       "132Sq. Yards       1\n",
       "133.3Sq. Yards     1\n",
       "151.11Sq. Yards    1\n",
       "120Sq. Yards       1\n",
       "1.25Acres          1\n",
       "117Sq. Yards       1\n",
       "78.03Sq. Meter     1\n",
       "500Sq. Yards       1\n",
       "3Cents             1\n",
       "361.33Sq. Yards    1\n",
       "2Acres             1\n",
       "1.26Acres          1\n",
       "6Acres             1\n",
       "15Acres            1\n",
       "4125Perch          1\n",
       "2.09Acres          1\n",
       "5.31Acres          1\n",
       "315Sq. Yards       1\n",
       "1500Sq. Meter      1\n",
       "204Sq. Meter       1\n",
       "1500Cents          1\n",
       "34.46Sq. Meter     1\n",
       "122Sq. Yards       1\n",
       "30Acres            1\n",
       "716Sq. Meter       1\n",
       "1000Sq. Meter      1\n",
       "24Guntha           1\n",
       "Name: total_sqft, dtype: int64"
      ]
     },
     "execution_count": 16,
     "metadata": {},
     "output_type": "execute_result"
    }
   ],
   "source": [
    "def check_abnormal(x):\n",
    "    if '-' in x:\n",
    "        return False\n",
    "    else:\n",
    "        return True\n",
    "\n",
    "Temp_df['total_sqft'][Temp_df['total_sqft'].apply(check_abnormal)].value_counts()"
   ]
  },
  {
   "cell_type": "code",
   "execution_count": 17,
   "id": "a105e78d-18a0-49fe-be0f-c8b7aaaf1173",
   "metadata": {},
   "outputs": [
    {
     "data": {
      "text/plain": [
       "45"
      ]
     },
     "execution_count": 17,
     "metadata": {},
     "output_type": "execute_result"
    }
   ],
   "source": [
    "len(Temp_df['total_sqft'][Temp_df['total_sqft'].apply(check_abnormal)].unique())"
   ]
  },
  {
   "cell_type": "markdown",
   "id": "f4ce71d7-0bd5-4189-ac75-728954f223e2",
   "metadata": {},
   "source": [
    "##### Sq.Meter, Perch, Sq.Yards, Acres, Cents, Guntha, Grounds.\n",
    "##### 1 Sq.Meter = 10.76 sqft\n",
    "##### 1 Perch = 272.25 sqft\n",
    "##### 1 Sq.Yard = 9 sqft\n",
    "##### 1 Acre = 43560.04 sqft\n",
    "##### 1 Cent = 435.56 sqft\n",
    "##### 1 Guntha = 1089 sqft\n",
    "##### 1 Ground = 2400.35 sqft"
   ]
  },
  {
   "cell_type": "code",
   "execution_count": 18,
   "id": "50872c8a-c1c8-40bd-a38a-40628a810fc7",
   "metadata": {},
   "outputs": [],
   "source": [
    "#Creating Function to Convert ranges to a single Value \n",
    "\n",
    "def abnormal_change(x):\n",
    "    if \"Sq. Meter\" in x:\n",
    "        num = x.split(\"S\")\n",
    "        result = float(num[0]) * 10.76\n",
    "        return result\n",
    "    if \"Perch\" in x:\n",
    "        num = x.split(\"P\")\n",
    "        result = float(num[0]) * 272.25\n",
    "        return result\n",
    "    if \"Sq. Yards\" in x:\n",
    "        num = x.split(\"S\")\n",
    "        result = float(num[0]) * 9.00\n",
    "        return result\n",
    "    if \"Acres\" in x:\n",
    "        num = x.split(\"A\")\n",
    "        result = float(num[0]) * 43560.04\n",
    "        return result\n",
    "    if \"Cents\" in x:\n",
    "        num = x.split(\"C\")\n",
    "        result = float(num[0]) * 435.56\n",
    "        return result\n",
    "    if \"Guntha\" in x:\n",
    "        num = x.split(\"G\")\n",
    "        result = float(num[0]) * 1089.00\n",
    "        return result\n",
    "    if \"Grounds\" in x:\n",
    "        num = x.split(\"G\")\n",
    "        result = float(num[0]) * 2400.35\n",
    "        return result\n",
    "\n",
    "def convert_range_to_num(x):\n",
    "    if '-' in x:\n",
    "        num = x.split('-')\n",
    "        result1 = (float(num[0]) + float(num[1]))/2\n",
    "    else:\n",
    "        bool_val = x.upper().isupper()\n",
    "        if bool_val == True:\n",
    "            result1 = abnormal_change(x)\n",
    "        else:\n",
    "            result1 = float(x)\n",
    "    return result1\n",
    "\n",
    "Data_frame['total_sqft'] = Data_frame['total_sqft'].apply(convert_range_to_num)"
   ]
  },
  {
   "cell_type": "code",
   "execution_count": 19,
   "id": "090e0af7-d9a5-405e-8d6b-1998a68ee288",
   "metadata": {},
   "outputs": [
    {
     "data": {
      "text/plain": [
       "area_type     0\n",
       "location      0\n",
       "total_sqft    0\n",
       "bath          0\n",
       "balcony       0\n",
       "price         0\n",
       "BHK           0\n",
       "dtype: int64"
      ]
     },
     "execution_count": 19,
     "metadata": {},
     "output_type": "execute_result"
    }
   ],
   "source": [
    "Data_frame.isnull().sum()"
   ]
  },
  {
   "cell_type": "code",
   "execution_count": 20,
   "id": "7d2ecd86-7ca5-4c2b-9832-ed73f346ac20",
   "metadata": {},
   "outputs": [
    {
     "name": "stdout",
     "output_type": "stream",
     "text": [
      "<class 'pandas.core.frame.DataFrame'>\n",
      "Int64Index: 13246 entries, 0 to 13319\n",
      "Data columns (total 7 columns):\n",
      " #   Column      Non-Null Count  Dtype  \n",
      "---  ------      --------------  -----  \n",
      " 0   area_type   13246 non-null  object \n",
      " 1   location    13246 non-null  object \n",
      " 2   total_sqft  13246 non-null  float64\n",
      " 3   bath        13246 non-null  float64\n",
      " 4   balcony     13246 non-null  float64\n",
      " 5   price       13246 non-null  float64\n",
      " 6   BHK         13246 non-null  int64  \n",
      "dtypes: float64(4), int64(1), object(2)\n",
      "memory usage: 827.9+ KB\n"
     ]
    }
   ],
   "source": [
    "Data_frame.info()"
   ]
  },
  {
   "cell_type": "code",
   "execution_count": 21,
   "id": "d5f6db40-887c-45b3-b15c-9482fcb5d47e",
   "metadata": {},
   "outputs": [
    {
     "data": {
      "text/plain": [
       "Index(['area_type', 'location', 'total_sqft', 'bathroom', 'balcony', 'price',\n",
       "       'BHK'],\n",
       "      dtype='object')"
      ]
     },
     "execution_count": 21,
     "metadata": {},
     "output_type": "execute_result"
    }
   ],
   "source": [
    "Data_frame.rename(columns = {'bath':'bathroom'}, inplace=True)\n",
    "Data_frame.columns"
   ]
  },
  {
   "cell_type": "code",
   "execution_count": 22,
   "id": "873f5afa-8384-45b2-a098-90871704545d",
   "metadata": {},
   "outputs": [
    {
     "data": {
      "text/html": [
       "<div>\n",
       "<style scoped>\n",
       "    .dataframe tbody tr th:only-of-type {\n",
       "        vertical-align: middle;\n",
       "    }\n",
       "\n",
       "    .dataframe tbody tr th {\n",
       "        vertical-align: top;\n",
       "    }\n",
       "\n",
       "    .dataframe thead th {\n",
       "        text-align: right;\n",
       "    }\n",
       "</style>\n",
       "<table border=\"1\" class=\"dataframe\">\n",
       "  <thead>\n",
       "    <tr style=\"text-align: right;\">\n",
       "      <th></th>\n",
       "      <th>area_type</th>\n",
       "      <th>location</th>\n",
       "      <th>total_sqft</th>\n",
       "      <th>bathroom</th>\n",
       "      <th>balcony</th>\n",
       "      <th>price</th>\n",
       "      <th>BHK</th>\n",
       "      <th>price_per_sqft</th>\n",
       "    </tr>\n",
       "  </thead>\n",
       "  <tbody>\n",
       "    <tr>\n",
       "      <th>0</th>\n",
       "      <td>Super built-up  Area</td>\n",
       "      <td>Electronic City Phase II</td>\n",
       "      <td>1056.0</td>\n",
       "      <td>2.0</td>\n",
       "      <td>1.0</td>\n",
       "      <td>39.07</td>\n",
       "      <td>2</td>\n",
       "      <td>3699.810606</td>\n",
       "    </tr>\n",
       "    <tr>\n",
       "      <th>1</th>\n",
       "      <td>Plot  Area</td>\n",
       "      <td>Chikka Tirupathi</td>\n",
       "      <td>2600.0</td>\n",
       "      <td>5.0</td>\n",
       "      <td>3.0</td>\n",
       "      <td>120.00</td>\n",
       "      <td>4</td>\n",
       "      <td>4615.384615</td>\n",
       "    </tr>\n",
       "    <tr>\n",
       "      <th>2</th>\n",
       "      <td>Built-up  Area</td>\n",
       "      <td>Uttarahalli</td>\n",
       "      <td>1440.0</td>\n",
       "      <td>2.0</td>\n",
       "      <td>3.0</td>\n",
       "      <td>62.00</td>\n",
       "      <td>3</td>\n",
       "      <td>4305.555556</td>\n",
       "    </tr>\n",
       "    <tr>\n",
       "      <th>3</th>\n",
       "      <td>Super built-up  Area</td>\n",
       "      <td>Lingadheeranahalli</td>\n",
       "      <td>1521.0</td>\n",
       "      <td>3.0</td>\n",
       "      <td>1.0</td>\n",
       "      <td>95.00</td>\n",
       "      <td>3</td>\n",
       "      <td>6245.890861</td>\n",
       "    </tr>\n",
       "    <tr>\n",
       "      <th>4</th>\n",
       "      <td>Super built-up  Area</td>\n",
       "      <td>Kothanur</td>\n",
       "      <td>1200.0</td>\n",
       "      <td>2.0</td>\n",
       "      <td>1.0</td>\n",
       "      <td>51.00</td>\n",
       "      <td>2</td>\n",
       "      <td>4250.000000</td>\n",
       "    </tr>\n",
       "  </tbody>\n",
       "</table>\n",
       "</div>"
      ],
      "text/plain": [
       "              area_type                  location  total_sqft  bathroom  \\\n",
       "0  Super built-up  Area  Electronic City Phase II      1056.0       2.0   \n",
       "1            Plot  Area          Chikka Tirupathi      2600.0       5.0   \n",
       "2        Built-up  Area               Uttarahalli      1440.0       2.0   \n",
       "3  Super built-up  Area        Lingadheeranahalli      1521.0       3.0   \n",
       "4  Super built-up  Area                  Kothanur      1200.0       2.0   \n",
       "\n",
       "   balcony   price  BHK  price_per_sqft  \n",
       "0      1.0   39.07    2     3699.810606  \n",
       "1      3.0  120.00    4     4615.384615  \n",
       "2      3.0   62.00    3     4305.555556  \n",
       "3      1.0   95.00    3     6245.890861  \n",
       "4      1.0   51.00    2     4250.000000  "
      ]
     },
     "execution_count": 22,
     "metadata": {},
     "output_type": "execute_result"
    }
   ],
   "source": [
    "# Adding a Column / Feature which is important for future use [outlier treatment ] + gives a proper insight of a property\n",
    "Data_frame['price_per_sqft'] = Data_frame['price']*100000 / Data_frame['total_sqft']\n",
    "Data_frame.head()"
   ]
  },
  {
   "cell_type": "markdown",
   "id": "94c914d8-d4af-442d-96a5-b57443ac5fdd",
   "metadata": {},
   "source": [
    "#### Now we have 2 Categorical values , They are required in encoding\n",
    "##### Label encoding causes error in order of Data - which we cannot solve [as it depends on natural order of alphabets]\n",
    "##### One-hot encoding can cause error in dimensions [increasing dimensions, known as dimensionality curse ]\n",
    "##### we can decrease them by replacing those enteries which have low count \n",
    "##### [as they will not be that significant in prediction] as others [Putting them in a general category]\n",
    "\n",
    "##### area_type will not cause any problems\n",
    "##### Have to check for location "
   ]
  },
  {
   "cell_type": "code",
   "execution_count": 23,
   "id": "39163401-d42b-4543-b1c9-c215b4ad5d32",
   "metadata": {},
   "outputs": [
    {
     "name": "stdout",
     "output_type": "stream",
     "text": [
      "1304\n"
     ]
    },
    {
     "data": {
      "text/plain": [
       "location\n",
       "Whitefield                     534\n",
       "Sarjapur  Road                 392\n",
       "Electronic City                302\n",
       "Kanakpura Road                 266\n",
       "Thanisandra                    233\n",
       "Yelahanka                      210\n",
       "Uttarahalli                    186\n",
       "Hebbal                         176\n",
       "Marathahalli                   175\n",
       "Raja Rajeshwari Nagar          171\n",
       "Bannerghatta Road              152\n",
       "Hennur Road                    150\n",
       "7th Phase JP Nagar             149\n",
       "Haralur Road                   141\n",
       "Electronic City Phase II       131\n",
       "Rajaji Nagar                   106\n",
       "Chandapura                      98\n",
       "Bellandur                       96\n",
       "KR Puram                        88\n",
       "Hoodi                           88\n",
       "Electronics City Phase 1        87\n",
       "Yeshwanthpur                    85\n",
       "Begur Road                      84\n",
       "Sarjapur                        81\n",
       "Kasavanhalli                    79\n",
       "Harlur                          79\n",
       "Hormavu                         74\n",
       "Banashankari                    74\n",
       "Ramamurthy Nagar                73\n",
       "Kengeri                         73\n",
       "Hosa Road                       72\n",
       "Koramangala                     72\n",
       "Varthur                         70\n",
       "Old Madras Road                 70\n",
       "Jakkur                          68\n",
       "JP Nagar                        67\n",
       "Kothanur                        66\n",
       "Kaggadasapura                   64\n",
       "Nagarbhavi                      63\n",
       "Thigalarapalya                  62\n",
       "Akshaya Nagar                   62\n",
       "TC Palaya                       60\n",
       "8th Phase JP Nagar              57\n",
       "Malleshwaram                    57\n",
       "Rachenahalli                    56\n",
       "Budigere                        54\n",
       "HSR Layout                      53\n",
       "Jalahalli                       52\n",
       "Hennur                          52\n",
       "Hulimavu                        52\n",
       "Jigani                          52\n",
       "Panathur                        51\n",
       "Bisuvanahalli                   51\n",
       "Ramagondanahalli                50\n",
       "Hegde Nagar                     49\n",
       "Gottigere                       48\n",
       "Mysore Road                     48\n",
       "Bhoganhalli                     48\n",
       "Kundalahalli                    47\n",
       "Brookefield                     47\n",
       "Hosur Road                      46\n",
       "Balagere                        45\n",
       "Indira Nagar                    44\n",
       "9th Phase JP Nagar              43\n",
       "Vidyaranyapura                  43\n",
       "Vittasandra                     43\n",
       "Subramanyapura                  43\n",
       "CV Raman Nagar                  43\n",
       "Vijayanagar                     42\n",
       "Kanakapura                      42\n",
       "Attibele                        42\n",
       "Horamavu Agara                  42\n",
       "Kadugodi                        42\n",
       "Yelahanka New Town              41\n",
       "Devanahalli                     40\n",
       "Kengeri Satellite Town          40\n",
       "Talaghattapura                  40\n",
       "Sahakara Nagar                  39\n",
       "5th Phase JP Nagar              39\n",
       "Green Glen Layout               39\n",
       "Kudlu Gate                      38\n",
       "Channasandra                    38\n",
       "Bommasandra                     37\n",
       "Frazer Town                     36\n",
       "Lakshminarayana Pura            36\n",
       "R.T. Nagar                      36\n",
       "Hosakerehalli                   36\n",
       "Anekal                          35\n",
       "Bommanahalli                    34\n",
       "Hebbal Kempapura                34\n",
       "Tumkur Road                     33\n",
       "Old Airport Road                33\n",
       "Kalena Agrahara                 33\n",
       "Basavangudi                     31\n",
       "Ambedkar Nagar                  31\n",
       "Mahadevpura                     31\n",
       "Kumaraswami Layout              30\n",
       "Doddathoguru                    30\n",
       "Chikkalasandra                  30\n",
       "Ananth Nagar                    30\n",
       "BTM 2nd Stage                   29\n",
       "Dodda Nekkundi                  29\n",
       "Kammasandra                     29\n",
       "Kudlu                           29\n",
       "Padmanabhanagar                 28\n",
       "Somasundara Palya               28\n",
       "Horamavu Banaswadi              28\n",
       "Ambalipura                      27\n",
       "Singasandra                     27\n",
       "Kodichikkanahalli               27\n",
       "Banashankari Stage III          27\n",
       "Anandapura                      27\n",
       "Gubbalala                       26\n",
       "Bommasandra Industrial Area     26\n",
       "Kothannur                       26\n",
       "Margondanahalli                 26\n",
       "Choodasandra                    26\n",
       "Iblur Village                   25\n",
       "Kogilu                          25\n",
       "Magadi Road                     25\n",
       "Babusapalaya                    25\n",
       "1st Phase JP Nagar              25\n",
       "Seegehalli                      25\n",
       "2nd Stage Nagarbhavi            24\n",
       "Abbigere                        24\n",
       "Battarahalli                    24\n",
       "Amruthahalli                    24\n",
       "Munnekollal                     24\n",
       "Ardendale                       24\n",
       "Kambipura                       24\n",
       "6th Phase JP Nagar              23\n",
       "EPIP Zone                       23\n",
       "Lingadheeranahalli              23\n",
       "Kaval Byrasandra                22\n",
       "Kathriguppe                     22\n",
       "Gunjur                          22\n",
       "Thubarahalli                    22\n",
       "Domlur                          22\n",
       "Sonnenahalli                    22\n",
       "Rayasandra                      22\n",
       "Ulsoor                          21\n",
       "Hoskote                         21\n",
       "Basaveshwara Nagar              21\n",
       "Poorna Pragna Layout            20\n",
       "Binny Pete                      20\n",
       "Yelachenahalli                  20\n",
       "Sanjay nagar                    20\n",
       "HBR Layout                      20\n",
       "Pai Layout                      19\n",
       "Kalyan nagar                    19\n",
       "Kaggalipura                     19\n",
       "OMBR Layout                     19\n",
       "HRBR Layout                     19\n",
       "Billekahalli                    18\n",
       "Kannamangala                    18\n",
       "Garudachar Palya                18\n",
       "Dasarahalli                     17\n",
       "Sarjapura - Attibele Road       17\n",
       "Kaikondrahalli                  17\n",
       "Chikka Tirupathi                17\n",
       "Bannerghatta                    17\n",
       "Malleshpalya                    17\n",
       "Arekere                         17\n",
       "Kammanahalli                    17\n",
       "BTM Layout                      17\n",
       "Nagavara                        17\n",
       "Begur                           16\n",
       "Banashankari Stage II           16\n",
       "Dasanapura                      16\n",
       "Judicial Layout                 16\n",
       "Anjanapura                      16\n",
       "Kereguddadahalli                16\n",
       "Sector 2 HSR Layout             16\n",
       "Mallasandra                     16\n",
       "Banaswadi                       16\n",
       "Banashankari Stage VI           16\n",
       "Kenchenahalli                   16\n",
       "Cooke Town                      16\n",
       "Parappana Agrahara              16\n",
       "Kasturi Nagar                   16\n",
       "Nagavarapalya                   15\n",
       "Kodihalli                       15\n",
       "Benson Town                     15\n",
       "Chamrajpet                      15\n",
       "Varthur Road                    15\n",
       " Devarachikkanahalli            14\n",
       "1st Block Jayanagar             14\n",
       "Sarakki Nagar                   14\n",
       "Sultan Palaya                   14\n",
       "Doddakallasandra                14\n",
       "NRI Layout                      14\n",
       "Jalahalli East                  14\n",
       "NGR Layout                      14\n",
       "Murugeshpalya                   14\n",
       "Giri Nagar                      14\n",
       "Kadubeesanahalli                13\n",
       "Cunningham Road                 13\n",
       "BEML Layout                     13\n",
       "Neeladri Nagar                  13\n",
       "Vishveshwarya Layout            13\n",
       "Name: location, dtype: int64"
      ]
     },
     "execution_count": 23,
     "metadata": {},
     "output_type": "execute_result"
    }
   ],
   "source": [
    "count_location = len(Data_frame['location'].unique())\n",
    "print(count_location)\n",
    "pd.set_option('display.max_rows', count_location)\n",
    "Location_data = Data_frame.groupby('location')['location'].agg('count').sort_values(ascending=False)\n",
    "Location_data.head(200)"
   ]
  },
  {
   "cell_type": "code",
   "execution_count": 24,
   "id": "f4a9dce9-ef98-4f6d-9351-a0b376dddeca",
   "metadata": {},
   "outputs": [
    {
     "data": {
      "text/plain": [
       "1124"
      ]
     },
     "execution_count": 24,
     "metadata": {},
     "output_type": "execute_result"
    }
   ],
   "source": [
    "filt = Location_data <= 15\n",
    "len(Location_data[filt])"
   ]
  },
  {
   "cell_type": "code",
   "execution_count": 25,
   "id": "1786d444-ceb1-4ae6-bb66-b7bea9d69817",
   "metadata": {},
   "outputs": [
    {
     "data": {
      "text/plain": [
       "location\n",
       "Nagavarapalya    15\n",
       "Kodihalli        15\n",
       "Benson Town      15\n",
       "Chamrajpet       15\n",
       "Varthur Road     15\n",
       "Name: location, dtype: int64"
      ]
     },
     "execution_count": 25,
     "metadata": {},
     "output_type": "execute_result"
    }
   ],
   "source": [
    "Location_data_less_than_15 = Location_data[filt]\n",
    "Location_data_less_than_15.head()"
   ]
  },
  {
   "cell_type": "code",
   "execution_count": 26,
   "id": "70f94121-26b5-4dbc-833a-275d6015233f",
   "metadata": {},
   "outputs": [
    {
     "data": {
      "text/plain": [
       "location\n",
       "Konappana Agrahara                    1\n",
       "Kodanda Reddy Layout                  1\n",
       "Kirloskar layout, Basaveshwarnagar    1\n",
       "Kengeri Satellite Town Stage II       1\n",
       " Anekal                               1\n",
       "Name: location, dtype: int64"
      ]
     },
     "execution_count": 26,
     "metadata": {},
     "output_type": "execute_result"
    }
   ],
   "source": [
    "Location_data_less_than_15.tail()"
   ]
  },
  {
   "cell_type": "code",
   "execution_count": 27,
   "id": "4a6c9e6d-b3dd-492b-a26a-62dce0a66d8c",
   "metadata": {},
   "outputs": [
    {
     "name": "stdout",
     "output_type": "stream",
     "text": [
      "1304\n",
      "181\n"
     ]
    },
    {
     "data": {
      "text/html": [
       "<div>\n",
       "<style scoped>\n",
       "    .dataframe tbody tr th:only-of-type {\n",
       "        vertical-align: middle;\n",
       "    }\n",
       "\n",
       "    .dataframe tbody tr th {\n",
       "        vertical-align: top;\n",
       "    }\n",
       "\n",
       "    .dataframe thead th {\n",
       "        text-align: right;\n",
       "    }\n",
       "</style>\n",
       "<table border=\"1\" class=\"dataframe\">\n",
       "  <thead>\n",
       "    <tr style=\"text-align: right;\">\n",
       "      <th></th>\n",
       "      <th>area_type</th>\n",
       "      <th>location</th>\n",
       "      <th>total_sqft</th>\n",
       "      <th>bathroom</th>\n",
       "      <th>balcony</th>\n",
       "      <th>price</th>\n",
       "      <th>BHK</th>\n",
       "      <th>price_per_sqft</th>\n",
       "    </tr>\n",
       "  </thead>\n",
       "  <tbody>\n",
       "    <tr>\n",
       "      <th>0</th>\n",
       "      <td>Super built-up  Area</td>\n",
       "      <td>Electronic City Phase II</td>\n",
       "      <td>1056.0</td>\n",
       "      <td>2.0</td>\n",
       "      <td>1.000000</td>\n",
       "      <td>39.07</td>\n",
       "      <td>2</td>\n",
       "      <td>3699.810606</td>\n",
       "    </tr>\n",
       "    <tr>\n",
       "      <th>1</th>\n",
       "      <td>Plot  Area</td>\n",
       "      <td>Chikka Tirupathi</td>\n",
       "      <td>2600.0</td>\n",
       "      <td>5.0</td>\n",
       "      <td>3.000000</td>\n",
       "      <td>120.00</td>\n",
       "      <td>4</td>\n",
       "      <td>4615.384615</td>\n",
       "    </tr>\n",
       "    <tr>\n",
       "      <th>2</th>\n",
       "      <td>Built-up  Area</td>\n",
       "      <td>Uttarahalli</td>\n",
       "      <td>1440.0</td>\n",
       "      <td>2.0</td>\n",
       "      <td>3.000000</td>\n",
       "      <td>62.00</td>\n",
       "      <td>3</td>\n",
       "      <td>4305.555556</td>\n",
       "    </tr>\n",
       "    <tr>\n",
       "      <th>3</th>\n",
       "      <td>Super built-up  Area</td>\n",
       "      <td>Lingadheeranahalli</td>\n",
       "      <td>1521.0</td>\n",
       "      <td>3.0</td>\n",
       "      <td>1.000000</td>\n",
       "      <td>95.00</td>\n",
       "      <td>3</td>\n",
       "      <td>6245.890861</td>\n",
       "    </tr>\n",
       "    <tr>\n",
       "      <th>4</th>\n",
       "      <td>Super built-up  Area</td>\n",
       "      <td>Kothanur</td>\n",
       "      <td>1200.0</td>\n",
       "      <td>2.0</td>\n",
       "      <td>1.000000</td>\n",
       "      <td>51.00</td>\n",
       "      <td>2</td>\n",
       "      <td>4250.000000</td>\n",
       "    </tr>\n",
       "    <tr>\n",
       "      <th>5</th>\n",
       "      <td>Super built-up  Area</td>\n",
       "      <td>Whitefield</td>\n",
       "      <td>1170.0</td>\n",
       "      <td>2.0</td>\n",
       "      <td>1.000000</td>\n",
       "      <td>38.00</td>\n",
       "      <td>2</td>\n",
       "      <td>3247.863248</td>\n",
       "    </tr>\n",
       "    <tr>\n",
       "      <th>6</th>\n",
       "      <td>Super built-up  Area</td>\n",
       "      <td>Old Airport Road</td>\n",
       "      <td>2732.0</td>\n",
       "      <td>4.0</td>\n",
       "      <td>1.584343</td>\n",
       "      <td>204.00</td>\n",
       "      <td>4</td>\n",
       "      <td>7467.057101</td>\n",
       "    </tr>\n",
       "    <tr>\n",
       "      <th>7</th>\n",
       "      <td>Super built-up  Area</td>\n",
       "      <td>Rajaji Nagar</td>\n",
       "      <td>3300.0</td>\n",
       "      <td>4.0</td>\n",
       "      <td>1.584343</td>\n",
       "      <td>600.00</td>\n",
       "      <td>4</td>\n",
       "      <td>18181.818182</td>\n",
       "    </tr>\n",
       "    <tr>\n",
       "      <th>8</th>\n",
       "      <td>Super built-up  Area</td>\n",
       "      <td>Marathahalli</td>\n",
       "      <td>1310.0</td>\n",
       "      <td>3.0</td>\n",
       "      <td>1.000000</td>\n",
       "      <td>63.25</td>\n",
       "      <td>3</td>\n",
       "      <td>4828.244275</td>\n",
       "    </tr>\n",
       "    <tr>\n",
       "      <th>9</th>\n",
       "      <td>Plot  Area</td>\n",
       "      <td>Other</td>\n",
       "      <td>1020.0</td>\n",
       "      <td>6.0</td>\n",
       "      <td>1.584343</td>\n",
       "      <td>370.00</td>\n",
       "      <td>6</td>\n",
       "      <td>36274.509804</td>\n",
       "    </tr>\n",
       "  </tbody>\n",
       "</table>\n",
       "</div>"
      ],
      "text/plain": [
       "              area_type                  location  total_sqft  bathroom  \\\n",
       "0  Super built-up  Area  Electronic City Phase II      1056.0       2.0   \n",
       "1            Plot  Area          Chikka Tirupathi      2600.0       5.0   \n",
       "2        Built-up  Area               Uttarahalli      1440.0       2.0   \n",
       "3  Super built-up  Area        Lingadheeranahalli      1521.0       3.0   \n",
       "4  Super built-up  Area                  Kothanur      1200.0       2.0   \n",
       "5  Super built-up  Area                Whitefield      1170.0       2.0   \n",
       "6  Super built-up  Area          Old Airport Road      2732.0       4.0   \n",
       "7  Super built-up  Area              Rajaji Nagar      3300.0       4.0   \n",
       "8  Super built-up  Area              Marathahalli      1310.0       3.0   \n",
       "9            Plot  Area                     Other      1020.0       6.0   \n",
       "\n",
       "    balcony   price  BHK  price_per_sqft  \n",
       "0  1.000000   39.07    2     3699.810606  \n",
       "1  3.000000  120.00    4     4615.384615  \n",
       "2  3.000000   62.00    3     4305.555556  \n",
       "3  1.000000   95.00    3     6245.890861  \n",
       "4  1.000000   51.00    2     4250.000000  \n",
       "5  1.000000   38.00    2     3247.863248  \n",
       "6  1.584343  204.00    4     7467.057101  \n",
       "7  1.584343  600.00    4    18181.818182  \n",
       "8  1.000000   63.25    3     4828.244275  \n",
       "9  1.584343  370.00    6    36274.509804  "
      ]
     },
     "execution_count": 27,
     "metadata": {},
     "output_type": "execute_result"
    }
   ],
   "source": [
    "Data_frame['location'] = Data_frame['location'].apply(lambda x: 'Other' if x in Location_data_less_than_15 else x)\n",
    "print(count_location)\n",
    "count_location_dimen_red = len(Data_frame['location'].unique())\n",
    "print(count_location_dimen_red)\n",
    "Data_frame.head(10)"
   ]
  },
  {
   "cell_type": "markdown",
   "id": "6abab4e8-3047-464e-b101-a0d10f01ef89",
   "metadata": {},
   "source": [
    "# <font color ='blue'>Outlier Detection and Removal</font> \n",
    "\n",
    "##### Outliers are those data points those are way off from our main data set [ abnormal data points ]\n",
    "##### Now they can be of\n",
    "##### Type1->  Data points / numerical \n",
    "##### Type2 -> Domain error [ abnormality in the Domain Knowledge ] \n",
    "##### Type1 and Type2 are similar, Not that Different"
   ]
  },
  {
   "cell_type": "code",
   "execution_count": 28,
   "id": "80776be5-e1cc-4326-a4e1-c5bca537ff72",
   "metadata": {},
   "outputs": [
    {
     "data": {
      "text/html": [
       "<div>\n",
       "<style scoped>\n",
       "    .dataframe tbody tr th:only-of-type {\n",
       "        vertical-align: middle;\n",
       "    }\n",
       "\n",
       "    .dataframe tbody tr th {\n",
       "        vertical-align: top;\n",
       "    }\n",
       "\n",
       "    .dataframe thead th {\n",
       "        text-align: right;\n",
       "    }\n",
       "</style>\n",
       "<table border=\"1\" class=\"dataframe\">\n",
       "  <thead>\n",
       "    <tr style=\"text-align: right;\">\n",
       "      <th></th>\n",
       "      <th>total_sqft</th>\n",
       "      <th>bathroom</th>\n",
       "      <th>balcony</th>\n",
       "      <th>price</th>\n",
       "      <th>BHK</th>\n",
       "      <th>price_per_sqft</th>\n",
       "    </tr>\n",
       "  </thead>\n",
       "  <tbody>\n",
       "    <tr>\n",
       "      <th>0</th>\n",
       "      <td>1056.0</td>\n",
       "      <td>2.0</td>\n",
       "      <td>1.000000</td>\n",
       "      <td>39.07</td>\n",
       "      <td>2</td>\n",
       "      <td>3699.810606</td>\n",
       "    </tr>\n",
       "    <tr>\n",
       "      <th>1</th>\n",
       "      <td>2600.0</td>\n",
       "      <td>5.0</td>\n",
       "      <td>3.000000</td>\n",
       "      <td>120.00</td>\n",
       "      <td>4</td>\n",
       "      <td>4615.384615</td>\n",
       "    </tr>\n",
       "    <tr>\n",
       "      <th>2</th>\n",
       "      <td>1440.0</td>\n",
       "      <td>2.0</td>\n",
       "      <td>3.000000</td>\n",
       "      <td>62.00</td>\n",
       "      <td>3</td>\n",
       "      <td>4305.555556</td>\n",
       "    </tr>\n",
       "    <tr>\n",
       "      <th>3</th>\n",
       "      <td>1521.0</td>\n",
       "      <td>3.0</td>\n",
       "      <td>1.000000</td>\n",
       "      <td>95.00</td>\n",
       "      <td>3</td>\n",
       "      <td>6245.890861</td>\n",
       "    </tr>\n",
       "    <tr>\n",
       "      <th>4</th>\n",
       "      <td>1200.0</td>\n",
       "      <td>2.0</td>\n",
       "      <td>1.000000</td>\n",
       "      <td>51.00</td>\n",
       "      <td>2</td>\n",
       "      <td>4250.000000</td>\n",
       "    </tr>\n",
       "    <tr>\n",
       "      <th>5</th>\n",
       "      <td>1170.0</td>\n",
       "      <td>2.0</td>\n",
       "      <td>1.000000</td>\n",
       "      <td>38.00</td>\n",
       "      <td>2</td>\n",
       "      <td>3247.863248</td>\n",
       "    </tr>\n",
       "    <tr>\n",
       "      <th>6</th>\n",
       "      <td>2732.0</td>\n",
       "      <td>4.0</td>\n",
       "      <td>1.584343</td>\n",
       "      <td>204.00</td>\n",
       "      <td>4</td>\n",
       "      <td>7467.057101</td>\n",
       "    </tr>\n",
       "    <tr>\n",
       "      <th>7</th>\n",
       "      <td>3300.0</td>\n",
       "      <td>4.0</td>\n",
       "      <td>1.584343</td>\n",
       "      <td>600.00</td>\n",
       "      <td>4</td>\n",
       "      <td>18181.818182</td>\n",
       "    </tr>\n",
       "    <tr>\n",
       "      <th>8</th>\n",
       "      <td>1310.0</td>\n",
       "      <td>3.0</td>\n",
       "      <td>1.000000</td>\n",
       "      <td>63.25</td>\n",
       "      <td>3</td>\n",
       "      <td>4828.244275</td>\n",
       "    </tr>\n",
       "    <tr>\n",
       "      <th>9</th>\n",
       "      <td>1020.0</td>\n",
       "      <td>6.0</td>\n",
       "      <td>1.584343</td>\n",
       "      <td>370.00</td>\n",
       "      <td>6</td>\n",
       "      <td>36274.509804</td>\n",
       "    </tr>\n",
       "  </tbody>\n",
       "</table>\n",
       "</div>"
      ],
      "text/plain": [
       "   total_sqft  bathroom   balcony   price  BHK  price_per_sqft\n",
       "0      1056.0       2.0  1.000000   39.07    2     3699.810606\n",
       "1      2600.0       5.0  3.000000  120.00    4     4615.384615\n",
       "2      1440.0       2.0  3.000000   62.00    3     4305.555556\n",
       "3      1521.0       3.0  1.000000   95.00    3     6245.890861\n",
       "4      1200.0       2.0  1.000000   51.00    2     4250.000000\n",
       "5      1170.0       2.0  1.000000   38.00    2     3247.863248\n",
       "6      2732.0       4.0  1.584343  204.00    4     7467.057101\n",
       "7      3300.0       4.0  1.584343  600.00    4    18181.818182\n",
       "8      1310.0       3.0  1.000000   63.25    3     4828.244275\n",
       "9      1020.0       6.0  1.584343  370.00    6    36274.509804"
      ]
     },
     "execution_count": 28,
     "metadata": {},
     "output_type": "execute_result"
    }
   ],
   "source": [
    "Data_frame_numeric = Data_frame.select_dtypes(include=np.number)\n",
    "Data_frame_numeric.head(10)"
   ]
  },
  {
   "cell_type": "code",
   "execution_count": 29,
   "id": "f2148c2c-0b46-4c74-ac77-00da2f91d269",
   "metadata": {},
   "outputs": [
    {
     "data": {
      "text/html": [
       "<div>\n",
       "<style scoped>\n",
       "    .dataframe tbody tr th:only-of-type {\n",
       "        vertical-align: middle;\n",
       "    }\n",
       "\n",
       "    .dataframe tbody tr th {\n",
       "        vertical-align: top;\n",
       "    }\n",
       "\n",
       "    .dataframe thead th {\n",
       "        text-align: right;\n",
       "    }\n",
       "</style>\n",
       "<table border=\"1\" class=\"dataframe\">\n",
       "  <thead>\n",
       "    <tr style=\"text-align: right;\">\n",
       "      <th></th>\n",
       "      <th>area_type</th>\n",
       "      <th>location</th>\n",
       "      <th>total_sqft</th>\n",
       "      <th>bathroom</th>\n",
       "      <th>balcony</th>\n",
       "      <th>price</th>\n",
       "      <th>BHK</th>\n",
       "      <th>price_per_sqft</th>\n",
       "    </tr>\n",
       "  </thead>\n",
       "  <tbody>\n",
       "    <tr>\n",
       "      <th>0</th>\n",
       "      <td>Super built-up  Area</td>\n",
       "      <td>Electronic City Phase II</td>\n",
       "      <td>1056.0</td>\n",
       "      <td>2.0</td>\n",
       "      <td>1.000000</td>\n",
       "      <td>39.07</td>\n",
       "      <td>2</td>\n",
       "      <td>3699.810606</td>\n",
       "    </tr>\n",
       "    <tr>\n",
       "      <th>1</th>\n",
       "      <td>Plot  Area</td>\n",
       "      <td>Chikka Tirupathi</td>\n",
       "      <td>2600.0</td>\n",
       "      <td>5.0</td>\n",
       "      <td>3.000000</td>\n",
       "      <td>120.00</td>\n",
       "      <td>4</td>\n",
       "      <td>4615.384615</td>\n",
       "    </tr>\n",
       "    <tr>\n",
       "      <th>2</th>\n",
       "      <td>Built-up  Area</td>\n",
       "      <td>Uttarahalli</td>\n",
       "      <td>1440.0</td>\n",
       "      <td>2.0</td>\n",
       "      <td>3.000000</td>\n",
       "      <td>62.00</td>\n",
       "      <td>3</td>\n",
       "      <td>4305.555556</td>\n",
       "    </tr>\n",
       "    <tr>\n",
       "      <th>3</th>\n",
       "      <td>Super built-up  Area</td>\n",
       "      <td>Lingadheeranahalli</td>\n",
       "      <td>1521.0</td>\n",
       "      <td>3.0</td>\n",
       "      <td>1.000000</td>\n",
       "      <td>95.00</td>\n",
       "      <td>3</td>\n",
       "      <td>6245.890861</td>\n",
       "    </tr>\n",
       "    <tr>\n",
       "      <th>4</th>\n",
       "      <td>Super built-up  Area</td>\n",
       "      <td>Kothanur</td>\n",
       "      <td>1200.0</td>\n",
       "      <td>2.0</td>\n",
       "      <td>1.000000</td>\n",
       "      <td>51.00</td>\n",
       "      <td>2</td>\n",
       "      <td>4250.000000</td>\n",
       "    </tr>\n",
       "    <tr>\n",
       "      <th>5</th>\n",
       "      <td>Super built-up  Area</td>\n",
       "      <td>Whitefield</td>\n",
       "      <td>1170.0</td>\n",
       "      <td>2.0</td>\n",
       "      <td>1.000000</td>\n",
       "      <td>38.00</td>\n",
       "      <td>2</td>\n",
       "      <td>3247.863248</td>\n",
       "    </tr>\n",
       "    <tr>\n",
       "      <th>6</th>\n",
       "      <td>Super built-up  Area</td>\n",
       "      <td>Old Airport Road</td>\n",
       "      <td>2732.0</td>\n",
       "      <td>4.0</td>\n",
       "      <td>1.584343</td>\n",
       "      <td>204.00</td>\n",
       "      <td>4</td>\n",
       "      <td>7467.057101</td>\n",
       "    </tr>\n",
       "    <tr>\n",
       "      <th>7</th>\n",
       "      <td>Super built-up  Area</td>\n",
       "      <td>Rajaji Nagar</td>\n",
       "      <td>3300.0</td>\n",
       "      <td>4.0</td>\n",
       "      <td>1.584343</td>\n",
       "      <td>600.00</td>\n",
       "      <td>4</td>\n",
       "      <td>18181.818182</td>\n",
       "    </tr>\n",
       "    <tr>\n",
       "      <th>8</th>\n",
       "      <td>Super built-up  Area</td>\n",
       "      <td>Marathahalli</td>\n",
       "      <td>1310.0</td>\n",
       "      <td>3.0</td>\n",
       "      <td>1.000000</td>\n",
       "      <td>63.25</td>\n",
       "      <td>3</td>\n",
       "      <td>4828.244275</td>\n",
       "    </tr>\n",
       "    <tr>\n",
       "      <th>9</th>\n",
       "      <td>Plot  Area</td>\n",
       "      <td>Other</td>\n",
       "      <td>1020.0</td>\n",
       "      <td>6.0</td>\n",
       "      <td>1.584343</td>\n",
       "      <td>370.00</td>\n",
       "      <td>6</td>\n",
       "      <td>36274.509804</td>\n",
       "    </tr>\n",
       "  </tbody>\n",
       "</table>\n",
       "</div>"
      ],
      "text/plain": [
       "              area_type                  location  total_sqft  bathroom  \\\n",
       "0  Super built-up  Area  Electronic City Phase II      1056.0       2.0   \n",
       "1            Plot  Area          Chikka Tirupathi      2600.0       5.0   \n",
       "2        Built-up  Area               Uttarahalli      1440.0       2.0   \n",
       "3  Super built-up  Area        Lingadheeranahalli      1521.0       3.0   \n",
       "4  Super built-up  Area                  Kothanur      1200.0       2.0   \n",
       "5  Super built-up  Area                Whitefield      1170.0       2.0   \n",
       "6  Super built-up  Area          Old Airport Road      2732.0       4.0   \n",
       "7  Super built-up  Area              Rajaji Nagar      3300.0       4.0   \n",
       "8  Super built-up  Area              Marathahalli      1310.0       3.0   \n",
       "9            Plot  Area                     Other      1020.0       6.0   \n",
       "\n",
       "    balcony   price  BHK  price_per_sqft  \n",
       "0  1.000000   39.07    2     3699.810606  \n",
       "1  3.000000  120.00    4     4615.384615  \n",
       "2  3.000000   62.00    3     4305.555556  \n",
       "3  1.000000   95.00    3     6245.890861  \n",
       "4  1.000000   51.00    2     4250.000000  \n",
       "5  1.000000   38.00    2     3247.863248  \n",
       "6  1.584343  204.00    4     7467.057101  \n",
       "7  1.584343  600.00    4    18181.818182  \n",
       "8  1.000000   63.25    3     4828.244275  \n",
       "9  1.584343  370.00    6    36274.509804  "
      ]
     },
     "execution_count": 29,
     "metadata": {},
     "output_type": "execute_result"
    }
   ],
   "source": [
    "Data_frame.head(10)"
   ]
  },
  {
   "cell_type": "code",
   "execution_count": 30,
   "id": "e28997a0-8363-4421-b64e-231c86275353",
   "metadata": {},
   "outputs": [
    {
     "data": {
      "image/png": "[encoded data removed]",
      "text/plain": [
       "<Figure size 1440x720 with 1 Axes>"
      ]
     },
     "metadata": {
      "needs_background": "light"
     },
     "output_type": "display_data"
    },
    {
     "data": {
      "image/png": "[encoded data removed]",
      "text/plain": [
       "<Figure size 1440x720 with 1 Axes>"
      ]
     },
     "metadata": {
      "needs_background": "light"
     },
     "output_type": "display_data"
    },
    {
     "data": {
      "image/png": "[encoded data removed]",
      "text/plain": [
       "<Figure size 1440x720 with 1 Axes>"
      ]
     },
     "metadata": {
      "needs_background": "light"
     },
     "output_type": "display_data"
    },
    {
     "data": {
      "image/png": "[encoded data removed]",
      "text/plain": [
       "<Figure size 1440x720 with 1 Axes>"
      ]
     },
     "metadata": {
      "needs_background": "light"
     },
     "output_type": "display_data"
    },
    {
     "data": {
      "image/png": "[encoded data removed]",
      "text/plain": [
       "<Figure size 1440x720 with 1 Axes>"
      ]
     },
     "metadata": {
      "needs_background": "light"
     },
     "output_type": "display_data"
    },
    {
     "data": {
      "image/png": "[encoded data removed]",
      "text/plain": [
       "<Figure size 1440x720 with 1 Axes>"
      ]
     },
     "metadata": {
      "needs_background": "light"
     },
     "output_type": "display_data"
    }
   ],
   "source": [
    "for i in Data_frame_numeric.columns:\n",
    "    sns.boxplot(x=i, data=Data_frame_numeric)\n",
    "    plt.title(i)\n",
    "    plt.show()"
   ]
  },
  {
   "cell_type": "markdown",
   "id": "81b34b55-d975-45f5-b389-1b597c4d1ccb",
   "metadata": {},
   "source": [
    "#### Fixing Type 1 and Type 2 Outliers \n",
    "\n",
    "##### Problem in total_sqft, bathroom, price, BHK and price_per_sqft"
   ]
  },
  {
   "cell_type": "markdown",
   "id": "f8d41327-25f2-4a37-8f81-b573de33c277",
   "metadata": {},
   "source": [
    "#### total_sqft "
   ]
  },
  {
   "cell_type": "code",
   "execution_count": 31,
   "id": "317c2e2c-26f8-43a1-92c2-3ad106296280",
   "metadata": {},
   "outputs": [
    {
     "data": {
      "text/plain": [
       "count    1.324600e+04\n",
       "mean     1.909248e+03\n",
       "std      1.732468e+04\n",
       "min      1.000000e+00\n",
       "25%      1.100000e+03\n",
       "50%      1.275000e+03\n",
       "75%      1.678750e+03\n",
       "max      1.306801e+06\n",
       "Name: total_sqft, dtype: float64"
      ]
     },
     "execution_count": 31,
     "metadata": {},
     "output_type": "execute_result"
    }
   ],
   "source": [
    "Data_frame['total_sqft'].describe()"
   ]
  },
  {
   "cell_type": "markdown",
   "id": "f5b3fb44-17db-4f9a-aef0-7da5000b0dfc",
   "metadata": {},
   "source": [
    "##### Max total_sqft is really high, not in general range, Which again tells us about the presence of outliers "
   ]
  },
  {
   "cell_type": "code",
   "execution_count": 32,
   "id": "bbf09955-0895-4e5d-8000-e5db44c6e887",
   "metadata": {},
   "outputs": [
    {
     "data": {
      "image/png": "[encoded data removed]",
      "text/plain": [
       "<Figure size 1440x720 with 1 Axes>"
      ]
     },
     "metadata": {
      "needs_background": "light"
     },
     "output_type": "display_data"
    }
   ],
   "source": [
    "# total_sqft -> Treating outliers using Flooring and Capping\n",
    "sns.histplot(x='total_sqft', data=Data_frame)\n",
    "plt.xlim([0, 6000])\n",
    "plt.show()"
   ]
  },
  {
   "cell_type": "code",
   "execution_count": 33,
   "id": "78b96be3-a559-49ca-b2cf-23873ef40395",
   "metadata": {},
   "outputs": [
    {
     "data": {
      "image/png": "[encoded data removed]",
      "text/plain": [
       "<Figure size 1440x720 with 1 Axes>"
      ]
     },
     "metadata": {
      "needs_background": "light"
     },
     "output_type": "display_data"
    }
   ],
   "source": [
    "sns.boxplot(x='total_sqft', data=Data_frame)\n",
    "plt.show()"
   ]
  },
  {
   "cell_type": "code",
   "execution_count": 34,
   "id": "8cd40fb8-e0af-440a-9534-8fe833979a81",
   "metadata": {},
   "outputs": [],
   "source": [
    "# Applying Quantile Based Flooring and capping\n",
    "lower_bound = Data_frame['total_sqft'].quantile(0.10)\n",
    "upper_bound = Data_frame['total_sqft'].quantile(0.90)\n",
    "Data_frame['total_sqft'] = np.where(Data_frame['total_sqft'] < lower_bound, lower_bound, Data_frame['total_sqft'])\n",
    "Data_frame['total_sqft'] = np.where(Data_frame['total_sqft'] > upper_bound, upper_bound, Data_frame['total_sqft'])"
   ]
  },
  {
   "cell_type": "code",
   "execution_count": 35,
   "id": "8254cbbd-eeaf-48e3-9789-5d56cdad6aea",
   "metadata": {},
   "outputs": [
    {
     "data": {
      "image/png": "[encoded data removed]",
      "text/plain": [
       "<Figure size 1440x720 with 1 Axes>"
      ]
     },
     "metadata": {
      "needs_background": "light"
     },
     "output_type": "display_data"
    }
   ],
   "source": [
    "sns.boxplot(x='total_sqft', data=Data_frame)\n",
    "plt.show()"
   ]
  },
  {
   "cell_type": "code",
   "execution_count": 36,
   "id": "2facd40c-c6ee-4863-93be-be0bc1e35f08",
   "metadata": {},
   "outputs": [
    {
     "data": {
      "image/png": "[encoded data removed]",
      "text/plain": [
       "<Figure size 1440x720 with 1 Axes>"
      ]
     },
     "metadata": {
      "needs_background": "light"
     },
     "output_type": "display_data"
    }
   ],
   "source": [
    "sns.histplot(x='total_sqft', data=Data_frame)\n",
    "plt.xlim([0, 6000])\n",
    "plt.show()"
   ]
  },
  {
   "cell_type": "code",
   "execution_count": 37,
   "id": "1c006ed6-5772-4635-84bd-753c84d80a3a",
   "metadata": {},
   "outputs": [
    {
     "data": {
      "text/plain": [
       "count    13246.000000\n",
       "mean      1438.315056\n",
       "std        467.922813\n",
       "min        900.000000\n",
       "25%       1100.000000\n",
       "50%       1275.000000\n",
       "75%       1678.750000\n",
       "max       2408.500000\n",
       "Name: total_sqft, dtype: float64"
      ]
     },
     "execution_count": 37,
     "metadata": {},
     "output_type": "execute_result"
    }
   ],
   "source": [
    "Data_frame['total_sqft'].describe()"
   ]
  },
  {
   "cell_type": "markdown",
   "id": "0ee63d71-5f6c-422b-a8a8-56652ea27d75",
   "metadata": {},
   "source": [
    "#### bathroom"
   ]
  },
  {
   "cell_type": "code",
   "execution_count": 38,
   "id": "db53c3e2-522a-48ee-b064-86c5dae149c3",
   "metadata": {},
   "outputs": [
    {
     "data": {
      "text/plain": [
       "count    13246.000000\n",
       "mean         2.692586\n",
       "std          1.341506\n",
       "min          1.000000\n",
       "25%          2.000000\n",
       "50%          2.000000\n",
       "75%          3.000000\n",
       "max         40.000000\n",
       "Name: bathroom, dtype: float64"
      ]
     },
     "execution_count": 38,
     "metadata": {},
     "output_type": "execute_result"
    }
   ],
   "source": [
    "Data_frame['bathroom'].describe()"
   ]
  },
  {
   "cell_type": "markdown",
   "id": "de7743b2-cb65-48da-95fb-f5f9931bfd9d",
   "metadata": {},
   "source": [
    "##### 40 bathrooms seems a lot for any general case, again it tells us about the presence of outliers "
   ]
  },
  {
   "cell_type": "code",
   "execution_count": 39,
   "id": "a84622ba-f5af-4357-aaf2-e449c6c4fb1b",
   "metadata": {},
   "outputs": [],
   "source": [
    "# Bathroom - small quanitites of Outliers so Replace them with median \n",
    "median = Data_frame['bathroom'].quantile(0.50)\n",
    "upper_out = Data_frame['bathroom'].quantile(0.95)\n",
    "Data_frame['bathroom'] = np.where(Data_frame['bathroom'] > upper_out, median, Data_frame['bathroom'])"
   ]
  },
  {
   "cell_type": "code",
   "execution_count": 40,
   "id": "bc26af63-c04f-40b9-960c-1bf02b843a7f",
   "metadata": {},
   "outputs": [
    {
     "data": {
      "image/png": "[encoded data removed]",
      "text/plain": [
       "<Figure size 1440x720 with 1 Axes>"
      ]
     },
     "metadata": {
      "needs_background": "light"
     },
     "output_type": "display_data"
    }
   ],
   "source": [
    "sns.boxplot(x='bathroom', data=Data_frame)\n",
    "plt.show()"
   ]
  },
  {
   "cell_type": "code",
   "execution_count": 41,
   "id": "ecf52af1-4456-4484-8afe-33097e7978e2",
   "metadata": {},
   "outputs": [
    {
     "data": {
      "image/png": "[encoded data removed]",
      "text/plain": [
       "<Figure size 1440x720 with 1 Axes>"
      ]
     },
     "metadata": {
      "needs_background": "light"
     },
     "output_type": "display_data"
    }
   ],
   "source": [
    "plt.hist(Data_frame['bathroom'])\n",
    "plt.xlabel(\"Number of Bathrooms\")\n",
    "plt.ylabel(\"Count\")\n",
    "plt.show()"
   ]
  },
  {
   "cell_type": "code",
   "execution_count": 42,
   "id": "def22797-e709-4774-9061-d9921145d9ab",
   "metadata": {},
   "outputs": [
    {
     "data": {
      "text/plain": [
       "count    13246.000000\n",
       "mean         2.492300\n",
       "std          0.889633\n",
       "min          1.000000\n",
       "25%          2.000000\n",
       "50%          2.000000\n",
       "75%          3.000000\n",
       "max          5.000000\n",
       "Name: bathroom, dtype: float64"
      ]
     },
     "execution_count": 42,
     "metadata": {},
     "output_type": "execute_result"
    }
   ],
   "source": [
    "Data_frame['bathroom'].describe()"
   ]
  },
  {
   "cell_type": "markdown",
   "id": "df338bbc-21f9-4c22-a159-50139992fd99",
   "metadata": {},
   "source": [
    "#### price"
   ]
  },
  {
   "cell_type": "code",
   "execution_count": 43,
   "id": "77ae84a6-69f8-49b3-98f7-88b1a0865e13",
   "metadata": {},
   "outputs": [
    {
     "data": {
      "text/plain": [
       "count    13246.000000\n",
       "mean       112.389392\n",
       "std        149.076587\n",
       "min          8.000000\n",
       "25%         50.000000\n",
       "50%         72.000000\n",
       "75%        120.000000\n",
       "max       3600.000000\n",
       "Name: price, dtype: float64"
      ]
     },
     "execution_count": 43,
     "metadata": {},
     "output_type": "execute_result"
    }
   ],
   "source": [
    "Data_frame['price'].describe()"
   ]
  },
  {
   "cell_type": "code",
   "execution_count": 44,
   "id": "0722fde1-9792-4c7a-bed3-606ec03aa893",
   "metadata": {},
   "outputs": [
    {
     "data": {
      "image/png": "[encoded data removed]",
      "text/plain": [
       "<Figure size 1440x720 with 1 Axes>"
      ]
     },
     "metadata": {
      "needs_background": "light"
     },
     "output_type": "display_data"
    }
   ],
   "source": [
    "# price -> Treating outliers using Flooring and Capping\n",
    "sns.histplot(x='price', data=Data_frame)\n",
    "plt.xlim([0, 2000])\n",
    "plt.show()"
   ]
  },
  {
   "cell_type": "code",
   "execution_count": 45,
   "id": "7b9c91be-a7a5-438c-9d40-d84f0566e6e0",
   "metadata": {},
   "outputs": [],
   "source": [
    "# Applying Quantile Based Flooring and capping\n",
    "lower_bound = Data_frame['price'].quantile(0.10)\n",
    "upper_bound = Data_frame['price'].quantile(0.90)\n",
    "Data_frame['price'] = np.where(Data_frame['price'] < lower_bound, lower_bound, Data_frame['price'])\n",
    "Data_frame['price'] = np.where(Data_frame['price'] > upper_bound, upper_bound, Data_frame['price'])"
   ]
  },
  {
   "cell_type": "code",
   "execution_count": 46,
   "id": "034386be-f693-4336-b77f-40288680f87a",
   "metadata": {},
   "outputs": [
    {
     "data": {
      "image/png": "[encoded data removed]",
      "text/plain": [
       "<Figure size 1440x720 with 1 Axes>"
      ]
     },
     "metadata": {
      "needs_background": "light"
     },
     "output_type": "display_data"
    }
   ],
   "source": [
    "sns.boxplot(x='price', data=Data_frame)\n",
    "plt.show()"
   ]
  },
  {
   "cell_type": "code",
   "execution_count": 47,
   "id": "0e815e1b-2573-4908-ab00-5cff35139a76",
   "metadata": {},
   "outputs": [
    {
     "data": {
      "image/png": "[encoded data removed]",
      "text/plain": [
       "<Figure size 1440x720 with 1 Axes>"
      ]
     },
     "metadata": {
      "needs_background": "light"
     },
     "output_type": "display_data"
    }
   ],
   "source": [
    "sns.histplot(x='price', data=Data_frame)\n",
    "plt.xlim([0, 2000])\n",
    "plt.show()"
   ]
  },
  {
   "cell_type": "code",
   "execution_count": 48,
   "id": "7e76f3fc-6654-42f1-aa7c-1cb67a4c543f",
   "metadata": {},
   "outputs": [
    {
     "data": {
      "text/plain": [
       "count    13246.000000\n",
       "mean        93.541210\n",
       "std         57.585644\n",
       "min         38.000000\n",
       "25%         50.000000\n",
       "50%         72.000000\n",
       "75%        120.000000\n",
       "max        220.000000\n",
       "Name: price, dtype: float64"
      ]
     },
     "execution_count": 48,
     "metadata": {},
     "output_type": "execute_result"
    }
   ],
   "source": [
    "Data_frame['price'].describe()"
   ]
  },
  {
   "cell_type": "markdown",
   "id": "29636121-5e27-420c-91b5-1a8f2b8c3b27",
   "metadata": {},
   "source": [
    "#### BHK"
   ]
  },
  {
   "cell_type": "code",
   "execution_count": 49,
   "id": "08e65e60-a932-4d7f-9905-870152c9bbe5",
   "metadata": {},
   "outputs": [
    {
     "data": {
      "text/plain": [
       "count    13246.000000\n",
       "mean         2.801902\n",
       "std          1.295758\n",
       "min          1.000000\n",
       "25%          2.000000\n",
       "50%          3.000000\n",
       "75%          3.000000\n",
       "max         43.000000\n",
       "Name: BHK, dtype: float64"
      ]
     },
     "execution_count": 49,
     "metadata": {},
     "output_type": "execute_result"
    }
   ],
   "source": [
    "Data_frame['BHK'].describe()"
   ]
  },
  {
   "cell_type": "markdown",
   "id": "6ab5d7f7-9e80-4604-85b6-a608b7104753",
   "metadata": {},
   "source": [
    "##### 43 bedrooms for a house/real estate property is a lot for any general case, again tells us about the presence of outliers"
   ]
  },
  {
   "cell_type": "code",
   "execution_count": 50,
   "id": "f121debd-3e15-4a0c-b029-51fd430d36ed",
   "metadata": {},
   "outputs": [
    {
     "data": {
      "image/png": "[encoded data removed]",
      "text/plain": [
       "<Figure size 1440x720 with 1 Axes>"
      ]
     },
     "metadata": {
      "needs_background": "light"
     },
     "output_type": "display_data"
    }
   ],
   "source": [
    "plt.hist(Data_frame['BHK'])\n",
    "plt.xlabel(\"Number of Bedrooms\")\n",
    "plt.ylabel(\"Count\")\n",
    "plt.show()"
   ]
  },
  {
   "cell_type": "code",
   "execution_count": 51,
   "id": "9c3c62a3-de07-44b5-8e5a-440c5d49a618",
   "metadata": {},
   "outputs": [],
   "source": [
    "# BHK - small quanitites of Outliers so Replace them with median \n",
    "median = Data_frame['BHK'].quantile(0.50)\n",
    "upper_out = Data_frame['BHK'].quantile(0.98)\n",
    "Data_frame['BHK'] = np.where(Data_frame['BHK'] > upper_out, median, Data_frame['BHK'])"
   ]
  },
  {
   "cell_type": "code",
   "execution_count": 52,
   "id": "47f37bbc-c79c-4585-9310-b9883b86cd01",
   "metadata": {},
   "outputs": [
    {
     "data": {
      "image/png": "[encoded data removed]",
      "text/plain": [
       "<Figure size 1440x720 with 1 Axes>"
      ]
     },
     "metadata": {
      "needs_background": "light"
     },
     "output_type": "display_data"
    }
   ],
   "source": [
    "sns.boxplot(x='BHK', data=Data_frame)\n",
    "plt.show()"
   ]
  },
  {
   "cell_type": "code",
   "execution_count": 53,
   "id": "31649078-bed3-40db-9aba-c97eebc5389a",
   "metadata": {},
   "outputs": [
    {
     "data": {
      "image/png": "[encoded data removed]",
      "text/plain": [
       "<Figure size 1440x720 with 1 Axes>"
      ]
     },
     "metadata": {
      "needs_background": "light"
     },
     "output_type": "display_data"
    }
   ],
   "source": [
    "plt.hist(Data_frame['BHK'])\n",
    "plt.xlabel(\"Number of Bedrooms\")\n",
    "plt.ylabel(\"Count\")\n",
    "plt.show()"
   ]
  },
  {
   "cell_type": "code",
   "execution_count": 54,
   "id": "c5505ad0-c80b-4cdd-9a95-aca34fc74c25",
   "metadata": {},
   "outputs": [
    {
     "data": {
      "text/plain": [
       "count    13246.000000\n",
       "mean         2.723615\n",
       "std          1.009848\n",
       "min          1.000000\n",
       "25%          2.000000\n",
       "50%          3.000000\n",
       "75%          3.000000\n",
       "max          7.000000\n",
       "Name: BHK, dtype: float64"
      ]
     },
     "execution_count": 54,
     "metadata": {},
     "output_type": "execute_result"
    }
   ],
   "source": [
    "Data_frame['BHK'].describe()"
   ]
  },
  {
   "cell_type": "code",
   "execution_count": 55,
   "id": "c6b2d535-df08-4584-bb4b-36db5f8d10c6",
   "metadata": {},
   "outputs": [
    {
     "data": {
      "text/html": [
       "<div>\n",
       "<style scoped>\n",
       "    .dataframe tbody tr th:only-of-type {\n",
       "        vertical-align: middle;\n",
       "    }\n",
       "\n",
       "    .dataframe tbody tr th {\n",
       "        vertical-align: top;\n",
       "    }\n",
       "\n",
       "    .dataframe thead th {\n",
       "        text-align: right;\n",
       "    }\n",
       "</style>\n",
       "<table border=\"1\" class=\"dataframe\">\n",
       "  <thead>\n",
       "    <tr style=\"text-align: right;\">\n",
       "      <th></th>\n",
       "      <th>area_type</th>\n",
       "      <th>location</th>\n",
       "      <th>total_sqft</th>\n",
       "      <th>bathroom</th>\n",
       "      <th>balcony</th>\n",
       "      <th>price</th>\n",
       "      <th>BHK</th>\n",
       "      <th>price_per_sqft</th>\n",
       "    </tr>\n",
       "  </thead>\n",
       "  <tbody>\n",
       "    <tr>\n",
       "      <th>0</th>\n",
       "      <td>Super built-up  Area</td>\n",
       "      <td>Electronic City Phase II</td>\n",
       "      <td>1056.0</td>\n",
       "      <td>2.0</td>\n",
       "      <td>1.000000</td>\n",
       "      <td>39.07</td>\n",
       "      <td>2.0</td>\n",
       "      <td>3699.810606</td>\n",
       "    </tr>\n",
       "    <tr>\n",
       "      <th>1</th>\n",
       "      <td>Plot  Area</td>\n",
       "      <td>Chikka Tirupathi</td>\n",
       "      <td>2408.5</td>\n",
       "      <td>5.0</td>\n",
       "      <td>3.000000</td>\n",
       "      <td>120.00</td>\n",
       "      <td>4.0</td>\n",
       "      <td>4615.384615</td>\n",
       "    </tr>\n",
       "    <tr>\n",
       "      <th>2</th>\n",
       "      <td>Built-up  Area</td>\n",
       "      <td>Uttarahalli</td>\n",
       "      <td>1440.0</td>\n",
       "      <td>2.0</td>\n",
       "      <td>3.000000</td>\n",
       "      <td>62.00</td>\n",
       "      <td>3.0</td>\n",
       "      <td>4305.555556</td>\n",
       "    </tr>\n",
       "    <tr>\n",
       "      <th>3</th>\n",
       "      <td>Super built-up  Area</td>\n",
       "      <td>Lingadheeranahalli</td>\n",
       "      <td>1521.0</td>\n",
       "      <td>3.0</td>\n",
       "      <td>1.000000</td>\n",
       "      <td>95.00</td>\n",
       "      <td>3.0</td>\n",
       "      <td>6245.890861</td>\n",
       "    </tr>\n",
       "    <tr>\n",
       "      <th>4</th>\n",
       "      <td>Super built-up  Area</td>\n",
       "      <td>Kothanur</td>\n",
       "      <td>1200.0</td>\n",
       "      <td>2.0</td>\n",
       "      <td>1.000000</td>\n",
       "      <td>51.00</td>\n",
       "      <td>2.0</td>\n",
       "      <td>4250.000000</td>\n",
       "    </tr>\n",
       "    <tr>\n",
       "      <th>5</th>\n",
       "      <td>Super built-up  Area</td>\n",
       "      <td>Whitefield</td>\n",
       "      <td>1170.0</td>\n",
       "      <td>2.0</td>\n",
       "      <td>1.000000</td>\n",
       "      <td>38.00</td>\n",
       "      <td>2.0</td>\n",
       "      <td>3247.863248</td>\n",
       "    </tr>\n",
       "    <tr>\n",
       "      <th>6</th>\n",
       "      <td>Super built-up  Area</td>\n",
       "      <td>Old Airport Road</td>\n",
       "      <td>2408.5</td>\n",
       "      <td>4.0</td>\n",
       "      <td>1.584343</td>\n",
       "      <td>204.00</td>\n",
       "      <td>4.0</td>\n",
       "      <td>7467.057101</td>\n",
       "    </tr>\n",
       "    <tr>\n",
       "      <th>7</th>\n",
       "      <td>Super built-up  Area</td>\n",
       "      <td>Rajaji Nagar</td>\n",
       "      <td>2408.5</td>\n",
       "      <td>4.0</td>\n",
       "      <td>1.584343</td>\n",
       "      <td>220.00</td>\n",
       "      <td>4.0</td>\n",
       "      <td>18181.818182</td>\n",
       "    </tr>\n",
       "    <tr>\n",
       "      <th>8</th>\n",
       "      <td>Super built-up  Area</td>\n",
       "      <td>Marathahalli</td>\n",
       "      <td>1310.0</td>\n",
       "      <td>3.0</td>\n",
       "      <td>1.000000</td>\n",
       "      <td>63.25</td>\n",
       "      <td>3.0</td>\n",
       "      <td>4828.244275</td>\n",
       "    </tr>\n",
       "    <tr>\n",
       "      <th>9</th>\n",
       "      <td>Plot  Area</td>\n",
       "      <td>Other</td>\n",
       "      <td>1020.0</td>\n",
       "      <td>2.0</td>\n",
       "      <td>1.584343</td>\n",
       "      <td>220.00</td>\n",
       "      <td>6.0</td>\n",
       "      <td>36274.509804</td>\n",
       "    </tr>\n",
       "  </tbody>\n",
       "</table>\n",
       "</div>"
      ],
      "text/plain": [
       "              area_type                  location  total_sqft  bathroom  \\\n",
       "0  Super built-up  Area  Electronic City Phase II      1056.0       2.0   \n",
       "1            Plot  Area          Chikka Tirupathi      2408.5       5.0   \n",
       "2        Built-up  Area               Uttarahalli      1440.0       2.0   \n",
       "3  Super built-up  Area        Lingadheeranahalli      1521.0       3.0   \n",
       "4  Super built-up  Area                  Kothanur      1200.0       2.0   \n",
       "5  Super built-up  Area                Whitefield      1170.0       2.0   \n",
       "6  Super built-up  Area          Old Airport Road      2408.5       4.0   \n",
       "7  Super built-up  Area              Rajaji Nagar      2408.5       4.0   \n",
       "8  Super built-up  Area              Marathahalli      1310.0       3.0   \n",
       "9            Plot  Area                     Other      1020.0       2.0   \n",
       "\n",
       "    balcony   price  BHK  price_per_sqft  \n",
       "0  1.000000   39.07  2.0     3699.810606  \n",
       "1  3.000000  120.00  4.0     4615.384615  \n",
       "2  3.000000   62.00  3.0     4305.555556  \n",
       "3  1.000000   95.00  3.0     6245.890861  \n",
       "4  1.000000   51.00  2.0     4250.000000  \n",
       "5  1.000000   38.00  2.0     3247.863248  \n",
       "6  1.584343  204.00  4.0     7467.057101  \n",
       "7  1.584343  220.00  4.0    18181.818182  \n",
       "8  1.000000   63.25  3.0     4828.244275  \n",
       "9  1.584343  220.00  6.0    36274.509804  "
      ]
     },
     "execution_count": 55,
     "metadata": {},
     "output_type": "execute_result"
    }
   ],
   "source": [
    "Data_frame.head(10)"
   ]
  },
  {
   "cell_type": "markdown",
   "id": "0608e9b7-bbe6-423e-a634-cd57bd337da5",
   "metadata": {},
   "source": [
    "#### Type2\n",
    "##### In a General Real Esate Property / House, the number of Bathrooms depends on number of Bedrooms [BHK]. The equations in general is \n",
    "##### total Bathroom <= BHK + 1 [1 - extra for Guest]\n",
    "##### It is unusual to have 2 more bathrooms than number of bedrooms in a home"
   ]
  },
  {
   "cell_type": "code",
   "execution_count": 56,
   "id": "2de2e69f-d775-487c-a1f1-1cbc949fc8fe",
   "metadata": {},
   "outputs": [
    {
     "data": {
      "text/plain": [
       "(44, 8)"
      ]
     },
     "execution_count": 56,
     "metadata": {},
     "output_type": "execute_result"
    }
   ],
   "source": [
    "Data_frame[~(Data_frame['bathroom'] < (Data_frame['BHK'] + 2))].shape"
   ]
  },
  {
   "cell_type": "code",
   "execution_count": 57,
   "id": "6ff363be-90e6-4691-b569-ce03e2df2dc6",
   "metadata": {},
   "outputs": [
    {
     "data": {
      "text/plain": [
       "(13202, 8)"
      ]
     },
     "execution_count": 57,
     "metadata": {},
     "output_type": "execute_result"
    }
   ],
   "source": [
    "Data_frame[(Data_frame['bathroom'] < (Data_frame['BHK'] + 2))].shape"
   ]
  },
  {
   "cell_type": "code",
   "execution_count": 58,
   "id": "2722dbd3-5a20-4f2f-8d87-a64b805e19a0",
   "metadata": {},
   "outputs": [
    {
     "data": {
      "text/plain": [
       "(13246, 8)"
      ]
     },
     "execution_count": 58,
     "metadata": {},
     "output_type": "execute_result"
    }
   ],
   "source": [
    "Data_frame.shape"
   ]
  },
  {
   "cell_type": "code",
   "execution_count": 59,
   "id": "b5fab8cf-a04c-4098-81f1-9c9fc3c884c7",
   "metadata": {},
   "outputs": [
    {
     "data": {
      "text/plain": [
       "(13202, 8)"
      ]
     },
     "execution_count": 59,
     "metadata": {},
     "output_type": "execute_result"
    }
   ],
   "source": [
    "Data_frame = Data_frame[(Data_frame['bathroom'] < (Data_frame['BHK'] + 2))]\n",
    "Data_frame.shape"
   ]
  },
  {
   "cell_type": "code",
   "execution_count": 60,
   "id": "f48f04cc-a55f-4f29-9ab7-0785e918c01f",
   "metadata": {},
   "outputs": [],
   "source": [
    "Data_frame['balcony'] = Data_frame['balcony'].astype('int')"
   ]
  },
  {
   "cell_type": "code",
   "execution_count": 61,
   "id": "92d15f25-5fbb-48f9-af6c-10f565856bae",
   "metadata": {},
   "outputs": [
    {
     "data": {
      "text/html": [
       "<div>\n",
       "<style scoped>\n",
       "    .dataframe tbody tr th:only-of-type {\n",
       "        vertical-align: middle;\n",
       "    }\n",
       "\n",
       "    .dataframe tbody tr th {\n",
       "        vertical-align: top;\n",
       "    }\n",
       "\n",
       "    .dataframe thead th {\n",
       "        text-align: right;\n",
       "    }\n",
       "</style>\n",
       "<table border=\"1\" class=\"dataframe\">\n",
       "  <thead>\n",
       "    <tr style=\"text-align: right;\">\n",
       "      <th></th>\n",
       "      <th>area_type</th>\n",
       "      <th>location</th>\n",
       "      <th>total_sqft</th>\n",
       "      <th>bathroom</th>\n",
       "      <th>balcony</th>\n",
       "      <th>price</th>\n",
       "      <th>BHK</th>\n",
       "      <th>price_per_sqft</th>\n",
       "    </tr>\n",
       "  </thead>\n",
       "  <tbody>\n",
       "    <tr>\n",
       "      <th>0</th>\n",
       "      <td>Super built-up  Area</td>\n",
       "      <td>Electronic City Phase II</td>\n",
       "      <td>1056.0</td>\n",
       "      <td>2.0</td>\n",
       "      <td>1</td>\n",
       "      <td>39.07</td>\n",
       "      <td>2.0</td>\n",
       "      <td>3699.810606</td>\n",
       "    </tr>\n",
       "    <tr>\n",
       "      <th>1</th>\n",
       "      <td>Plot  Area</td>\n",
       "      <td>Chikka Tirupathi</td>\n",
       "      <td>2408.5</td>\n",
       "      <td>5.0</td>\n",
       "      <td>3</td>\n",
       "      <td>120.00</td>\n",
       "      <td>4.0</td>\n",
       "      <td>4615.384615</td>\n",
       "    </tr>\n",
       "    <tr>\n",
       "      <th>2</th>\n",
       "      <td>Built-up  Area</td>\n",
       "      <td>Uttarahalli</td>\n",
       "      <td>1440.0</td>\n",
       "      <td>2.0</td>\n",
       "      <td>3</td>\n",
       "      <td>62.00</td>\n",
       "      <td>3.0</td>\n",
       "      <td>4305.555556</td>\n",
       "    </tr>\n",
       "    <tr>\n",
       "      <th>3</th>\n",
       "      <td>Super built-up  Area</td>\n",
       "      <td>Lingadheeranahalli</td>\n",
       "      <td>1521.0</td>\n",
       "      <td>3.0</td>\n",
       "      <td>1</td>\n",
       "      <td>95.00</td>\n",
       "      <td>3.0</td>\n",
       "      <td>6245.890861</td>\n",
       "    </tr>\n",
       "    <tr>\n",
       "      <th>4</th>\n",
       "      <td>Super built-up  Area</td>\n",
       "      <td>Kothanur</td>\n",
       "      <td>1200.0</td>\n",
       "      <td>2.0</td>\n",
       "      <td>1</td>\n",
       "      <td>51.00</td>\n",
       "      <td>2.0</td>\n",
       "      <td>4250.000000</td>\n",
       "    </tr>\n",
       "    <tr>\n",
       "      <th>5</th>\n",
       "      <td>Super built-up  Area</td>\n",
       "      <td>Whitefield</td>\n",
       "      <td>1170.0</td>\n",
       "      <td>2.0</td>\n",
       "      <td>1</td>\n",
       "      <td>38.00</td>\n",
       "      <td>2.0</td>\n",
       "      <td>3247.863248</td>\n",
       "    </tr>\n",
       "    <tr>\n",
       "      <th>6</th>\n",
       "      <td>Super built-up  Area</td>\n",
       "      <td>Old Airport Road</td>\n",
       "      <td>2408.5</td>\n",
       "      <td>4.0</td>\n",
       "      <td>1</td>\n",
       "      <td>204.00</td>\n",
       "      <td>4.0</td>\n",
       "      <td>7467.057101</td>\n",
       "    </tr>\n",
       "    <tr>\n",
       "      <th>7</th>\n",
       "      <td>Super built-up  Area</td>\n",
       "      <td>Rajaji Nagar</td>\n",
       "      <td>2408.5</td>\n",
       "      <td>4.0</td>\n",
       "      <td>1</td>\n",
       "      <td>220.00</td>\n",
       "      <td>4.0</td>\n",
       "      <td>18181.818182</td>\n",
       "    </tr>\n",
       "    <tr>\n",
       "      <th>8</th>\n",
       "      <td>Super built-up  Area</td>\n",
       "      <td>Marathahalli</td>\n",
       "      <td>1310.0</td>\n",
       "      <td>3.0</td>\n",
       "      <td>1</td>\n",
       "      <td>63.25</td>\n",
       "      <td>3.0</td>\n",
       "      <td>4828.244275</td>\n",
       "    </tr>\n",
       "    <tr>\n",
       "      <th>9</th>\n",
       "      <td>Plot  Area</td>\n",
       "      <td>Other</td>\n",
       "      <td>1020.0</td>\n",
       "      <td>2.0</td>\n",
       "      <td>1</td>\n",
       "      <td>220.00</td>\n",
       "      <td>6.0</td>\n",
       "      <td>36274.509804</td>\n",
       "    </tr>\n",
       "  </tbody>\n",
       "</table>\n",
       "</div>"
      ],
      "text/plain": [
       "              area_type                  location  total_sqft  bathroom  \\\n",
       "0  Super built-up  Area  Electronic City Phase II      1056.0       2.0   \n",
       "1            Plot  Area          Chikka Tirupathi      2408.5       5.0   \n",
       "2        Built-up  Area               Uttarahalli      1440.0       2.0   \n",
       "3  Super built-up  Area        Lingadheeranahalli      1521.0       3.0   \n",
       "4  Super built-up  Area                  Kothanur      1200.0       2.0   \n",
       "5  Super built-up  Area                Whitefield      1170.0       2.0   \n",
       "6  Super built-up  Area          Old Airport Road      2408.5       4.0   \n",
       "7  Super built-up  Area              Rajaji Nagar      2408.5       4.0   \n",
       "8  Super built-up  Area              Marathahalli      1310.0       3.0   \n",
       "9            Plot  Area                     Other      1020.0       2.0   \n",
       "\n",
       "   balcony   price  BHK  price_per_sqft  \n",
       "0        1   39.07  2.0     3699.810606  \n",
       "1        3  120.00  4.0     4615.384615  \n",
       "2        3   62.00  3.0     4305.555556  \n",
       "3        1   95.00  3.0     6245.890861  \n",
       "4        1   51.00  2.0     4250.000000  \n",
       "5        1   38.00  2.0     3247.863248  \n",
       "6        1  204.00  4.0     7467.057101  \n",
       "7        1  220.00  4.0    18181.818182  \n",
       "8        1   63.25  3.0     4828.244275  \n",
       "9        1  220.00  6.0    36274.509804  "
      ]
     },
     "execution_count": 61,
     "metadata": {},
     "output_type": "execute_result"
    }
   ],
   "source": [
    "Data_frame.head(10)"
   ]
  },
  {
   "cell_type": "markdown",
   "id": "0a02d7dd-62c0-4418-867a-06b04d7cdbb3",
   "metadata": {},
   "source": [
    "##### price_per_sqft"
   ]
  },
  {
   "cell_type": "code",
   "execution_count": 62,
   "id": "d14d6920-133e-428e-b5b3-5c4db40d2566",
   "metadata": {},
   "outputs": [
    {
     "data": {
      "text/plain": [
       "count    1.320200e+04\n",
       "mean     7.905902e+03\n",
       "std      1.067220e+05\n",
       "min      2.257421e+00\n",
       "25%      4.258918e+03\n",
       "50%      5.420873e+03\n",
       "75%      7.298737e+03\n",
       "max      1.200000e+07\n",
       "Name: price_per_sqft, dtype: float64"
      ]
     },
     "execution_count": 62,
     "metadata": {},
     "output_type": "execute_result"
    }
   ],
   "source": [
    "Data_frame['price_per_sqft'].describe()"
   ]
  },
  {
   "cell_type": "markdown",
   "id": "0b1cbbc5-aa6b-4640-ba5f-a6c0ba54b370",
   "metadata": {},
   "source": [
    "##### Here we find that min price per sqft is 2.25 whereas max is 1.2e+07, this shows a wide variation in property prices."
   ]
  },
  {
   "cell_type": "code",
   "execution_count": 63,
   "id": "e13b1829-8640-4dd2-a32c-d5e110470439",
   "metadata": {},
   "outputs": [],
   "source": [
    "# Applying Quantile Based Flooring and capping\n",
    "lower_bound = Data_frame['price_per_sqft'].quantile(0.10)\n",
    "upper_bound = Data_frame['price_per_sqft'].quantile(0.90)\n",
    "Data_frame['price_per_sqft'] = np.where(Data_frame['price_per_sqft'] < lower_bound, lower_bound, Data_frame['price_per_sqft'])\n",
    "Data_frame['price_per_sqft'] = np.where(Data_frame['price_per_sqft'] > upper_bound, upper_bound, Data_frame['price_per_sqft'])"
   ]
  },
  {
   "cell_type": "code",
   "execution_count": 64,
   "id": "4d30cdfb-6467-46bd-bf35-6865fc59bf18",
   "metadata": {},
   "outputs": [
    {
     "data": {
      "image/png": "[encoded data removed]",
      "text/plain": [
       "<Figure size 1440x720 with 1 Axes>"
      ]
     },
     "metadata": {
      "needs_background": "light"
     },
     "output_type": "display_data"
    }
   ],
   "source": [
    "sns.boxplot(x='price_per_sqft', data=Data_frame)\n",
    "plt.show()"
   ]
  },
  {
   "cell_type": "code",
   "execution_count": 65,
   "id": "259d623f-2ef4-4982-9798-f5c7e74e1c03",
   "metadata": {},
   "outputs": [
    {
     "data": {
      "text/plain": [
       "count    13202.000000\n",
       "mean      6185.921815\n",
       "std       2504.903605\n",
       "min       3500.000000\n",
       "25%       4258.918009\n",
       "50%       5420.872534\n",
       "75%       7298.737435\n",
       "max      11578.857091\n",
       "Name: price_per_sqft, dtype: float64"
      ]
     },
     "execution_count": 65,
     "metadata": {},
     "output_type": "execute_result"
    }
   ],
   "source": [
    "Data_frame['price_per_sqft'].describe()"
   ]
  },
  {
   "cell_type": "markdown",
   "id": "91c267b6-4c09-45af-aac9-60b33e8977b9",
   "metadata": {},
   "source": [
    "#### Type2\n",
    "##### Problem here is that in some cases - price of 2bhk is more than price of 3bhk for similar sqft area and same location \n",
    "##### and hence is a unexpected error or outlier "
   ]
  },
  {
   "cell_type": "code",
   "execution_count": 66,
   "id": "864453a1-85cd-4408-9513-93c5ae8da7c4",
   "metadata": {},
   "outputs": [
    {
     "data": {
      "image/png": "[encoded data removed]",
      "text/plain": [
       "<Figure size 1440x720 with 1 Axes>"
      ]
     },
     "metadata": {
      "needs_background": "light"
     },
     "output_type": "display_data"
    }
   ],
   "source": [
    "# Checking by plotting scatter plot of different locations\n",
    "\n",
    "def plot_scatter_chart(df,location):\n",
    "    bhk2 = df[(df.location==location) & (df.BHK==2)]\n",
    "    bhk3 = df[(df.location==location) & (df.BHK==3)]\n",
    "    plt.scatter(bhk2.total_sqft,bhk2.price,color='blue',label='2 BHK', s=50)\n",
    "    plt.scatter(bhk3.total_sqft,bhk3.price,marker='+', color='green',label='3 BHK', s=50)\n",
    "    plt.xlabel(\"Total Square Feet Area\")\n",
    "    plt.ylabel(\"Price (Lakh Indian Rupees)\")\n",
    "    plt.title(location)\n",
    "    plt.legend()\n",
    "    \n",
    "plot_scatter_chart(Data_frame,\"Whitefield\")"
   ]
  },
  {
   "cell_type": "markdown",
   "id": "0334c679-b1fb-4488-b4a2-c1d4c6a8227d",
   "metadata": {},
   "source": [
    "##### Here Prices of 2bhk are more than 3bhk for similar or same total_sqft area, it means price_per_sqft of 2bhk should be more than 3bhk for the same location and similar total_sqft area \n",
    "##### So now we can remove those 3BHK whose price_per_sqft is less than mean price_per_sqft of 2 BHK \n",
    "\n",
    "##### We here are dealing with same location [ because Different Location will affect the price ]"
   ]
  },
  {
   "cell_type": "code",
   "execution_count": 67,
   "id": "6c8df387-6dd9-4ebd-b89a-af2e88bea673",
   "metadata": {},
   "outputs": [
    {
     "data": {
      "text/plain": [
       "(9087, 8)"
      ]
     },
     "execution_count": 67,
     "metadata": {},
     "output_type": "execute_result"
    }
   ],
   "source": [
    "def remove_bhk_outliers(df):\n",
    "    exclude_indices = np.array([])\n",
    "    for location, location_df in df.groupby('location'):\n",
    "        bhk_stats = {}\n",
    "        for bhk, bhk_df in location_df.groupby('BHK'):\n",
    "            bhk_stats[bhk] = {\n",
    "                'mean': np.mean(bhk_df.price_per_sqft),\n",
    "                'std': np.std(bhk_df.price_per_sqft),\n",
    "                'count': bhk_df.shape[0]\n",
    "            }\n",
    "        for bhk, bhk_df in location_df.groupby('BHK'):\n",
    "            stats = bhk_stats.get(bhk-1)\n",
    "            if stats and stats['count']>5:\n",
    "                exclude_indices = np.append(exclude_indices, bhk_df[bhk_df.price_per_sqft<(stats['mean'])].index.values)\n",
    "    return df.drop(exclude_indices,axis=0)\n",
    "Data_frame = remove_bhk_outliers(Data_frame)\n",
    "Data_frame.shape"
   ]
  },
  {
   "cell_type": "code",
   "execution_count": 68,
   "id": "98bf836a-2a72-4dd7-ab28-53b0d7479623",
   "metadata": {},
   "outputs": [
    {
     "data": {
      "image/png": "[encoded data removed]",
      "text/plain": [
       "<Figure size 1440x720 with 1 Axes>"
      ]
     },
     "metadata": {
      "needs_background": "light"
     },
     "output_type": "display_data"
    }
   ],
   "source": [
    "plot_scatter_chart(Data_frame,\"Whitefield\")"
   ]
  },
  {
   "cell_type": "code",
   "execution_count": 69,
   "id": "74f21f21-c3b6-4fcc-ad5a-e7d6068f7789",
   "metadata": {},
   "outputs": [
    {
     "data": {
      "text/html": [
       "<div>\n",
       "<style scoped>\n",
       "    .dataframe tbody tr th:only-of-type {\n",
       "        vertical-align: middle;\n",
       "    }\n",
       "\n",
       "    .dataframe tbody tr th {\n",
       "        vertical-align: top;\n",
       "    }\n",
       "\n",
       "    .dataframe thead th {\n",
       "        text-align: right;\n",
       "    }\n",
       "</style>\n",
       "<table border=\"1\" class=\"dataframe\">\n",
       "  <thead>\n",
       "    <tr style=\"text-align: right;\">\n",
       "      <th></th>\n",
       "      <th>area_type</th>\n",
       "      <th>location</th>\n",
       "      <th>total_sqft</th>\n",
       "      <th>bathroom</th>\n",
       "      <th>balcony</th>\n",
       "      <th>price</th>\n",
       "      <th>BHK</th>\n",
       "      <th>price_per_sqft</th>\n",
       "    </tr>\n",
       "  </thead>\n",
       "  <tbody>\n",
       "    <tr>\n",
       "      <th>0</th>\n",
       "      <td>Super built-up  Area</td>\n",
       "      <td>Electronic City Phase II</td>\n",
       "      <td>1056.0</td>\n",
       "      <td>2.0</td>\n",
       "      <td>1</td>\n",
       "      <td>39.07</td>\n",
       "      <td>2.0</td>\n",
       "      <td>3699.810606</td>\n",
       "    </tr>\n",
       "    <tr>\n",
       "      <th>2</th>\n",
       "      <td>Built-up  Area</td>\n",
       "      <td>Uttarahalli</td>\n",
       "      <td>1440.0</td>\n",
       "      <td>2.0</td>\n",
       "      <td>3</td>\n",
       "      <td>62.00</td>\n",
       "      <td>3.0</td>\n",
       "      <td>4305.555556</td>\n",
       "    </tr>\n",
       "    <tr>\n",
       "      <th>3</th>\n",
       "      <td>Super built-up  Area</td>\n",
       "      <td>Lingadheeranahalli</td>\n",
       "      <td>1521.0</td>\n",
       "      <td>3.0</td>\n",
       "      <td>1</td>\n",
       "      <td>95.00</td>\n",
       "      <td>3.0</td>\n",
       "      <td>6245.890861</td>\n",
       "    </tr>\n",
       "    <tr>\n",
       "      <th>4</th>\n",
       "      <td>Super built-up  Area</td>\n",
       "      <td>Kothanur</td>\n",
       "      <td>1200.0</td>\n",
       "      <td>2.0</td>\n",
       "      <td>1</td>\n",
       "      <td>51.00</td>\n",
       "      <td>2.0</td>\n",
       "      <td>4250.000000</td>\n",
       "    </tr>\n",
       "    <tr>\n",
       "      <th>6</th>\n",
       "      <td>Super built-up  Area</td>\n",
       "      <td>Old Airport Road</td>\n",
       "      <td>2408.5</td>\n",
       "      <td>4.0</td>\n",
       "      <td>1</td>\n",
       "      <td>204.00</td>\n",
       "      <td>4.0</td>\n",
       "      <td>7467.057101</td>\n",
       "    </tr>\n",
       "    <tr>\n",
       "      <th>7</th>\n",
       "      <td>Super built-up  Area</td>\n",
       "      <td>Rajaji Nagar</td>\n",
       "      <td>2408.5</td>\n",
       "      <td>4.0</td>\n",
       "      <td>1</td>\n",
       "      <td>220.00</td>\n",
       "      <td>4.0</td>\n",
       "      <td>11578.857091</td>\n",
       "    </tr>\n",
       "    <tr>\n",
       "      <th>9</th>\n",
       "      <td>Plot  Area</td>\n",
       "      <td>Other</td>\n",
       "      <td>1020.0</td>\n",
       "      <td>2.0</td>\n",
       "      <td>1</td>\n",
       "      <td>220.00</td>\n",
       "      <td>6.0</td>\n",
       "      <td>11578.857091</td>\n",
       "    </tr>\n",
       "    <tr>\n",
       "      <th>11</th>\n",
       "      <td>Plot  Area</td>\n",
       "      <td>Whitefield</td>\n",
       "      <td>2408.5</td>\n",
       "      <td>5.0</td>\n",
       "      <td>3</td>\n",
       "      <td>220.00</td>\n",
       "      <td>4.0</td>\n",
       "      <td>10592.459605</td>\n",
       "    </tr>\n",
       "    <tr>\n",
       "      <th>12</th>\n",
       "      <td>Super built-up  Area</td>\n",
       "      <td>7th Phase JP Nagar</td>\n",
       "      <td>1000.0</td>\n",
       "      <td>2.0</td>\n",
       "      <td>1</td>\n",
       "      <td>38.00</td>\n",
       "      <td>2.0</td>\n",
       "      <td>3800.000000</td>\n",
       "    </tr>\n",
       "    <tr>\n",
       "      <th>13</th>\n",
       "      <td>Built-up  Area</td>\n",
       "      <td>Gottigere</td>\n",
       "      <td>1100.0</td>\n",
       "      <td>2.0</td>\n",
       "      <td>2</td>\n",
       "      <td>40.00</td>\n",
       "      <td>2.0</td>\n",
       "      <td>3636.363636</td>\n",
       "    </tr>\n",
       "  </tbody>\n",
       "</table>\n",
       "</div>"
      ],
      "text/plain": [
       "               area_type                  location  total_sqft  bathroom  \\\n",
       "0   Super built-up  Area  Electronic City Phase II      1056.0       2.0   \n",
       "2         Built-up  Area               Uttarahalli      1440.0       2.0   \n",
       "3   Super built-up  Area        Lingadheeranahalli      1521.0       3.0   \n",
       "4   Super built-up  Area                  Kothanur      1200.0       2.0   \n",
       "6   Super built-up  Area          Old Airport Road      2408.5       4.0   \n",
       "7   Super built-up  Area              Rajaji Nagar      2408.5       4.0   \n",
       "9             Plot  Area                     Other      1020.0       2.0   \n",
       "11            Plot  Area                Whitefield      2408.5       5.0   \n",
       "12  Super built-up  Area        7th Phase JP Nagar      1000.0       2.0   \n",
       "13        Built-up  Area                 Gottigere      1100.0       2.0   \n",
       "\n",
       "    balcony   price  BHK  price_per_sqft  \n",
       "0         1   39.07  2.0     3699.810606  \n",
       "2         3   62.00  3.0     4305.555556  \n",
       "3         1   95.00  3.0     6245.890861  \n",
       "4         1   51.00  2.0     4250.000000  \n",
       "6         1  204.00  4.0     7467.057101  \n",
       "7         1  220.00  4.0    11578.857091  \n",
       "9         1  220.00  6.0    11578.857091  \n",
       "11        3  220.00  4.0    10592.459605  \n",
       "12        1   38.00  2.0     3800.000000  \n",
       "13        2   40.00  2.0     3636.363636  "
      ]
     },
     "execution_count": 69,
     "metadata": {},
     "output_type": "execute_result"
    }
   ],
   "source": [
    "Data_frame.head(10)"
   ]
  },
  {
   "cell_type": "code",
   "execution_count": 70,
   "id": "9b2a454f-b188-4933-9b95-8ccd0ef2a83a",
   "metadata": {},
   "outputs": [],
   "source": [
    "Data_frame.drop(['price_per_sqft'], axis=1, inplace=True)"
   ]
  },
  {
   "cell_type": "code",
   "execution_count": 71,
   "id": "5042be6e-4fd0-4210-b833-39ad784c1c69",
   "metadata": {},
   "outputs": [
    {
     "data": {
      "text/html": [
       "<div>\n",
       "<style scoped>\n",
       "    .dataframe tbody tr th:only-of-type {\n",
       "        vertical-align: middle;\n",
       "    }\n",
       "\n",
       "    .dataframe tbody tr th {\n",
       "        vertical-align: top;\n",
       "    }\n",
       "\n",
       "    .dataframe thead th {\n",
       "        text-align: right;\n",
       "    }\n",
       "</style>\n",
       "<table border=\"1\" class=\"dataframe\">\n",
       "  <thead>\n",
       "    <tr style=\"text-align: right;\">\n",
       "      <th></th>\n",
       "      <th>area_type</th>\n",
       "      <th>location</th>\n",
       "      <th>total_sqft</th>\n",
       "      <th>bathroom</th>\n",
       "      <th>balcony</th>\n",
       "      <th>price</th>\n",
       "      <th>BHK</th>\n",
       "    </tr>\n",
       "  </thead>\n",
       "  <tbody>\n",
       "    <tr>\n",
       "      <th>0</th>\n",
       "      <td>Super built-up  Area</td>\n",
       "      <td>Electronic City Phase II</td>\n",
       "      <td>1056.0</td>\n",
       "      <td>2.0</td>\n",
       "      <td>1</td>\n",
       "      <td>39.07</td>\n",
       "      <td>2.0</td>\n",
       "    </tr>\n",
       "    <tr>\n",
       "      <th>2</th>\n",
       "      <td>Built-up  Area</td>\n",
       "      <td>Uttarahalli</td>\n",
       "      <td>1440.0</td>\n",
       "      <td>2.0</td>\n",
       "      <td>3</td>\n",
       "      <td>62.00</td>\n",
       "      <td>3.0</td>\n",
       "    </tr>\n",
       "    <tr>\n",
       "      <th>3</th>\n",
       "      <td>Super built-up  Area</td>\n",
       "      <td>Lingadheeranahalli</td>\n",
       "      <td>1521.0</td>\n",
       "      <td>3.0</td>\n",
       "      <td>1</td>\n",
       "      <td>95.00</td>\n",
       "      <td>3.0</td>\n",
       "    </tr>\n",
       "    <tr>\n",
       "      <th>4</th>\n",
       "      <td>Super built-up  Area</td>\n",
       "      <td>Kothanur</td>\n",
       "      <td>1200.0</td>\n",
       "      <td>2.0</td>\n",
       "      <td>1</td>\n",
       "      <td>51.00</td>\n",
       "      <td>2.0</td>\n",
       "    </tr>\n",
       "    <tr>\n",
       "      <th>6</th>\n",
       "      <td>Super built-up  Area</td>\n",
       "      <td>Old Airport Road</td>\n",
       "      <td>2408.5</td>\n",
       "      <td>4.0</td>\n",
       "      <td>1</td>\n",
       "      <td>204.00</td>\n",
       "      <td>4.0</td>\n",
       "    </tr>\n",
       "    <tr>\n",
       "      <th>7</th>\n",
       "      <td>Super built-up  Area</td>\n",
       "      <td>Rajaji Nagar</td>\n",
       "      <td>2408.5</td>\n",
       "      <td>4.0</td>\n",
       "      <td>1</td>\n",
       "      <td>220.00</td>\n",
       "      <td>4.0</td>\n",
       "    </tr>\n",
       "    <tr>\n",
       "      <th>9</th>\n",
       "      <td>Plot  Area</td>\n",
       "      <td>Other</td>\n",
       "      <td>1020.0</td>\n",
       "      <td>2.0</td>\n",
       "      <td>1</td>\n",
       "      <td>220.00</td>\n",
       "      <td>6.0</td>\n",
       "    </tr>\n",
       "    <tr>\n",
       "      <th>11</th>\n",
       "      <td>Plot  Area</td>\n",
       "      <td>Whitefield</td>\n",
       "      <td>2408.5</td>\n",
       "      <td>5.0</td>\n",
       "      <td>3</td>\n",
       "      <td>220.00</td>\n",
       "      <td>4.0</td>\n",
       "    </tr>\n",
       "    <tr>\n",
       "      <th>12</th>\n",
       "      <td>Super built-up  Area</td>\n",
       "      <td>7th Phase JP Nagar</td>\n",
       "      <td>1000.0</td>\n",
       "      <td>2.0</td>\n",
       "      <td>1</td>\n",
       "      <td>38.00</td>\n",
       "      <td>2.0</td>\n",
       "    </tr>\n",
       "    <tr>\n",
       "      <th>13</th>\n",
       "      <td>Built-up  Area</td>\n",
       "      <td>Gottigere</td>\n",
       "      <td>1100.0</td>\n",
       "      <td>2.0</td>\n",
       "      <td>2</td>\n",
       "      <td>40.00</td>\n",
       "      <td>2.0</td>\n",
       "    </tr>\n",
       "  </tbody>\n",
       "</table>\n",
       "</div>"
      ],
      "text/plain": [
       "               area_type                  location  total_sqft  bathroom  \\\n",
       "0   Super built-up  Area  Electronic City Phase II      1056.0       2.0   \n",
       "2         Built-up  Area               Uttarahalli      1440.0       2.0   \n",
       "3   Super built-up  Area        Lingadheeranahalli      1521.0       3.0   \n",
       "4   Super built-up  Area                  Kothanur      1200.0       2.0   \n",
       "6   Super built-up  Area          Old Airport Road      2408.5       4.0   \n",
       "7   Super built-up  Area              Rajaji Nagar      2408.5       4.0   \n",
       "9             Plot  Area                     Other      1020.0       2.0   \n",
       "11            Plot  Area                Whitefield      2408.5       5.0   \n",
       "12  Super built-up  Area        7th Phase JP Nagar      1000.0       2.0   \n",
       "13        Built-up  Area                 Gottigere      1100.0       2.0   \n",
       "\n",
       "    balcony   price  BHK  \n",
       "0         1   39.07  2.0  \n",
       "2         3   62.00  3.0  \n",
       "3         1   95.00  3.0  \n",
       "4         1   51.00  2.0  \n",
       "6         1  204.00  4.0  \n",
       "7         1  220.00  4.0  \n",
       "9         1  220.00  6.0  \n",
       "11        3  220.00  4.0  \n",
       "12        1   38.00  2.0  \n",
       "13        2   40.00  2.0  "
      ]
     },
     "execution_count": 71,
     "metadata": {},
     "output_type": "execute_result"
    }
   ],
   "source": [
    "Data_frame.head(10)"
   ]
  },
  {
   "cell_type": "markdown",
   "id": "1578fd6d-fd81-434d-b6ae-21ba0923bf8b",
   "metadata": {},
   "source": [
    "#### Type2\n",
    "#### In general Square ft per Bedroom is 300 \n",
    "#### anything less than that is suspicious and can be declared as outlier"
   ]
  },
  {
   "cell_type": "code",
   "execution_count": 72,
   "id": "66dc76d2-86db-43cd-bd7b-9d8990815f0d",
   "metadata": {},
   "outputs": [
    {
     "data": {
      "text/html": [
       "<div>\n",
       "<style scoped>\n",
       "    .dataframe tbody tr th:only-of-type {\n",
       "        vertical-align: middle;\n",
       "    }\n",
       "\n",
       "    .dataframe tbody tr th {\n",
       "        vertical-align: top;\n",
       "    }\n",
       "\n",
       "    .dataframe thead th {\n",
       "        text-align: right;\n",
       "    }\n",
       "</style>\n",
       "<table border=\"1\" class=\"dataframe\">\n",
       "  <thead>\n",
       "    <tr style=\"text-align: right;\">\n",
       "      <th></th>\n",
       "      <th>area_type</th>\n",
       "      <th>location</th>\n",
       "      <th>total_sqft</th>\n",
       "      <th>bathroom</th>\n",
       "      <th>balcony</th>\n",
       "      <th>price</th>\n",
       "      <th>BHK</th>\n",
       "    </tr>\n",
       "  </thead>\n",
       "  <tbody>\n",
       "    <tr>\n",
       "      <th>9</th>\n",
       "      <td>Plot  Area</td>\n",
       "      <td>Other</td>\n",
       "      <td>1020.0</td>\n",
       "      <td>2.0</td>\n",
       "      <td>1</td>\n",
       "      <td>220.0</td>\n",
       "      <td>6.0</td>\n",
       "    </tr>\n",
       "    <tr>\n",
       "      <th>58</th>\n",
       "      <td>Plot  Area</td>\n",
       "      <td>Other</td>\n",
       "      <td>1407.0</td>\n",
       "      <td>4.0</td>\n",
       "      <td>1</td>\n",
       "      <td>150.0</td>\n",
       "      <td>6.0</td>\n",
       "    </tr>\n",
       "    <tr>\n",
       "      <th>89</th>\n",
       "      <td>Plot  Area</td>\n",
       "      <td>Rajaji Nagar</td>\n",
       "      <td>900.0</td>\n",
       "      <td>2.0</td>\n",
       "      <td>3</td>\n",
       "      <td>160.0</td>\n",
       "      <td>6.0</td>\n",
       "    </tr>\n",
       "    <tr>\n",
       "      <th>129</th>\n",
       "      <td>Plot  Area</td>\n",
       "      <td>Other</td>\n",
       "      <td>950.0</td>\n",
       "      <td>2.0</td>\n",
       "      <td>0</td>\n",
       "      <td>115.0</td>\n",
       "      <td>7.0</td>\n",
       "    </tr>\n",
       "    <tr>\n",
       "      <th>149</th>\n",
       "      <td>Plot  Area</td>\n",
       "      <td>Other</td>\n",
       "      <td>1034.0</td>\n",
       "      <td>5.0</td>\n",
       "      <td>1</td>\n",
       "      <td>185.0</td>\n",
       "      <td>6.0</td>\n",
       "    </tr>\n",
       "    <tr>\n",
       "      <th>176</th>\n",
       "      <td>Plot  Area</td>\n",
       "      <td>Kumaraswami Layout</td>\n",
       "      <td>900.0</td>\n",
       "      <td>3.0</td>\n",
       "      <td>2</td>\n",
       "      <td>85.0</td>\n",
       "      <td>5.0</td>\n",
       "    </tr>\n",
       "    <tr>\n",
       "      <th>193</th>\n",
       "      <td>Plot  Area</td>\n",
       "      <td>Other</td>\n",
       "      <td>1800.0</td>\n",
       "      <td>2.0</td>\n",
       "      <td>1</td>\n",
       "      <td>220.0</td>\n",
       "      <td>7.0</td>\n",
       "    </tr>\n",
       "    <tr>\n",
       "      <th>258</th>\n",
       "      <td>Plot  Area</td>\n",
       "      <td>Other</td>\n",
       "      <td>1200.0</td>\n",
       "      <td>5.0</td>\n",
       "      <td>1</td>\n",
       "      <td>170.0</td>\n",
       "      <td>5.0</td>\n",
       "    </tr>\n",
       "    <tr>\n",
       "      <th>282</th>\n",
       "      <td>Plot  Area</td>\n",
       "      <td>Other</td>\n",
       "      <td>1450.0</td>\n",
       "      <td>2.0</td>\n",
       "      <td>0</td>\n",
       "      <td>220.0</td>\n",
       "      <td>6.0</td>\n",
       "    </tr>\n",
       "    <tr>\n",
       "      <th>315</th>\n",
       "      <td>Plot  Area</td>\n",
       "      <td>Other</td>\n",
       "      <td>1200.0</td>\n",
       "      <td>5.0</td>\n",
       "      <td>2</td>\n",
       "      <td>180.0</td>\n",
       "      <td>5.0</td>\n",
       "    </tr>\n",
       "  </tbody>\n",
       "</table>\n",
       "</div>"
      ],
      "text/plain": [
       "      area_type            location  total_sqft  bathroom  balcony  price  BHK\n",
       "9    Plot  Area               Other      1020.0       2.0        1  220.0  6.0\n",
       "58   Plot  Area               Other      1407.0       4.0        1  150.0  6.0\n",
       "89   Plot  Area        Rajaji Nagar       900.0       2.0        3  160.0  6.0\n",
       "129  Plot  Area               Other       950.0       2.0        0  115.0  7.0\n",
       "149  Plot  Area               Other      1034.0       5.0        1  185.0  6.0\n",
       "176  Plot  Area  Kumaraswami Layout       900.0       3.0        2   85.0  5.0\n",
       "193  Plot  Area               Other      1800.0       2.0        1  220.0  7.0\n",
       "258  Plot  Area               Other      1200.0       5.0        1  170.0  5.0\n",
       "282  Plot  Area               Other      1450.0       2.0        0  220.0  6.0\n",
       "315  Plot  Area               Other      1200.0       5.0        2  180.0  5.0"
      ]
     },
     "execution_count": 72,
     "metadata": {},
     "output_type": "execute_result"
    }
   ],
   "source": [
    "#Check\n",
    "Data_frame[Data_frame.total_sqft/Data_frame.BHK<300].head(10)"
   ]
  },
  {
   "cell_type": "code",
   "execution_count": 73,
   "id": "b82102d2-0b52-4e7f-b81c-6d175ed5a9a3",
   "metadata": {},
   "outputs": [
    {
     "data": {
      "text/plain": [
       "(8649, 7)"
      ]
     },
     "execution_count": 73,
     "metadata": {},
     "output_type": "execute_result"
    }
   ],
   "source": [
    "Data_frame=Data_frame[~(Data_frame.total_sqft/Data_frame.BHK<300)]\n",
    "Data_frame.shape"
   ]
  },
  {
   "cell_type": "code",
   "execution_count": 74,
   "id": "d9693b6c-6b89-491b-b9c9-65afdeb33bd6",
   "metadata": {},
   "outputs": [
    {
     "data": {
      "text/html": [
       "<div>\n",
       "<style scoped>\n",
       "    .dataframe tbody tr th:only-of-type {\n",
       "        vertical-align: middle;\n",
       "    }\n",
       "\n",
       "    .dataframe tbody tr th {\n",
       "        vertical-align: top;\n",
       "    }\n",
       "\n",
       "    .dataframe thead th {\n",
       "        text-align: right;\n",
       "    }\n",
       "</style>\n",
       "<table border=\"1\" class=\"dataframe\">\n",
       "  <thead>\n",
       "    <tr style=\"text-align: right;\">\n",
       "      <th></th>\n",
       "      <th>area_type</th>\n",
       "      <th>location</th>\n",
       "      <th>total_sqft</th>\n",
       "      <th>bathroom</th>\n",
       "      <th>balcony</th>\n",
       "      <th>price</th>\n",
       "      <th>BHK</th>\n",
       "    </tr>\n",
       "  </thead>\n",
       "  <tbody>\n",
       "    <tr>\n",
       "      <th>0</th>\n",
       "      <td>Super built-up  Area</td>\n",
       "      <td>Electronic City Phase II</td>\n",
       "      <td>1056.0</td>\n",
       "      <td>2.0</td>\n",
       "      <td>1</td>\n",
       "      <td>39.07</td>\n",
       "      <td>2.0</td>\n",
       "    </tr>\n",
       "    <tr>\n",
       "      <th>2</th>\n",
       "      <td>Built-up  Area</td>\n",
       "      <td>Uttarahalli</td>\n",
       "      <td>1440.0</td>\n",
       "      <td>2.0</td>\n",
       "      <td>3</td>\n",
       "      <td>62.00</td>\n",
       "      <td>3.0</td>\n",
       "    </tr>\n",
       "    <tr>\n",
       "      <th>3</th>\n",
       "      <td>Super built-up  Area</td>\n",
       "      <td>Lingadheeranahalli</td>\n",
       "      <td>1521.0</td>\n",
       "      <td>3.0</td>\n",
       "      <td>1</td>\n",
       "      <td>95.00</td>\n",
       "      <td>3.0</td>\n",
       "    </tr>\n",
       "    <tr>\n",
       "      <th>4</th>\n",
       "      <td>Super built-up  Area</td>\n",
       "      <td>Kothanur</td>\n",
       "      <td>1200.0</td>\n",
       "      <td>2.0</td>\n",
       "      <td>1</td>\n",
       "      <td>51.00</td>\n",
       "      <td>2.0</td>\n",
       "    </tr>\n",
       "    <tr>\n",
       "      <th>6</th>\n",
       "      <td>Super built-up  Area</td>\n",
       "      <td>Old Airport Road</td>\n",
       "      <td>2408.5</td>\n",
       "      <td>4.0</td>\n",
       "      <td>1</td>\n",
       "      <td>204.00</td>\n",
       "      <td>4.0</td>\n",
       "    </tr>\n",
       "    <tr>\n",
       "      <th>7</th>\n",
       "      <td>Super built-up  Area</td>\n",
       "      <td>Rajaji Nagar</td>\n",
       "      <td>2408.5</td>\n",
       "      <td>4.0</td>\n",
       "      <td>1</td>\n",
       "      <td>220.00</td>\n",
       "      <td>4.0</td>\n",
       "    </tr>\n",
       "    <tr>\n",
       "      <th>11</th>\n",
       "      <td>Plot  Area</td>\n",
       "      <td>Whitefield</td>\n",
       "      <td>2408.5</td>\n",
       "      <td>5.0</td>\n",
       "      <td>3</td>\n",
       "      <td>220.00</td>\n",
       "      <td>4.0</td>\n",
       "    </tr>\n",
       "    <tr>\n",
       "      <th>12</th>\n",
       "      <td>Super built-up  Area</td>\n",
       "      <td>7th Phase JP Nagar</td>\n",
       "      <td>1000.0</td>\n",
       "      <td>2.0</td>\n",
       "      <td>1</td>\n",
       "      <td>38.00</td>\n",
       "      <td>2.0</td>\n",
       "    </tr>\n",
       "    <tr>\n",
       "      <th>13</th>\n",
       "      <td>Built-up  Area</td>\n",
       "      <td>Gottigere</td>\n",
       "      <td>1100.0</td>\n",
       "      <td>2.0</td>\n",
       "      <td>2</td>\n",
       "      <td>40.00</td>\n",
       "      <td>2.0</td>\n",
       "    </tr>\n",
       "    <tr>\n",
       "      <th>14</th>\n",
       "      <td>Plot  Area</td>\n",
       "      <td>Sarjapur</td>\n",
       "      <td>2250.0</td>\n",
       "      <td>3.0</td>\n",
       "      <td>2</td>\n",
       "      <td>148.00</td>\n",
       "      <td>3.0</td>\n",
       "    </tr>\n",
       "    <tr>\n",
       "      <th>15</th>\n",
       "      <td>Super built-up  Area</td>\n",
       "      <td>Mysore Road</td>\n",
       "      <td>1175.0</td>\n",
       "      <td>2.0</td>\n",
       "      <td>2</td>\n",
       "      <td>73.50</td>\n",
       "      <td>2.0</td>\n",
       "    </tr>\n",
       "    <tr>\n",
       "      <th>16</th>\n",
       "      <td>Super built-up  Area</td>\n",
       "      <td>Bisuvanahalli</td>\n",
       "      <td>1180.0</td>\n",
       "      <td>3.0</td>\n",
       "      <td>2</td>\n",
       "      <td>48.00</td>\n",
       "      <td>3.0</td>\n",
       "    </tr>\n",
       "    <tr>\n",
       "      <th>18</th>\n",
       "      <td>Super built-up  Area</td>\n",
       "      <td>Other</td>\n",
       "      <td>2408.5</td>\n",
       "      <td>4.0</td>\n",
       "      <td>2</td>\n",
       "      <td>220.00</td>\n",
       "      <td>3.0</td>\n",
       "    </tr>\n",
       "    <tr>\n",
       "      <th>20</th>\n",
       "      <td>Built-up  Area</td>\n",
       "      <td>Kengeri</td>\n",
       "      <td>900.0</td>\n",
       "      <td>1.0</td>\n",
       "      <td>1</td>\n",
       "      <td>38.00</td>\n",
       "      <td>1.0</td>\n",
       "    </tr>\n",
       "    <tr>\n",
       "      <th>21</th>\n",
       "      <td>Super built-up  Area</td>\n",
       "      <td>Binny Pete</td>\n",
       "      <td>1755.0</td>\n",
       "      <td>3.0</td>\n",
       "      <td>1</td>\n",
       "      <td>122.00</td>\n",
       "      <td>3.0</td>\n",
       "    </tr>\n",
       "    <tr>\n",
       "      <th>22</th>\n",
       "      <td>Plot  Area</td>\n",
       "      <td>Thanisandra</td>\n",
       "      <td>2408.5</td>\n",
       "      <td>5.0</td>\n",
       "      <td>2</td>\n",
       "      <td>220.00</td>\n",
       "      <td>4.0</td>\n",
       "    </tr>\n",
       "    <tr>\n",
       "      <th>23</th>\n",
       "      <td>Super built-up  Area</td>\n",
       "      <td>Bellandur</td>\n",
       "      <td>1767.0</td>\n",
       "      <td>3.0</td>\n",
       "      <td>1</td>\n",
       "      <td>103.00</td>\n",
       "      <td>3.0</td>\n",
       "    </tr>\n",
       "    <tr>\n",
       "      <th>24</th>\n",
       "      <td>Super built-up  Area</td>\n",
       "      <td>Other</td>\n",
       "      <td>900.0</td>\n",
       "      <td>1.0</td>\n",
       "      <td>0</td>\n",
       "      <td>38.00</td>\n",
       "      <td>1.0</td>\n",
       "    </tr>\n",
       "    <tr>\n",
       "      <th>28</th>\n",
       "      <td>Super built-up  Area</td>\n",
       "      <td>Ramagondanahalli</td>\n",
       "      <td>1151.0</td>\n",
       "      <td>2.0</td>\n",
       "      <td>2</td>\n",
       "      <td>48.77</td>\n",
       "      <td>2.0</td>\n",
       "    </tr>\n",
       "    <tr>\n",
       "      <th>29</th>\n",
       "      <td>Super built-up  Area</td>\n",
       "      <td>Electronic City</td>\n",
       "      <td>1025.0</td>\n",
       "      <td>2.0</td>\n",
       "      <td>1</td>\n",
       "      <td>47.00</td>\n",
       "      <td>3.0</td>\n",
       "    </tr>\n",
       "  </tbody>\n",
       "</table>\n",
       "</div>"
      ],
      "text/plain": [
       "               area_type                  location  total_sqft  bathroom  \\\n",
       "0   Super built-up  Area  Electronic City Phase II      1056.0       2.0   \n",
       "2         Built-up  Area               Uttarahalli      1440.0       2.0   \n",
       "3   Super built-up  Area        Lingadheeranahalli      1521.0       3.0   \n",
       "4   Super built-up  Area                  Kothanur      1200.0       2.0   \n",
       "6   Super built-up  Area          Old Airport Road      2408.5       4.0   \n",
       "7   Super built-up  Area              Rajaji Nagar      2408.5       4.0   \n",
       "11            Plot  Area                Whitefield      2408.5       5.0   \n",
       "12  Super built-up  Area        7th Phase JP Nagar      1000.0       2.0   \n",
       "13        Built-up  Area                 Gottigere      1100.0       2.0   \n",
       "14            Plot  Area                  Sarjapur      2250.0       3.0   \n",
       "15  Super built-up  Area               Mysore Road      1175.0       2.0   \n",
       "16  Super built-up  Area             Bisuvanahalli      1180.0       3.0   \n",
       "18  Super built-up  Area                     Other      2408.5       4.0   \n",
       "20        Built-up  Area                   Kengeri       900.0       1.0   \n",
       "21  Super built-up  Area                Binny Pete      1755.0       3.0   \n",
       "22            Plot  Area               Thanisandra      2408.5       5.0   \n",
       "23  Super built-up  Area                 Bellandur      1767.0       3.0   \n",
       "24  Super built-up  Area                     Other       900.0       1.0   \n",
       "28  Super built-up  Area          Ramagondanahalli      1151.0       2.0   \n",
       "29  Super built-up  Area           Electronic City      1025.0       2.0   \n",
       "\n",
       "    balcony   price  BHK  \n",
       "0         1   39.07  2.0  \n",
       "2         3   62.00  3.0  \n",
       "3         1   95.00  3.0  \n",
       "4         1   51.00  2.0  \n",
       "6         1  204.00  4.0  \n",
       "7         1  220.00  4.0  \n",
       "11        3  220.00  4.0  \n",
       "12        1   38.00  2.0  \n",
       "13        2   40.00  2.0  \n",
       "14        2  148.00  3.0  \n",
       "15        2   73.50  2.0  \n",
       "16        2   48.00  3.0  \n",
       "18        2  220.00  3.0  \n",
       "20        1   38.00  1.0  \n",
       "21        1  122.00  3.0  \n",
       "22        2  220.00  4.0  \n",
       "23        1  103.00  3.0  \n",
       "24        0   38.00  1.0  \n",
       "28        2   48.77  2.0  \n",
       "29        1   47.00  3.0  "
      ]
     },
     "execution_count": 74,
     "metadata": {},
     "output_type": "execute_result"
    }
   ],
   "source": [
    "Data_frame.head(20)"
   ]
  },
  {
   "cell_type": "markdown",
   "id": "88624440-463e-4523-bb6c-46e119425a5c",
   "metadata": {},
   "source": [
    "## <font color = 'blue'> Lets Correlate </font>\n",
    "#### Finding Correlation between Independent and dependent Variables / features "
   ]
  },
  {
   "cell_type": "code",
   "execution_count": 75,
   "id": "d5e15de0-bf95-472e-b552-b734ef43f62a",
   "metadata": {},
   "outputs": [
    {
     "data": {
      "text/html": [
       "<div>\n",
       "<style scoped>\n",
       "    .dataframe tbody tr th:only-of-type {\n",
       "        vertical-align: middle;\n",
       "    }\n",
       "\n",
       "    .dataframe tbody tr th {\n",
       "        vertical-align: top;\n",
       "    }\n",
       "\n",
       "    .dataframe thead th {\n",
       "        text-align: right;\n",
       "    }\n",
       "</style>\n",
       "<table border=\"1\" class=\"dataframe\">\n",
       "  <thead>\n",
       "    <tr style=\"text-align: right;\">\n",
       "      <th></th>\n",
       "      <th>total_sqft</th>\n",
       "      <th>bathroom</th>\n",
       "      <th>balcony</th>\n",
       "      <th>BHK</th>\n",
       "    </tr>\n",
       "  </thead>\n",
       "  <tbody>\n",
       "    <tr>\n",
       "      <th>total_sqft</th>\n",
       "      <td>1.000000</td>\n",
       "      <td>0.695905</td>\n",
       "      <td>0.258966</td>\n",
       "      <td>0.737733</td>\n",
       "    </tr>\n",
       "    <tr>\n",
       "      <th>bathroom</th>\n",
       "      <td>0.695905</td>\n",
       "      <td>1.000000</td>\n",
       "      <td>0.276863</td>\n",
       "      <td>0.756970</td>\n",
       "    </tr>\n",
       "    <tr>\n",
       "      <th>balcony</th>\n",
       "      <td>0.258966</td>\n",
       "      <td>0.276863</td>\n",
       "      <td>1.000000</td>\n",
       "      <td>0.245377</td>\n",
       "    </tr>\n",
       "    <tr>\n",
       "      <th>BHK</th>\n",
       "      <td>0.737733</td>\n",
       "      <td>0.756970</td>\n",
       "      <td>0.245377</td>\n",
       "      <td>1.000000</td>\n",
       "    </tr>\n",
       "  </tbody>\n",
       "</table>\n",
       "</div>"
      ],
      "text/plain": [
       "            total_sqft  bathroom   balcony       BHK\n",
       "total_sqft    1.000000  0.695905  0.258966  0.737733\n",
       "bathroom      0.695905  1.000000  0.276863  0.756970\n",
       "balcony       0.258966  0.276863  1.000000  0.245377\n",
       "BHK           0.737733  0.756970  0.245377  1.000000"
      ]
     },
     "execution_count": 75,
     "metadata": {},
     "output_type": "execute_result"
    }
   ],
   "source": [
    "num_corr = Data_frame[['total_sqft', 'bathroom', 'balcony', 'BHK']].corr()\n",
    "num_corr"
   ]
  },
  {
   "cell_type": "code",
   "execution_count": 76,
   "id": "f1cce3de-fafc-40b2-80ba-58e99a6f8b78",
   "metadata": {},
   "outputs": [
    {
     "data": {
      "image/png": "[encoded data removed]",
      "text/plain": [
       "<Figure size 1440x720 with 2 Axes>"
      ]
     },
     "metadata": {
      "needs_background": "light"
     },
     "output_type": "display_data"
    }
   ],
   "source": [
    "sns.heatmap(num_corr, cmap='RdBu')\n",
    "plt.title(\"Heatmap of Correlation between numeric Independent Features\")\n",
    "plt.show()"
   ]
  },
  {
   "cell_type": "markdown",
   "id": "d1df7a16-df7c-4969-ae14-977479a47f03",
   "metadata": {},
   "source": [
    "#### Lets Find Correlation between each Independent feature and Dependent feature [aka - Target]"
   ]
  },
  {
   "cell_type": "code",
   "execution_count": 77,
   "id": "edaf5ced-960c-438b-b389-b5329b310d71",
   "metadata": {},
   "outputs": [
    {
     "data": {
      "text/html": [
       "<div>\n",
       "<style scoped>\n",
       "    .dataframe tbody tr th:only-of-type {\n",
       "        vertical-align: middle;\n",
       "    }\n",
       "\n",
       "    .dataframe tbody tr th {\n",
       "        vertical-align: top;\n",
       "    }\n",
       "\n",
       "    .dataframe thead th {\n",
       "        text-align: right;\n",
       "    }\n",
       "</style>\n",
       "<table border=\"1\" class=\"dataframe\">\n",
       "  <thead>\n",
       "    <tr style=\"text-align: right;\">\n",
       "      <th></th>\n",
       "      <th>total_sqft</th>\n",
       "      <th>price</th>\n",
       "    </tr>\n",
       "  </thead>\n",
       "  <tbody>\n",
       "    <tr>\n",
       "      <th>total_sqft</th>\n",
       "      <td>1.000000</td>\n",
       "      <td>0.828504</td>\n",
       "    </tr>\n",
       "    <tr>\n",
       "      <th>price</th>\n",
       "      <td>0.828504</td>\n",
       "      <td>1.000000</td>\n",
       "    </tr>\n",
       "  </tbody>\n",
       "</table>\n",
       "</div>"
      ],
      "text/plain": [
       "            total_sqft     price\n",
       "total_sqft    1.000000  0.828504\n",
       "price         0.828504  1.000000"
      ]
     },
     "execution_count": 77,
     "metadata": {},
     "output_type": "execute_result"
    }
   ],
   "source": [
    "corr_tot_pr = Data_frame[['total_sqft', 'price']].corr()\n",
    "corr_tot_pr"
   ]
  },
  {
   "cell_type": "code",
   "execution_count": 78,
   "id": "394fe04a-ef8f-424b-98c2-1dab6f51a426",
   "metadata": {},
   "outputs": [
    {
     "data": {
      "text/plain": [
       "(0.8285039606691279, 0.0)"
      ]
     },
     "execution_count": 78,
     "metadata": {},
     "output_type": "execute_result"
    }
   ],
   "source": [
    "pearson_tot_pr = stats.pearsonr(Data_frame['total_sqft'], Data_frame['price'])\n",
    "pearson_tot_pr"
   ]
  },
  {
   "cell_type": "code",
   "execution_count": 79,
   "id": "9ae377b9-d768-4a1b-94ac-967df6bb950e",
   "metadata": {},
   "outputs": [
    {
     "data": {
      "text/html": [
       "<div>\n",
       "<style scoped>\n",
       "    .dataframe tbody tr th:only-of-type {\n",
       "        vertical-align: middle;\n",
       "    }\n",
       "\n",
       "    .dataframe tbody tr th {\n",
       "        vertical-align: top;\n",
       "    }\n",
       "\n",
       "    .dataframe thead th {\n",
       "        text-align: right;\n",
       "    }\n",
       "</style>\n",
       "<table border=\"1\" class=\"dataframe\">\n",
       "  <thead>\n",
       "    <tr style=\"text-align: right;\">\n",
       "      <th></th>\n",
       "      <th>bathroom</th>\n",
       "      <th>price</th>\n",
       "    </tr>\n",
       "  </thead>\n",
       "  <tbody>\n",
       "    <tr>\n",
       "      <th>bathroom</th>\n",
       "      <td>1.000000</td>\n",
       "      <td>0.677045</td>\n",
       "    </tr>\n",
       "    <tr>\n",
       "      <th>price</th>\n",
       "      <td>0.677045</td>\n",
       "      <td>1.000000</td>\n",
       "    </tr>\n",
       "  </tbody>\n",
       "</table>\n",
       "</div>"
      ],
      "text/plain": [
       "          bathroom     price\n",
       "bathroom  1.000000  0.677045\n",
       "price     0.677045  1.000000"
      ]
     },
     "execution_count": 79,
     "metadata": {},
     "output_type": "execute_result"
    }
   ],
   "source": [
    "corr_bath_pr = Data_frame[['bathroom', 'price']].corr()\n",
    "corr_bath_pr"
   ]
  },
  {
   "cell_type": "code",
   "execution_count": 80,
   "id": "75a8e551-8bb2-438e-b3e6-0ca04d3d3327",
   "metadata": {},
   "outputs": [
    {
     "data": {
      "text/plain": [
       "(0.6770449958631829, 0.0)"
      ]
     },
     "execution_count": 80,
     "metadata": {},
     "output_type": "execute_result"
    }
   ],
   "source": [
    "pearson_bath_pr = stats.pearsonr(Data_frame['bathroom'], Data_frame['price'])\n",
    "pearson_bath_pr"
   ]
  },
  {
   "cell_type": "code",
   "execution_count": 81,
   "id": "b300fb71-ea5a-420f-aa41-49706541976a",
   "metadata": {},
   "outputs": [
    {
     "data": {
      "text/html": [
       "<div>\n",
       "<style scoped>\n",
       "    .dataframe tbody tr th:only-of-type {\n",
       "        vertical-align: middle;\n",
       "    }\n",
       "\n",
       "    .dataframe tbody tr th {\n",
       "        vertical-align: top;\n",
       "    }\n",
       "\n",
       "    .dataframe thead th {\n",
       "        text-align: right;\n",
       "    }\n",
       "</style>\n",
       "<table border=\"1\" class=\"dataframe\">\n",
       "  <thead>\n",
       "    <tr style=\"text-align: right;\">\n",
       "      <th></th>\n",
       "      <th>balcony</th>\n",
       "      <th>price</th>\n",
       "    </tr>\n",
       "  </thead>\n",
       "  <tbody>\n",
       "    <tr>\n",
       "      <th>balcony</th>\n",
       "      <td>1.000000</td>\n",
       "      <td>0.185434</td>\n",
       "    </tr>\n",
       "    <tr>\n",
       "      <th>price</th>\n",
       "      <td>0.185434</td>\n",
       "      <td>1.000000</td>\n",
       "    </tr>\n",
       "  </tbody>\n",
       "</table>\n",
       "</div>"
      ],
      "text/plain": [
       "          balcony     price\n",
       "balcony  1.000000  0.185434\n",
       "price    0.185434  1.000000"
      ]
     },
     "execution_count": 81,
     "metadata": {},
     "output_type": "execute_result"
    }
   ],
   "source": [
    "corr_bal_pr = Data_frame[['balcony', 'price']].corr()\n",
    "corr_bal_pr"
   ]
  },
  {
   "cell_type": "code",
   "execution_count": 82,
   "id": "7477443b-9399-4c58-b469-21013c428a5d",
   "metadata": {},
   "outputs": [
    {
     "data": {
      "text/plain": [
       "(0.1854341306351891, 9.171223181663037e-68)"
      ]
     },
     "execution_count": 82,
     "metadata": {},
     "output_type": "execute_result"
    }
   ],
   "source": [
    "pearson_bal_pr = stats.pearsonr(Data_frame['balcony'], Data_frame['price'])\n",
    "pearson_bal_pr"
   ]
  },
  {
   "cell_type": "code",
   "execution_count": 83,
   "id": "efb2c860-7e20-436c-8ee5-3cae8d751b50",
   "metadata": {},
   "outputs": [
    {
     "data": {
      "text/html": [
       "<div>\n",
       "<style scoped>\n",
       "    .dataframe tbody tr th:only-of-type {\n",
       "        vertical-align: middle;\n",
       "    }\n",
       "\n",
       "    .dataframe tbody tr th {\n",
       "        vertical-align: top;\n",
       "    }\n",
       "\n",
       "    .dataframe thead th {\n",
       "        text-align: right;\n",
       "    }\n",
       "</style>\n",
       "<table border=\"1\" class=\"dataframe\">\n",
       "  <thead>\n",
       "    <tr style=\"text-align: right;\">\n",
       "      <th></th>\n",
       "      <th>BHK</th>\n",
       "      <th>price</th>\n",
       "    </tr>\n",
       "  </thead>\n",
       "  <tbody>\n",
       "    <tr>\n",
       "      <th>BHK</th>\n",
       "      <td>1.000000</td>\n",
       "      <td>0.719981</td>\n",
       "    </tr>\n",
       "    <tr>\n",
       "      <th>price</th>\n",
       "      <td>0.719981</td>\n",
       "      <td>1.000000</td>\n",
       "    </tr>\n",
       "  </tbody>\n",
       "</table>\n",
       "</div>"
      ],
      "text/plain": [
       "            BHK     price\n",
       "BHK    1.000000  0.719981\n",
       "price  0.719981  1.000000"
      ]
     },
     "execution_count": 83,
     "metadata": {},
     "output_type": "execute_result"
    }
   ],
   "source": [
    "corr_bhk_pr = Data_frame[['BHK', 'price']].corr()\n",
    "corr_bhk_pr"
   ]
  },
  {
   "cell_type": "code",
   "execution_count": 84,
   "id": "d9a2cc03-7691-4c62-9b70-9b2f247c30bf",
   "metadata": {},
   "outputs": [
    {
     "data": {
      "text/plain": [
       "(0.7199808512611254, 0.0)"
      ]
     },
     "execution_count": 84,
     "metadata": {},
     "output_type": "execute_result"
    }
   ],
   "source": [
    "pearson_bhk_pr = stats.pearsonr(Data_frame['BHK'], Data_frame['price'])\n",
    "pearson_bhk_pr"
   ]
  },
  {
   "cell_type": "markdown",
   "id": "3b92cd44-d486-4816-bab2-80c734bf6b5a",
   "metadata": {},
   "source": [
    "#### The P value from pearson correlation is 0 ( < 0.05 ) so our Correlation coef are statically significant \n",
    "#### balcony the weakest while total_sqft the strongest \n",
    "#### Correlation is not equal to causation -> Balcony might be weakest but is an important feature in deciding the price of a Property"
   ]
  },
  {
   "cell_type": "markdown",
   "id": "d3e7f54a-6fa3-4d3b-bce4-587632f6ca18",
   "metadata": {},
   "source": [
    "#### Lets Understand the Categorical Features \n",
    "#### Lets Find average price of category from categorical features "
   ]
  },
  {
   "cell_type": "code",
   "execution_count": 85,
   "id": "6e97e01c-ba07-4fe0-b92a-5e73e05fcd10",
   "metadata": {},
   "outputs": [
    {
     "data": {
      "text/html": [
       "<div>\n",
       "<style scoped>\n",
       "    .dataframe tbody tr th:only-of-type {\n",
       "        vertical-align: middle;\n",
       "    }\n",
       "\n",
       "    .dataframe tbody tr th {\n",
       "        vertical-align: top;\n",
       "    }\n",
       "\n",
       "    .dataframe thead th {\n",
       "        text-align: right;\n",
       "    }\n",
       "</style>\n",
       "<table border=\"1\" class=\"dataframe\">\n",
       "  <thead>\n",
       "    <tr style=\"text-align: right;\">\n",
       "      <th></th>\n",
       "      <th>avg-price</th>\n",
       "    </tr>\n",
       "    <tr>\n",
       "      <th>area_type</th>\n",
       "      <th></th>\n",
       "    </tr>\n",
       "  </thead>\n",
       "  <tbody>\n",
       "    <tr>\n",
       "      <th>Plot  Area</th>\n",
       "      <td>154.021639</td>\n",
       "    </tr>\n",
       "    <tr>\n",
       "      <th>Built-up  Area</th>\n",
       "      <td>100.700418</td>\n",
       "    </tr>\n",
       "    <tr>\n",
       "      <th>Super built-up  Area</th>\n",
       "      <td>90.998586</td>\n",
       "    </tr>\n",
       "    <tr>\n",
       "      <th>Carpet  Area</th>\n",
       "      <td>89.057167</td>\n",
       "    </tr>\n",
       "  </tbody>\n",
       "</table>\n",
       "</div>"
      ],
      "text/plain": [
       "                       avg-price\n",
       "area_type                       \n",
       "Plot  Area            154.021639\n",
       "Built-up  Area        100.700418\n",
       "Super built-up  Area   90.998586\n",
       "Carpet  Area           89.057167"
      ]
     },
     "execution_count": 85,
     "metadata": {},
     "output_type": "execute_result"
    }
   ],
   "source": [
    "df1 = Data_frame[['area_type', 'price']]\n",
    "df_g = df1.groupby(['area_type'], as_index=False).mean().sort_values(ascending=False, by='price')\n",
    "df_g.rename(columns={'price':'avg-price'}, inplace=True)\n",
    "df_g.set_index('area_type', inplace=True)\n",
    "df_g"
   ]
  },
  {
   "cell_type": "code",
   "execution_count": 86,
   "id": "3442daa5-4ef4-49b6-a811-5053ccfe9ace",
   "metadata": {},
   "outputs": [
    {
     "data": {
      "text/html": [
       "<div>\n",
       "<style scoped>\n",
       "    .dataframe tbody tr th:only-of-type {\n",
       "        vertical-align: middle;\n",
       "    }\n",
       "\n",
       "    .dataframe tbody tr th {\n",
       "        vertical-align: top;\n",
       "    }\n",
       "\n",
       "    .dataframe thead th {\n",
       "        text-align: right;\n",
       "    }\n",
       "</style>\n",
       "<table border=\"1\" class=\"dataframe\">\n",
       "  <thead>\n",
       "    <tr style=\"text-align: right;\">\n",
       "      <th></th>\n",
       "      <th>avg-price</th>\n",
       "    </tr>\n",
       "    <tr>\n",
       "      <th>location</th>\n",
       "      <th></th>\n",
       "    </tr>\n",
       "  </thead>\n",
       "  <tbody>\n",
       "    <tr>\n",
       "      <th>2nd Stage Nagarbhavi</th>\n",
       "      <td>198.888889</td>\n",
       "    </tr>\n",
       "    <tr>\n",
       "      <th>Rajaji Nagar</th>\n",
       "      <td>193.955862</td>\n",
       "    </tr>\n",
       "    <tr>\n",
       "      <th>Frazer Town</th>\n",
       "      <td>179.233333</td>\n",
       "    </tr>\n",
       "    <tr>\n",
       "      <th>Iblur Village</th>\n",
       "      <td>176.428571</td>\n",
       "    </tr>\n",
       "    <tr>\n",
       "      <th>Indira Nagar</th>\n",
       "      <td>174.342857</td>\n",
       "    </tr>\n",
       "    <tr>\n",
       "      <th>Cooke Town</th>\n",
       "      <td>171.500000</td>\n",
       "    </tr>\n",
       "    <tr>\n",
       "      <th>Malleshwaram</th>\n",
       "      <td>168.213208</td>\n",
       "    </tr>\n",
       "    <tr>\n",
       "      <th>Old Airport Road</th>\n",
       "      <td>165.020312</td>\n",
       "    </tr>\n",
       "    <tr>\n",
       "      <th>Koramangala</th>\n",
       "      <td>162.037963</td>\n",
       "    </tr>\n",
       "    <tr>\n",
       "      <th>Hosakerehalli</th>\n",
       "      <td>161.066154</td>\n",
       "    </tr>\n",
       "  </tbody>\n",
       "</table>\n",
       "</div>"
      ],
      "text/plain": [
       "                       avg-price\n",
       "location                        \n",
       "2nd Stage Nagarbhavi  198.888889\n",
       "Rajaji Nagar          193.955862\n",
       "Frazer Town           179.233333\n",
       "Iblur Village         176.428571\n",
       "Indira Nagar          174.342857\n",
       "Cooke Town            171.500000\n",
       "Malleshwaram          168.213208\n",
       "Old Airport Road      165.020312\n",
       "Koramangala           162.037963\n",
       "Hosakerehalli         161.066154"
      ]
     },
     "execution_count": 86,
     "metadata": {},
     "output_type": "execute_result"
    }
   ],
   "source": [
    "df2 = Data_frame[['location', 'price']]\n",
    "df_l = df2.groupby(['location'], as_index=False).mean().sort_values(ascending=False, by='price')\n",
    "df_l.rename(columns={'price':'avg-price'}, inplace=True)\n",
    "df_l.set_index('location', inplace=True)\n",
    "df_l.head(10)"
   ]
  },
  {
   "cell_type": "code",
   "execution_count": 87,
   "id": "089202e2-56f5-4134-b346-d22ca5b6057b",
   "metadata": {},
   "outputs": [
    {
     "data": {
      "text/html": [
       "<div>\n",
       "<style scoped>\n",
       "    .dataframe tbody tr th:only-of-type {\n",
       "        vertical-align: middle;\n",
       "    }\n",
       "\n",
       "    .dataframe tbody tr th {\n",
       "        vertical-align: top;\n",
       "    }\n",
       "\n",
       "    .dataframe thead th {\n",
       "        text-align: right;\n",
       "    }\n",
       "</style>\n",
       "<table border=\"1\" class=\"dataframe\">\n",
       "  <thead>\n",
       "    <tr style=\"text-align: right;\">\n",
       "      <th>location</th>\n",
       "      <th>1st Phase JP Nagar</th>\n",
       "      <th>2nd Stage Nagarbhavi</th>\n",
       "      <th>5th Phase JP Nagar</th>\n",
       "      <th>6th Phase JP Nagar</th>\n",
       "      <th>7th Phase JP Nagar</th>\n",
       "      <th>8th Phase JP Nagar</th>\n",
       "      <th>9th Phase JP Nagar</th>\n",
       "      <th>Abbigere</th>\n",
       "      <th>Akshaya Nagar</th>\n",
       "      <th>Ambalipura</th>\n",
       "      <th>...</th>\n",
       "      <th>Uttarahalli</th>\n",
       "      <th>Varthur</th>\n",
       "      <th>Vidyaranyapura</th>\n",
       "      <th>Vijayanagar</th>\n",
       "      <th>Vittasandra</th>\n",
       "      <th>Whitefield</th>\n",
       "      <th>Yelachenahalli</th>\n",
       "      <th>Yelahanka</th>\n",
       "      <th>Yelahanka New Town</th>\n",
       "      <th>Yeshwanthpur</th>\n",
       "    </tr>\n",
       "    <tr>\n",
       "      <th>area_type</th>\n",
       "      <th></th>\n",
       "      <th></th>\n",
       "      <th></th>\n",
       "      <th></th>\n",
       "      <th></th>\n",
       "      <th></th>\n",
       "      <th></th>\n",
       "      <th></th>\n",
       "      <th></th>\n",
       "      <th></th>\n",
       "      <th></th>\n",
       "      <th></th>\n",
       "      <th></th>\n",
       "      <th></th>\n",
       "      <th></th>\n",
       "      <th></th>\n",
       "      <th></th>\n",
       "      <th></th>\n",
       "      <th></th>\n",
       "      <th></th>\n",
       "      <th></th>\n",
       "    </tr>\n",
       "  </thead>\n",
       "  <tbody>\n",
       "    <tr>\n",
       "      <th>Built-up  Area</th>\n",
       "      <td>100.600000</td>\n",
       "      <td>170.0</td>\n",
       "      <td>65.766667</td>\n",
       "      <td>81.0</td>\n",
       "      <td>105.758571</td>\n",
       "      <td>110.600000</td>\n",
       "      <td>84.375000</td>\n",
       "      <td>99.666667</td>\n",
       "      <td>73.216667</td>\n",
       "      <td>140.000</td>\n",
       "      <td>...</td>\n",
       "      <td>51.833478</td>\n",
       "      <td>56.000000</td>\n",
       "      <td>56.000000</td>\n",
       "      <td>119.800000</td>\n",
       "      <td>0.000000</td>\n",
       "      <td>151.283333</td>\n",
       "      <td>128.333333</td>\n",
       "      <td>101.952857</td>\n",
       "      <td>51.555556</td>\n",
       "      <td>112.400000</td>\n",
       "    </tr>\n",
       "    <tr>\n",
       "      <th>Carpet  Area</th>\n",
       "      <td>0.000000</td>\n",
       "      <td>0.0</td>\n",
       "      <td>0.000000</td>\n",
       "      <td>0.0</td>\n",
       "      <td>0.000000</td>\n",
       "      <td>38.000000</td>\n",
       "      <td>0.000000</td>\n",
       "      <td>0.000000</td>\n",
       "      <td>0.000000</td>\n",
       "      <td>0.000</td>\n",
       "      <td>...</td>\n",
       "      <td>88.000000</td>\n",
       "      <td>0.000000</td>\n",
       "      <td>0.000000</td>\n",
       "      <td>0.000000</td>\n",
       "      <td>0.000000</td>\n",
       "      <td>0.000000</td>\n",
       "      <td>0.000000</td>\n",
       "      <td>0.000000</td>\n",
       "      <td>38.000000</td>\n",
       "      <td>0.000000</td>\n",
       "    </tr>\n",
       "    <tr>\n",
       "      <th>Plot  Area</th>\n",
       "      <td>210.000000</td>\n",
       "      <td>202.5</td>\n",
       "      <td>206.250000</td>\n",
       "      <td>135.0</td>\n",
       "      <td>172.500000</td>\n",
       "      <td>178.750000</td>\n",
       "      <td>113.400000</td>\n",
       "      <td>120.000000</td>\n",
       "      <td>161.666667</td>\n",
       "      <td>0.000</td>\n",
       "      <td>...</td>\n",
       "      <td>184.666667</td>\n",
       "      <td>115.141250</td>\n",
       "      <td>127.875000</td>\n",
       "      <td>185.285714</td>\n",
       "      <td>0.000000</td>\n",
       "      <td>193.332500</td>\n",
       "      <td>160.000000</td>\n",
       "      <td>130.750000</td>\n",
       "      <td>180.000000</td>\n",
       "      <td>141.666667</td>\n",
       "    </tr>\n",
       "    <tr>\n",
       "      <th>Super built-up  Area</th>\n",
       "      <td>136.708333</td>\n",
       "      <td>0.0</td>\n",
       "      <td>69.250000</td>\n",
       "      <td>108.5</td>\n",
       "      <td>91.359468</td>\n",
       "      <td>58.483833</td>\n",
       "      <td>57.742222</td>\n",
       "      <td>39.869333</td>\n",
       "      <td>86.770000</td>\n",
       "      <td>86.991</td>\n",
       "      <td>...</td>\n",
       "      <td>54.450297</td>\n",
       "      <td>63.521702</td>\n",
       "      <td>52.423077</td>\n",
       "      <td>87.393913</td>\n",
       "      <td>68.425714</td>\n",
       "      <td>108.226096</td>\n",
       "      <td>74.400000</td>\n",
       "      <td>85.880655</td>\n",
       "      <td>42.538462</td>\n",
       "      <td>91.561970</td>\n",
       "    </tr>\n",
       "  </tbody>\n",
       "</table>\n",
       "<p>4 rows × 181 columns</p>\n",
       "</div>"
      ],
      "text/plain": [
       "location              1st Phase JP Nagar  2nd Stage Nagarbhavi  \\\n",
       "area_type                                                        \n",
       "Built-up  Area                100.600000                 170.0   \n",
       "Carpet  Area                    0.000000                   0.0   \n",
       "Plot  Area                    210.000000                 202.5   \n",
       "Super built-up  Area          136.708333                   0.0   \n",
       "\n",
       "location              5th Phase JP Nagar  6th Phase JP Nagar  \\\n",
       "area_type                                                      \n",
       "Built-up  Area                 65.766667                81.0   \n",
       "Carpet  Area                    0.000000                 0.0   \n",
       "Plot  Area                    206.250000               135.0   \n",
       "Super built-up  Area           69.250000               108.5   \n",
       "\n",
       "location              7th Phase JP Nagar  8th Phase JP Nagar  \\\n",
       "area_type                                                      \n",
       "Built-up  Area                105.758571          110.600000   \n",
       "Carpet  Area                    0.000000           38.000000   \n",
       "Plot  Area                    172.500000          178.750000   \n",
       "Super built-up  Area           91.359468           58.483833   \n",
       "\n",
       "location              9th Phase JP Nagar    Abbigere  Akshaya Nagar  \\\n",
       "area_type                                                             \n",
       "Built-up  Area                 84.375000   99.666667      73.216667   \n",
       "Carpet  Area                    0.000000    0.000000       0.000000   \n",
       "Plot  Area                    113.400000  120.000000     161.666667   \n",
       "Super built-up  Area           57.742222   39.869333      86.770000   \n",
       "\n",
       "location              Ambalipura  ...  Uttarahalli     Varthur  \\\n",
       "area_type                         ...                            \n",
       "Built-up  Area           140.000  ...    51.833478   56.000000   \n",
       "Carpet  Area               0.000  ...    88.000000    0.000000   \n",
       "Plot  Area                 0.000  ...   184.666667  115.141250   \n",
       "Super built-up  Area      86.991  ...    54.450297   63.521702   \n",
       "\n",
       "location              Vidyaranyapura  Vijayanagar  Vittasandra  Whitefield  \\\n",
       "area_type                                                                    \n",
       "Built-up  Area             56.000000   119.800000     0.000000  151.283333   \n",
       "Carpet  Area                0.000000     0.000000     0.000000    0.000000   \n",
       "Plot  Area                127.875000   185.285714     0.000000  193.332500   \n",
       "Super built-up  Area       52.423077    87.393913    68.425714  108.226096   \n",
       "\n",
       "location              Yelachenahalli   Yelahanka  Yelahanka New Town  \\\n",
       "area_type                                                              \n",
       "Built-up  Area            128.333333  101.952857           51.555556   \n",
       "Carpet  Area                0.000000    0.000000           38.000000   \n",
       "Plot  Area                160.000000  130.750000          180.000000   \n",
       "Super built-up  Area       74.400000   85.880655           42.538462   \n",
       "\n",
       "location              Yeshwanthpur  \n",
       "area_type                           \n",
       "Built-up  Area          112.400000  \n",
       "Carpet  Area              0.000000  \n",
       "Plot  Area              141.666667  \n",
       "Super built-up  Area     91.561970  \n",
       "\n",
       "[4 rows x 181 columns]"
      ]
     },
     "execution_count": 87,
     "metadata": {},
     "output_type": "execute_result"
    }
   ],
   "source": [
    "df3 = Data_frame[['area_type','location', 'price']]\n",
    "df_p = df3.groupby(['area_type','location'], as_index=False).mean().sort_values(ascending=False, by='price')\n",
    "df_p.set_index('area_type', inplace=True)\n",
    "df_p.rename(columns={'price':'avg-price'}, inplace=True)\n",
    "df_pivot = pd.pivot_table(df_p, index='area_type', columns='location', values='avg-price')\n",
    "df_pivot.fillna(0, inplace=True)\n",
    "df_pivot "
   ]
  },
  {
   "cell_type": "code",
   "execution_count": 88,
   "id": "ab098e68-0553-4649-bbf2-e0bb6528de76",
   "metadata": {},
   "outputs": [
    {
     "data": {
      "text/plain": [
       "Index(['area_type', 'location', 'total_sqft', 'bathroom', 'balcony', 'price',\n",
       "       'BHK'],\n",
       "      dtype='object')"
      ]
     },
     "execution_count": 88,
     "metadata": {},
     "output_type": "execute_result"
    }
   ],
   "source": [
    "Data_frame.columns"
   ]
  },
  {
   "cell_type": "code",
   "execution_count": 89,
   "id": "46d2d95a-18a6-4bef-832a-cf93f4cc902a",
   "metadata": {},
   "outputs": [
    {
     "data": {
      "text/plain": [
       "Text(0, 0.5, 'bathroom')"
      ]
     },
     "execution_count": 89,
     "metadata": {},
     "output_type": "execute_result"
    },
    {
     "data": {
      "image/png": "[encoded data removed]",
      "text/plain": [
       "<Figure size 1440x720 with 1 Axes>"
      ]
     },
     "metadata": {
      "needs_background": "light"
     },
     "output_type": "display_data"
    }
   ],
   "source": [
    "# Bathroom and BHK\n",
    "sns.barplot(x='BHK', y='bathroom', data=Data_frame, palette='Blues')\n",
    "plt.title('Bar Plot - bathroom and BHK')\n",
    "plt.xlabel('BHK')\n",
    "plt.ylabel('bathroom') "
   ]
  },
  {
   "cell_type": "code",
   "execution_count": 90,
   "id": "7f1fc507-77a0-4e09-94b6-c00317977b6e",
   "metadata": {},
   "outputs": [
    {
     "data": {
      "text/plain": [
       "0        1\n",
       "2        3\n",
       "3        1\n",
       "4        1\n",
       "6        1\n",
       "        ..\n",
       "13314    3\n",
       "13316    1\n",
       "13317    1\n",
       "13318    1\n",
       "13319    1\n",
       "Name: balcony, Length: 8649, dtype: int32"
      ]
     },
     "execution_count": 90,
     "metadata": {},
     "output_type": "execute_result"
    }
   ],
   "source": [
    "Data_frame.balcony"
   ]
  },
  {
   "cell_type": "code",
   "execution_count": 91,
   "id": "6c11cabb-0d56-4836-a895-5d453f950cc5",
   "metadata": {},
   "outputs": [
    {
     "data": {
      "text/plain": [
       "Text(0, 0.5, 'balcony')"
      ]
     },
     "execution_count": 91,
     "metadata": {},
     "output_type": "execute_result"
    },
    {
     "data": {
      "image/png": "[encoded data removed]",
      "text/plain": [
       "<Figure size 1440x720 with 1 Axes>"
      ]
     },
     "metadata": {
      "needs_background": "light"
     },
     "output_type": "display_data"
    }
   ],
   "source": [
    "# Balconies and BHK\n",
    "sns.barplot(x='BHK', y='balcony', data=Data_frame, palette='Blues')\n",
    "plt.title('Bar Plot - balcony and BHK')\n",
    "plt.xlabel('BHK')\n",
    "plt.ylabel('balcony') "
   ]
  },
  {
   "cell_type": "code",
   "execution_count": 92,
   "id": "bbdfc3de-2fad-4f52-90e2-35064294bcce",
   "metadata": {},
   "outputs": [],
   "source": [
    "Data_frame.to_csv(\"Cleaned_data.csv\")"
   ]
  },
  {
   "cell_type": "markdown",
   "id": "ed53eb70-53fd-4188-8004-8fa170e60f15",
   "metadata": {},
   "source": [
    "## <font color = 'green'> Model Building - ENCODING </font>\n",
    "#### Encoding the Categoricals features - area_type and location"
   ]
  },
  {
   "cell_type": "code",
   "execution_count": 93,
   "id": "d5127e00-fa8c-4e7f-b845-bd5dcdf06a3e",
   "metadata": {},
   "outputs": [],
   "source": [
    "one_dum = pd.get_dummies(Data_frame['area_type'])\n",
    "Data_frame = pd.concat([Data_frame, one_dum], axis=1)\n",
    "Data_frame.drop(['area_type'], axis=1, inplace=True)"
   ]
  },
  {
   "cell_type": "code",
   "execution_count": 94,
   "id": "bac160ad-1524-4051-8d59-cbdcbcf2f2a9",
   "metadata": {},
   "outputs": [
    {
     "data": {
      "text/html": [
       "<div>\n",
       "<style scoped>\n",
       "    .dataframe tbody tr th:only-of-type {\n",
       "        vertical-align: middle;\n",
       "    }\n",
       "\n",
       "    .dataframe tbody tr th {\n",
       "        vertical-align: top;\n",
       "    }\n",
       "\n",
       "    .dataframe thead th {\n",
       "        text-align: right;\n",
       "    }\n",
       "</style>\n",
       "<table border=\"1\" class=\"dataframe\">\n",
       "  <thead>\n",
       "    <tr style=\"text-align: right;\">\n",
       "      <th></th>\n",
       "      <th>location</th>\n",
       "      <th>total_sqft</th>\n",
       "      <th>bathroom</th>\n",
       "      <th>balcony</th>\n",
       "      <th>price</th>\n",
       "      <th>BHK</th>\n",
       "      <th>Built-up  Area</th>\n",
       "      <th>Carpet  Area</th>\n",
       "      <th>Plot  Area</th>\n",
       "      <th>Super built-up  Area</th>\n",
       "    </tr>\n",
       "  </thead>\n",
       "  <tbody>\n",
       "    <tr>\n",
       "      <th>0</th>\n",
       "      <td>Electronic City Phase II</td>\n",
       "      <td>1056.0</td>\n",
       "      <td>2.0</td>\n",
       "      <td>1</td>\n",
       "      <td>39.07</td>\n",
       "      <td>2.0</td>\n",
       "      <td>0</td>\n",
       "      <td>0</td>\n",
       "      <td>0</td>\n",
       "      <td>1</td>\n",
       "    </tr>\n",
       "    <tr>\n",
       "      <th>2</th>\n",
       "      <td>Uttarahalli</td>\n",
       "      <td>1440.0</td>\n",
       "      <td>2.0</td>\n",
       "      <td>3</td>\n",
       "      <td>62.00</td>\n",
       "      <td>3.0</td>\n",
       "      <td>1</td>\n",
       "      <td>0</td>\n",
       "      <td>0</td>\n",
       "      <td>0</td>\n",
       "    </tr>\n",
       "    <tr>\n",
       "      <th>3</th>\n",
       "      <td>Lingadheeranahalli</td>\n",
       "      <td>1521.0</td>\n",
       "      <td>3.0</td>\n",
       "      <td>1</td>\n",
       "      <td>95.00</td>\n",
       "      <td>3.0</td>\n",
       "      <td>0</td>\n",
       "      <td>0</td>\n",
       "      <td>0</td>\n",
       "      <td>1</td>\n",
       "    </tr>\n",
       "    <tr>\n",
       "      <th>4</th>\n",
       "      <td>Kothanur</td>\n",
       "      <td>1200.0</td>\n",
       "      <td>2.0</td>\n",
       "      <td>1</td>\n",
       "      <td>51.00</td>\n",
       "      <td>2.0</td>\n",
       "      <td>0</td>\n",
       "      <td>0</td>\n",
       "      <td>0</td>\n",
       "      <td>1</td>\n",
       "    </tr>\n",
       "    <tr>\n",
       "      <th>6</th>\n",
       "      <td>Old Airport Road</td>\n",
       "      <td>2408.5</td>\n",
       "      <td>4.0</td>\n",
       "      <td>1</td>\n",
       "      <td>204.00</td>\n",
       "      <td>4.0</td>\n",
       "      <td>0</td>\n",
       "      <td>0</td>\n",
       "      <td>0</td>\n",
       "      <td>1</td>\n",
       "    </tr>\n",
       "    <tr>\n",
       "      <th>7</th>\n",
       "      <td>Rajaji Nagar</td>\n",
       "      <td>2408.5</td>\n",
       "      <td>4.0</td>\n",
       "      <td>1</td>\n",
       "      <td>220.00</td>\n",
       "      <td>4.0</td>\n",
       "      <td>0</td>\n",
       "      <td>0</td>\n",
       "      <td>0</td>\n",
       "      <td>1</td>\n",
       "    </tr>\n",
       "    <tr>\n",
       "      <th>11</th>\n",
       "      <td>Whitefield</td>\n",
       "      <td>2408.5</td>\n",
       "      <td>5.0</td>\n",
       "      <td>3</td>\n",
       "      <td>220.00</td>\n",
       "      <td>4.0</td>\n",
       "      <td>0</td>\n",
       "      <td>0</td>\n",
       "      <td>1</td>\n",
       "      <td>0</td>\n",
       "    </tr>\n",
       "    <tr>\n",
       "      <th>12</th>\n",
       "      <td>7th Phase JP Nagar</td>\n",
       "      <td>1000.0</td>\n",
       "      <td>2.0</td>\n",
       "      <td>1</td>\n",
       "      <td>38.00</td>\n",
       "      <td>2.0</td>\n",
       "      <td>0</td>\n",
       "      <td>0</td>\n",
       "      <td>0</td>\n",
       "      <td>1</td>\n",
       "    </tr>\n",
       "    <tr>\n",
       "      <th>13</th>\n",
       "      <td>Gottigere</td>\n",
       "      <td>1100.0</td>\n",
       "      <td>2.0</td>\n",
       "      <td>2</td>\n",
       "      <td>40.00</td>\n",
       "      <td>2.0</td>\n",
       "      <td>1</td>\n",
       "      <td>0</td>\n",
       "      <td>0</td>\n",
       "      <td>0</td>\n",
       "    </tr>\n",
       "    <tr>\n",
       "      <th>14</th>\n",
       "      <td>Sarjapur</td>\n",
       "      <td>2250.0</td>\n",
       "      <td>3.0</td>\n",
       "      <td>2</td>\n",
       "      <td>148.00</td>\n",
       "      <td>3.0</td>\n",
       "      <td>0</td>\n",
       "      <td>0</td>\n",
       "      <td>1</td>\n",
       "      <td>0</td>\n",
       "    </tr>\n",
       "  </tbody>\n",
       "</table>\n",
       "</div>"
      ],
      "text/plain": [
       "                    location  total_sqft  bathroom  balcony   price  BHK  \\\n",
       "0   Electronic City Phase II      1056.0       2.0        1   39.07  2.0   \n",
       "2                Uttarahalli      1440.0       2.0        3   62.00  3.0   \n",
       "3         Lingadheeranahalli      1521.0       3.0        1   95.00  3.0   \n",
       "4                   Kothanur      1200.0       2.0        1   51.00  2.0   \n",
       "6           Old Airport Road      2408.5       4.0        1  204.00  4.0   \n",
       "7               Rajaji Nagar      2408.5       4.0        1  220.00  4.0   \n",
       "11                Whitefield      2408.5       5.0        3  220.00  4.0   \n",
       "12        7th Phase JP Nagar      1000.0       2.0        1   38.00  2.0   \n",
       "13                 Gottigere      1100.0       2.0        2   40.00  2.0   \n",
       "14                  Sarjapur      2250.0       3.0        2  148.00  3.0   \n",
       "\n",
       "    Built-up  Area  Carpet  Area  Plot  Area  Super built-up  Area  \n",
       "0                0             0           0                     1  \n",
       "2                1             0           0                     0  \n",
       "3                0             0           0                     1  \n",
       "4                0             0           0                     1  \n",
       "6                0             0           0                     1  \n",
       "7                0             0           0                     1  \n",
       "11               0             0           1                     0  \n",
       "12               0             0           0                     1  \n",
       "13               1             0           0                     0  \n",
       "14               0             0           1                     0  "
      ]
     },
     "execution_count": 94,
     "metadata": {},
     "output_type": "execute_result"
    }
   ],
   "source": [
    "Data_frame.head(10)"
   ]
  },
  {
   "cell_type": "code",
   "execution_count": 95,
   "id": "75853969-00ed-40b5-9418-552a87d2f803",
   "metadata": {},
   "outputs": [],
   "source": [
    "ne_dum = pd.get_dummies(Data_frame['location'])\n",
    "Data_frame = pd.concat([Data_frame, ne_dum], axis=1)\n",
    "Data_frame.drop(['location'], axis=1, inplace=True)"
   ]
  },
  {
   "cell_type": "code",
   "execution_count": 96,
   "id": "de56efbe-f5e6-459b-b5dd-1b3939fe26e9",
   "metadata": {},
   "outputs": [
    {
     "data": {
      "text/html": [
       "<div>\n",
       "<style scoped>\n",
       "    .dataframe tbody tr th:only-of-type {\n",
       "        vertical-align: middle;\n",
       "    }\n",
       "\n",
       "    .dataframe tbody tr th {\n",
       "        vertical-align: top;\n",
       "    }\n",
       "\n",
       "    .dataframe thead th {\n",
       "        text-align: right;\n",
       "    }\n",
       "</style>\n",
       "<table border=\"1\" class=\"dataframe\">\n",
       "  <thead>\n",
       "    <tr style=\"text-align: right;\">\n",
       "      <th></th>\n",
       "      <th>total_sqft</th>\n",
       "      <th>bathroom</th>\n",
       "      <th>balcony</th>\n",
       "      <th>price</th>\n",
       "      <th>BHK</th>\n",
       "      <th>Built-up  Area</th>\n",
       "      <th>Carpet  Area</th>\n",
       "      <th>Plot  Area</th>\n",
       "      <th>Super built-up  Area</th>\n",
       "      <th>1st Phase JP Nagar</th>\n",
       "      <th>...</th>\n",
       "      <th>Uttarahalli</th>\n",
       "      <th>Varthur</th>\n",
       "      <th>Vidyaranyapura</th>\n",
       "      <th>Vijayanagar</th>\n",
       "      <th>Vittasandra</th>\n",
       "      <th>Whitefield</th>\n",
       "      <th>Yelachenahalli</th>\n",
       "      <th>Yelahanka</th>\n",
       "      <th>Yelahanka New Town</th>\n",
       "      <th>Yeshwanthpur</th>\n",
       "    </tr>\n",
       "  </thead>\n",
       "  <tbody>\n",
       "    <tr>\n",
       "      <th>0</th>\n",
       "      <td>1056.0</td>\n",
       "      <td>2.0</td>\n",
       "      <td>1</td>\n",
       "      <td>39.07</td>\n",
       "      <td>2.0</td>\n",
       "      <td>0</td>\n",
       "      <td>0</td>\n",
       "      <td>0</td>\n",
       "      <td>1</td>\n",
       "      <td>0</td>\n",
       "      <td>...</td>\n",
       "      <td>0</td>\n",
       "      <td>0</td>\n",
       "      <td>0</td>\n",
       "      <td>0</td>\n",
       "      <td>0</td>\n",
       "      <td>0</td>\n",
       "      <td>0</td>\n",
       "      <td>0</td>\n",
       "      <td>0</td>\n",
       "      <td>0</td>\n",
       "    </tr>\n",
       "    <tr>\n",
       "      <th>2</th>\n",
       "      <td>1440.0</td>\n",
       "      <td>2.0</td>\n",
       "      <td>3</td>\n",
       "      <td>62.00</td>\n",
       "      <td>3.0</td>\n",
       "      <td>1</td>\n",
       "      <td>0</td>\n",
       "      <td>0</td>\n",
       "      <td>0</td>\n",
       "      <td>0</td>\n",
       "      <td>...</td>\n",
       "      <td>1</td>\n",
       "      <td>0</td>\n",
       "      <td>0</td>\n",
       "      <td>0</td>\n",
       "      <td>0</td>\n",
       "      <td>0</td>\n",
       "      <td>0</td>\n",
       "      <td>0</td>\n",
       "      <td>0</td>\n",
       "      <td>0</td>\n",
       "    </tr>\n",
       "    <tr>\n",
       "      <th>3</th>\n",
       "      <td>1521.0</td>\n",
       "      <td>3.0</td>\n",
       "      <td>1</td>\n",
       "      <td>95.00</td>\n",
       "      <td>3.0</td>\n",
       "      <td>0</td>\n",
       "      <td>0</td>\n",
       "      <td>0</td>\n",
       "      <td>1</td>\n",
       "      <td>0</td>\n",
       "      <td>...</td>\n",
       "      <td>0</td>\n",
       "      <td>0</td>\n",
       "      <td>0</td>\n",
       "      <td>0</td>\n",
       "      <td>0</td>\n",
       "      <td>0</td>\n",
       "      <td>0</td>\n",
       "      <td>0</td>\n",
       "      <td>0</td>\n",
       "      <td>0</td>\n",
       "    </tr>\n",
       "    <tr>\n",
       "      <th>4</th>\n",
       "      <td>1200.0</td>\n",
       "      <td>2.0</td>\n",
       "      <td>1</td>\n",
       "      <td>51.00</td>\n",
       "      <td>2.0</td>\n",
       "      <td>0</td>\n",
       "      <td>0</td>\n",
       "      <td>0</td>\n",
       "      <td>1</td>\n",
       "      <td>0</td>\n",
       "      <td>...</td>\n",
       "      <td>0</td>\n",
       "      <td>0</td>\n",
       "      <td>0</td>\n",
       "      <td>0</td>\n",
       "      <td>0</td>\n",
       "      <td>0</td>\n",
       "      <td>0</td>\n",
       "      <td>0</td>\n",
       "      <td>0</td>\n",
       "      <td>0</td>\n",
       "    </tr>\n",
       "    <tr>\n",
       "      <th>6</th>\n",
       "      <td>2408.5</td>\n",
       "      <td>4.0</td>\n",
       "      <td>1</td>\n",
       "      <td>204.00</td>\n",
       "      <td>4.0</td>\n",
       "      <td>0</td>\n",
       "      <td>0</td>\n",
       "      <td>0</td>\n",
       "      <td>1</td>\n",
       "      <td>0</td>\n",
       "      <td>...</td>\n",
       "      <td>0</td>\n",
       "      <td>0</td>\n",
       "      <td>0</td>\n",
       "      <td>0</td>\n",
       "      <td>0</td>\n",
       "      <td>0</td>\n",
       "      <td>0</td>\n",
       "      <td>0</td>\n",
       "      <td>0</td>\n",
       "      <td>0</td>\n",
       "    </tr>\n",
       "    <tr>\n",
       "      <th>7</th>\n",
       "      <td>2408.5</td>\n",
       "      <td>4.0</td>\n",
       "      <td>1</td>\n",
       "      <td>220.00</td>\n",
       "      <td>4.0</td>\n",
       "      <td>0</td>\n",
       "      <td>0</td>\n",
       "      <td>0</td>\n",
       "      <td>1</td>\n",
       "      <td>0</td>\n",
       "      <td>...</td>\n",
       "      <td>0</td>\n",
       "      <td>0</td>\n",
       "      <td>0</td>\n",
       "      <td>0</td>\n",
       "      <td>0</td>\n",
       "      <td>0</td>\n",
       "      <td>0</td>\n",
       "      <td>0</td>\n",
       "      <td>0</td>\n",
       "      <td>0</td>\n",
       "    </tr>\n",
       "    <tr>\n",
       "      <th>11</th>\n",
       "      <td>2408.5</td>\n",
       "      <td>5.0</td>\n",
       "      <td>3</td>\n",
       "      <td>220.00</td>\n",
       "      <td>4.0</td>\n",
       "      <td>0</td>\n",
       "      <td>0</td>\n",
       "      <td>1</td>\n",
       "      <td>0</td>\n",
       "      <td>0</td>\n",
       "      <td>...</td>\n",
       "      <td>0</td>\n",
       "      <td>0</td>\n",
       "      <td>0</td>\n",
       "      <td>0</td>\n",
       "      <td>0</td>\n",
       "      <td>1</td>\n",
       "      <td>0</td>\n",
       "      <td>0</td>\n",
       "      <td>0</td>\n",
       "      <td>0</td>\n",
       "    </tr>\n",
       "    <tr>\n",
       "      <th>12</th>\n",
       "      <td>1000.0</td>\n",
       "      <td>2.0</td>\n",
       "      <td>1</td>\n",
       "      <td>38.00</td>\n",
       "      <td>2.0</td>\n",
       "      <td>0</td>\n",
       "      <td>0</td>\n",
       "      <td>0</td>\n",
       "      <td>1</td>\n",
       "      <td>0</td>\n",
       "      <td>...</td>\n",
       "      <td>0</td>\n",
       "      <td>0</td>\n",
       "      <td>0</td>\n",
       "      <td>0</td>\n",
       "      <td>0</td>\n",
       "      <td>0</td>\n",
       "      <td>0</td>\n",
       "      <td>0</td>\n",
       "      <td>0</td>\n",
       "      <td>0</td>\n",
       "    </tr>\n",
       "    <tr>\n",
       "      <th>13</th>\n",
       "      <td>1100.0</td>\n",
       "      <td>2.0</td>\n",
       "      <td>2</td>\n",
       "      <td>40.00</td>\n",
       "      <td>2.0</td>\n",
       "      <td>1</td>\n",
       "      <td>0</td>\n",
       "      <td>0</td>\n",
       "      <td>0</td>\n",
       "      <td>0</td>\n",
       "      <td>...</td>\n",
       "      <td>0</td>\n",
       "      <td>0</td>\n",
       "      <td>0</td>\n",
       "      <td>0</td>\n",
       "      <td>0</td>\n",
       "      <td>0</td>\n",
       "      <td>0</td>\n",
       "      <td>0</td>\n",
       "      <td>0</td>\n",
       "      <td>0</td>\n",
       "    </tr>\n",
       "    <tr>\n",
       "      <th>14</th>\n",
       "      <td>2250.0</td>\n",
       "      <td>3.0</td>\n",
       "      <td>2</td>\n",
       "      <td>148.00</td>\n",
       "      <td>3.0</td>\n",
       "      <td>0</td>\n",
       "      <td>0</td>\n",
       "      <td>1</td>\n",
       "      <td>0</td>\n",
       "      <td>0</td>\n",
       "      <td>...</td>\n",
       "      <td>0</td>\n",
       "      <td>0</td>\n",
       "      <td>0</td>\n",
       "      <td>0</td>\n",
       "      <td>0</td>\n",
       "      <td>0</td>\n",
       "      <td>0</td>\n",
       "      <td>0</td>\n",
       "      <td>0</td>\n",
       "      <td>0</td>\n",
       "    </tr>\n",
       "  </tbody>\n",
       "</table>\n",
       "<p>10 rows × 190 columns</p>\n",
       "</div>"
      ],
      "text/plain": [
       "    total_sqft  bathroom  balcony   price  BHK  Built-up  Area  Carpet  Area  \\\n",
       "0       1056.0       2.0        1   39.07  2.0               0             0   \n",
       "2       1440.0       2.0        3   62.00  3.0               1             0   \n",
       "3       1521.0       3.0        1   95.00  3.0               0             0   \n",
       "4       1200.0       2.0        1   51.00  2.0               0             0   \n",
       "6       2408.5       4.0        1  204.00  4.0               0             0   \n",
       "7       2408.5       4.0        1  220.00  4.0               0             0   \n",
       "11      2408.5       5.0        3  220.00  4.0               0             0   \n",
       "12      1000.0       2.0        1   38.00  2.0               0             0   \n",
       "13      1100.0       2.0        2   40.00  2.0               1             0   \n",
       "14      2250.0       3.0        2  148.00  3.0               0             0   \n",
       "\n",
       "    Plot  Area  Super built-up  Area  1st Phase JP Nagar  ...  Uttarahalli  \\\n",
       "0            0                     1                   0  ...            0   \n",
       "2            0                     0                   0  ...            1   \n",
       "3            0                     1                   0  ...            0   \n",
       "4            0                     1                   0  ...            0   \n",
       "6            0                     1                   0  ...            0   \n",
       "7            0                     1                   0  ...            0   \n",
       "11           1                     0                   0  ...            0   \n",
       "12           0                     1                   0  ...            0   \n",
       "13           0                     0                   0  ...            0   \n",
       "14           1                     0                   0  ...            0   \n",
       "\n",
       "    Varthur  Vidyaranyapura  Vijayanagar  Vittasandra  Whitefield  \\\n",
       "0         0               0            0            0           0   \n",
       "2         0               0            0            0           0   \n",
       "3         0               0            0            0           0   \n",
       "4         0               0            0            0           0   \n",
       "6         0               0            0            0           0   \n",
       "7         0               0            0            0           0   \n",
       "11        0               0            0            0           1   \n",
       "12        0               0            0            0           0   \n",
       "13        0               0            0            0           0   \n",
       "14        0               0            0            0           0   \n",
       "\n",
       "    Yelachenahalli  Yelahanka  Yelahanka New Town  Yeshwanthpur  \n",
       "0                0          0                   0             0  \n",
       "2                0          0                   0             0  \n",
       "3                0          0                   0             0  \n",
       "4                0          0                   0             0  \n",
       "6                0          0                   0             0  \n",
       "7                0          0                   0             0  \n",
       "11               0          0                   0             0  \n",
       "12               0          0                   0             0  \n",
       "13               0          0                   0             0  \n",
       "14               0          0                   0             0  \n",
       "\n",
       "[10 rows x 190 columns]"
      ]
     },
     "execution_count": 96,
     "metadata": {},
     "output_type": "execute_result"
    }
   ],
   "source": [
    "Data_frame.head(10)"
   ]
  },
  {
   "cell_type": "markdown",
   "id": "67520e94-5bfb-42b5-86ae-b8a8c8312a30",
   "metadata": {},
   "source": [
    "# <font color = 'green'> Model Building - Building a Regression Model </font>\n",
    "### Spliting using Train-Test Split"
   ]
  },
  {
   "cell_type": "code",
   "execution_count": 97,
   "id": "5c3a174b-c27a-4243-8196-be84df35b65e",
   "metadata": {},
   "outputs": [
    {
     "data": {
      "text/plain": [
       "(8649, 190)"
      ]
     },
     "execution_count": 97,
     "metadata": {},
     "output_type": "execute_result"
    }
   ],
   "source": [
    "Data_frame.shape"
   ]
  },
  {
   "cell_type": "code",
   "execution_count": 98,
   "id": "13fbaa4d-fd94-45ea-8a36-cea0bffbdd1e",
   "metadata": {},
   "outputs": [
    {
     "data": {
      "text/plain": [
       "(8649, 189)"
      ]
     },
     "execution_count": 98,
     "metadata": {},
     "output_type": "execute_result"
    }
   ],
   "source": [
    "X = Data_frame.drop(['price'], axis=1)\n",
    "X.shape"
   ]
  },
  {
   "cell_type": "code",
   "execution_count": 99,
   "id": "5b9d3924-4707-448d-8206-b282db6f3d48",
   "metadata": {},
   "outputs": [
    {
     "data": {
      "text/plain": [
       "(8649,)"
      ]
     },
     "execution_count": 99,
     "metadata": {},
     "output_type": "execute_result"
    }
   ],
   "source": [
    "Y = Data_frame['price']\n",
    "Y.shape"
   ]
  },
  {
   "cell_type": "code",
   "execution_count": 100,
   "id": "55a9e056-459b-45f2-b3ac-8fb7634f3a9b",
   "metadata": {},
   "outputs": [
    {
     "name": "stdout",
     "output_type": "stream",
     "text": [
      "(7178, 189) \n",
      " (1471, 189) \n",
      " (7178,) \n",
      " (1471,)\n"
     ]
    }
   ],
   "source": [
    "X_train, X_test, Y_train, Y_test = train_test_split(X, Y, test_size=0.17, random_state=42)\n",
    "print(f\"{X_train.shape} \\n {X_test.shape} \\n {Y_train.shape} \\n {Y_test.shape}\")"
   ]
  },
  {
   "cell_type": "markdown",
   "id": "2054652f-70a5-4c10-ac47-fc6ad05b6678",
   "metadata": {},
   "source": [
    "## <font color = 'blue'>Multiple Linear Regression</font> Model"
   ]
  },
  {
   "cell_type": "code",
   "execution_count": 101,
   "id": "baae5c15-94e8-4435-bcf4-53d00f294ab0",
   "metadata": {},
   "outputs": [
    {
     "data": {
      "text/plain": [
       "array([ 57.29147148,  73.93706703,  75.1568737 , ..., 173.52787971,\n",
       "        63.62572479, 123.63973045])"
      ]
     },
     "execution_count": 101,
     "metadata": {},
     "output_type": "execute_result"
    }
   ],
   "source": [
    "LinearModel = LinearRegression()\n",
    "LinearModel.fit(X_train, Y_train)\n",
    "Y_pred = LinearModel.predict(X_test)\n",
    "Y_pred"
   ]
  },
  {
   "cell_type": "code",
   "execution_count": 102,
   "id": "16174d1f-906f-495a-b50f-ff428e3367a1",
   "metadata": {},
   "outputs": [
    {
     "data": {
      "text/plain": [
       "array([ 45.44446373,  63.35237312,  63.38453102, ...,  56.04713249,\n",
       "       124.40184784, 188.37192535])"
      ]
     },
     "execution_count": 102,
     "metadata": {},
     "output_type": "execute_result"
    }
   ],
   "source": [
    "Y_pred_train = LinearModel.predict(X_train)\n",
    "Y_pred_train"
   ]
  },
  {
   "cell_type": "code",
   "execution_count": 103,
   "id": "487d4a38-cf93-4626-8364-a120a57d8ae6",
   "metadata": {},
   "outputs": [
    {
     "data": {
      "text/plain": [
       "669.3971397935138"
      ]
     },
     "execution_count": 103,
     "metadata": {},
     "output_type": "execute_result"
    }
   ],
   "source": [
    "# mse value - Test\n",
    "MSE = mse(Y_test, Y_pred)\n",
    "MSE"
   ]
  },
  {
   "cell_type": "code",
   "execution_count": 104,
   "id": "5850cc46-e518-490a-8765-6b35b5cdce41",
   "metadata": {},
   "outputs": [
    {
     "data": {
      "text/plain": [
       "631.1240533826596"
      ]
     },
     "execution_count": 104,
     "metadata": {},
     "output_type": "execute_result"
    }
   ],
   "source": [
    "# mse value - train\n",
    "MSE_t = mse(Y_train, Y_pred_train)\n",
    "MSE_t"
   ]
  },
  {
   "cell_type": "markdown",
   "id": "f0f7cf94-129f-47ae-af32-cf579f9f9737",
   "metadata": {},
   "source": [
    "#### <b> R square value - train and test </b>"
   ]
  },
  {
   "cell_type": "code",
   "execution_count": 105,
   "id": "9a436eae-9935-47c2-bb88-4feac6fc97fe",
   "metadata": {},
   "outputs": [
    {
     "data": {
      "text/plain": [
       "0.828797962274954"
      ]
     },
     "execution_count": 105,
     "metadata": {},
     "output_type": "execute_result"
    }
   ],
   "source": [
    "# R^2 Value - Train\n",
    "r2_val_t = LinearModel.score(X_train, Y_train)\n",
    "r2_val_t"
   ]
  },
  {
   "cell_type": "code",
   "execution_count": 106,
   "id": "e2900ce2-7901-4ed9-9452-0caf7aadb1b6",
   "metadata": {},
   "outputs": [
    {
     "data": {
      "text/plain": [
       "0.824561107732018"
      ]
     },
     "execution_count": 106,
     "metadata": {},
     "output_type": "execute_result"
    }
   ],
   "source": [
    "# R^2 Value - Test\n",
    "r2_val = LinearModel.score(X_test, Y_test)\n",
    "r2_val"
   ]
  },
  {
   "cell_type": "code",
   "execution_count": 107,
   "id": "620333f2-c53f-4f8e-a500-62b5adeefaa5",
   "metadata": {},
   "outputs": [
    {
     "data": {
      "text/plain": [
       "0.824561107732018"
      ]
     },
     "execution_count": 107,
     "metadata": {},
     "output_type": "execute_result"
    }
   ],
   "source": [
    "from sklearn.metrics import r2_score\n",
    "r2_score(Y_test, Y_pred)"
   ]
  },
  {
   "cell_type": "code",
   "execution_count": 108,
   "id": "5acb560e-878f-4e13-9b56-fd90e23eec92",
   "metadata": {},
   "outputs": [
    {
     "data": {
      "text/plain": [
       "0.828797962274954"
      ]
     },
     "execution_count": 108,
     "metadata": {},
     "output_type": "execute_result"
    }
   ],
   "source": [
    "r2_score(Y_train, Y_pred_train)"
   ]
  },
  {
   "cell_type": "code",
   "execution_count": 109,
   "id": "ff8879b7-b721-46b3-8ab2-b910266a118a",
   "metadata": {},
   "outputs": [
    {
     "data": {
      "text/plain": [
       "-13733276193.841446"
      ]
     },
     "execution_count": 109,
     "metadata": {},
     "output_type": "execute_result"
    }
   ],
   "source": [
    "LinearModel.intercept_"
   ]
  },
  {
   "cell_type": "code",
   "execution_count": 110,
   "id": "706b661e-5f12-4cf9-ac3a-763448785972",
   "metadata": {},
   "outputs": [
    {
     "name": "stdout",
     "output_type": "stream",
     "text": [
      "0.07695126780350706\n",
      "5.237317070832233\n",
      "-0.33284727704866146\n",
      "6.4263780493396006\n",
      "13741146957.161528\n",
      "13741146959.351377\n"
     ]
    }
   ],
   "source": [
    "for i in range(0, 6):\n",
    "    print(LinearModel.coef_[i])"
   ]
  },
  {
   "cell_type": "markdown",
   "id": "c6de3e4b-3b37-4c58-aa06-3b3e68891da7",
   "metadata": {},
   "source": [
    "#### <b> Dist and Scatter Plot </b>"
   ]
  },
  {
   "cell_type": "code",
   "execution_count": 111,
   "id": "af1237a7-5c50-4da1-9d14-08b0054ef204",
   "metadata": {},
   "outputs": [
    {
     "data": {
      "image/png": "[encoded data removed]",
      "text/plain": [
       "<Figure size 1440x720 with 1 Axes>"
      ]
     },
     "metadata": {
      "needs_background": "light"
     },
     "output_type": "display_data"
    }
   ],
   "source": [
    "# Dist Plot\n",
    "axis = sns.distplot(x=Y_test, hist=False, color='red', label='Actual Data')\n",
    "sns.distplot(x=Y_pred, hist=False, color='blue', label='Predicted Data', ax=axis)\n",
    "plt.xlabel('Price')\n",
    "plt.title('Actual value vs Predicted Value')\n",
    "plt.legend(loc='best')\n",
    "plt.show()"
   ]
  },
  {
   "cell_type": "code",
   "execution_count": 112,
   "id": "b1d85ec5-40ae-4ec0-8867-6c1ad4080e89",
   "metadata": {},
   "outputs": [
    {
     "data": {
      "text/plain": [
       "<function matplotlib.pyplot.show(close=None, block=None)>"
      ]
     },
     "execution_count": 112,
     "metadata": {},
     "output_type": "execute_result"
    },
    {
     "data": {
      "image/png": "[encoded data removed]",
      "text/plain": [
       "<Figure size 1440x720 with 1 Axes>"
      ]
     },
     "metadata": {},
     "output_type": "display_data"
    }
   ],
   "source": [
    "# Scatter Plot\n",
    "sns.set(color_codes=True)\n",
    "sns.set_style(\"white\")\n",
    "\n",
    "ax = sns.regplot(Y_test, Y_pred, scatter_kws={'alpha':0.4})\n",
    "ax.set_xlabel('Original Value - Price', fontsize='large', fontweight='bold')\n",
    "ax.set_ylabel('Predicted Value - Price', fontsize='large', fontweight='bold')\n",
    "ax.set_xlim(35, 135)\n",
    "ax.set_ylim(15, 135)\n",
    "plt.show"
   ]
  },
  {
   "cell_type": "markdown",
   "id": "622893a3-dbf0-42d4-bfd3-bd8f87d8dac1",
   "metadata": {},
   "source": [
    "#### <font color = 'red'>Using K Fold cross validation score to measure accuracy of our LinearRegression model</font>"
   ]
  },
  {
   "cell_type": "code",
   "execution_count": 113,
   "id": "01b4e836-a6e6-453f-a5c1-f9dbee490746",
   "metadata": {},
   "outputs": [
    {
     "data": {
      "text/plain": [
       "array([0.81923427, 0.83279558, 0.82527793, 0.82281171, 0.80149901,\n",
       "       0.81986706, 0.84248665, 0.80035921])"
      ]
     },
     "execution_count": 113,
     "metadata": {},
     "output_type": "execute_result"
    }
   ],
   "source": [
    "cv = KFold(n_splits=8, random_state=None)\n",
    "cross_val_score(LinearRegression(), X, Y, cv=cv)"
   ]
  },
  {
   "cell_type": "code",
   "execution_count": 114,
   "id": "856edde8-716a-401e-9a61-9aa7624f0e9c",
   "metadata": {},
   "outputs": [
    {
     "name": "stdout",
     "output_type": "stream",
     "text": [
      "Average Accuracy - 0.8205414270892782\n"
     ]
    }
   ],
   "source": [
    "result = cross_val_score(LinearRegression(), X, Y, cv=cv)\n",
    "print(f\"Average Accuracy - {result.mean()}\")"
   ]
  },
  {
   "cell_type": "markdown",
   "id": "9953a623-f379-4405-a8ad-22c65a4ce96b",
   "metadata": {},
   "source": [
    "## Decision tree for Regression / Prediction ?"
   ]
  },
  {
   "cell_type": "code",
   "execution_count": 133,
   "id": "9d3fe48a-f73c-4e7d-b074-3b2619f1942b",
   "metadata": {},
   "outputs": [],
   "source": [
    "Tree_model = DecisionTreeRegressor(max_depth=5)\n",
    "Tree_model.fit(X_train, Y_train)\n",
    "Y_hat = Tree_model.predict(X_test)"
   ]
  },
  {
   "cell_type": "code",
   "execution_count": 134,
   "id": "37b78563-cbf6-4374-b5fb-018550e2cb45",
   "metadata": {},
   "outputs": [
    {
     "data": {
      "text/plain": [
       "0.8004133365466866"
      ]
     },
     "execution_count": 134,
     "metadata": {},
     "output_type": "execute_result"
    }
   ],
   "source": [
    "# R^2 Value\n",
    "r2_val_t = Tree_model.score(X_test, Y_test)\n",
    "r2_val_t"
   ]
  },
  {
   "cell_type": "code",
   "execution_count": 136,
   "id": "b4bc363d-15fc-4c1c-aca9-29db48158879",
   "metadata": {},
   "outputs": [
    {
     "data": {
      "text/plain": [
       "array([0.80489968, 0.79509544, 0.79364274, 0.77423932, 0.78333249,\n",
       "       0.73676151, 0.77471187, 0.81736563, 0.77536051, 0.76885779])"
      ]
     },
     "execution_count": 136,
     "metadata": {},
     "output_type": "execute_result"
    }
   ],
   "source": [
    "cvt = KFold(n_splits=10, random_state=None)\n",
    "cross_val_score(DecisionTreeRegressor(max_depth=5), X, Y, cv=cvt)"
   ]
  },
  {
   "cell_type": "code",
   "execution_count": 137,
   "id": "4a150b0a-eaa8-4e1b-8e19-aaddc38d5af3",
   "metadata": {},
   "outputs": [
    {
     "name": "stdout",
     "output_type": "stream",
     "text": [
      "Average Accuracy - 0.7938149994438387\n"
     ]
    }
   ],
   "source": [
    "result_t = cross_val_score(DecisionTreeRegressor(max_depth=6), X, Y, cv=cvt)\n",
    "print(f\"Average Accuracy - {result_t.mean()}\")"
   ]
  },
  {
   "cell_type": "code",
   "execution_count": 138,
   "id": "a6dd656d-a985-4c7d-aac6-5360d3de2561",
   "metadata": {},
   "outputs": [
    {
     "data": {
      "text/plain": [
       "Index(['total_sqft', 'bathroom', 'balcony', 'BHK', 'Built-up  Area',\n",
       "       'Carpet  Area', 'Plot  Area', 'Super built-up  Area',\n",
       "       '1st Phase JP Nagar', '2nd Stage Nagarbhavi',\n",
       "       ...\n",
       "       'Uttarahalli', 'Varthur', 'Vidyaranyapura', 'Vijayanagar',\n",
       "       'Vittasandra', 'Whitefield', 'Yelachenahalli', 'Yelahanka',\n",
       "       'Yelahanka New Town', 'Yeshwanthpur'],\n",
       "      dtype='object', length=189)"
      ]
     },
     "execution_count": 138,
     "metadata": {},
     "output_type": "execute_result"
    }
   ],
   "source": [
    "X.columns"
   ]
  },
  {
   "cell_type": "markdown",
   "id": "ffb3df8d-70d4-4ff2-a559-617f8f103faf",
   "metadata": {},
   "source": [
    "#### Multiple Linear Regression Model gives better Accuracy than Decision tree"
   ]
  },
  {
   "cell_type": "markdown",
   "id": "3ed483fd-9d5b-4ec0-b0dc-e85eea73ae57",
   "metadata": {},
   "source": [
    "## Random Forest"
   ]
  },
  {
   "cell_type": "code",
   "execution_count": 139,
   "id": "b94bd677-8201-4266-ac91-a04179fe1a95",
   "metadata": {},
   "outputs": [],
   "source": [
    "rf = RandomForestRegressor(n_estimators=105)\n",
    "rf.fit(X_train, Y_train)\n",
    "Y_pred_rf = rf.predict(X_test)"
   ]
  },
  {
   "cell_type": "code",
   "execution_count": 140,
   "id": "1d695748-a84a-49a3-b92a-6392305b17e4",
   "metadata": {},
   "outputs": [
    {
     "data": {
      "text/plain": [
       "0.8414810182841019"
      ]
     },
     "execution_count": 140,
     "metadata": {},
     "output_type": "execute_result"
    }
   ],
   "source": [
    "# R^2 Value\n",
    "r2_val_rf = rf.score(X_test, Y_test)\n",
    "r2_val_rf"
   ]
  },
  {
   "cell_type": "code",
   "execution_count": 142,
   "id": "1094f22d-bcef-481f-9b8e-f4b7e9c9c1c7",
   "metadata": {},
   "outputs": [
    {
     "data": {
      "text/plain": [
       "array([0.8219418 , 0.82613745, 0.80774631, 0.80767297, 0.79885222,\n",
       "       0.80285267, 0.82710215, 0.79014551])"
      ]
     },
     "execution_count": 142,
     "metadata": {},
     "output_type": "execute_result"
    }
   ],
   "source": [
    "cvt = KFold(n_splits=8, random_state=None)\n",
    "cross_val_score(RandomForestRegressor(max_depth=6, n_estimators=105), X, Y, cv=cvt)"
   ]
  },
  {
   "cell_type": "code",
   "execution_count": 144,
   "id": "35a87a64-a753-423d-8e0e-40979923ba04",
   "metadata": {},
   "outputs": [
    {
     "name": "stdout",
     "output_type": "stream",
     "text": [
      "Average Accuracy - 0.8103114632522919\n"
     ]
    }
   ],
   "source": [
    "result_t = cross_val_score(RandomForestRegressor(max_depth=6, n_estimators=105), X, Y, cv=cvt)\n",
    "print(f\"Average Accuracy - {result_t.mean()}\")"
   ]
  },
  {
   "cell_type": "markdown",
   "id": "d1643dbf-d554-4c66-a071-36837f40ae1f",
   "metadata": {},
   "source": [
    "## Using Lazy-Predict"
   ]
  },
  {
   "cell_type": "code",
   "execution_count": 146,
   "id": "bbec0924-5fa9-4eda-9a3d-24152b0b0f70",
   "metadata": {},
   "outputs": [
    {
     "name": "stderr",
     "output_type": "stream",
     "text": [
      "100%|██████████████████████████████████████████████████████████████████████████████████| 42/42 [02:51<00:00,  4.08s/it]\n"
     ]
    }
   ],
   "source": [
    "import lazypredict\n",
    "from lazypredict.Supervised import LazyRegressor\n",
    "clf = LazyRegressor(verbose=0,ignore_warnings=True, custom_metric=None)\n",
    "models_test,predictions_test = clf.fit(X_train, X_test, Y_train, Y_test)"
   ]
  },
  {
   "cell_type": "code",
   "execution_count": 147,
   "id": "24cc7a20-5652-474c-abb3-78acef307f4f",
   "metadata": {
    "collapsed": true,
    "jupyter": {
     "outputs_hidden": true
    },
    "tags": []
   },
   "outputs": [
    {
     "data": {
      "text/html": [
       "<div>\n",
       "<style scoped>\n",
       "    .dataframe tbody tr th:only-of-type {\n",
       "        vertical-align: middle;\n",
       "    }\n",
       "\n",
       "    .dataframe tbody tr th {\n",
       "        vertical-align: top;\n",
       "    }\n",
       "\n",
       "    .dataframe thead th {\n",
       "        text-align: right;\n",
       "    }\n",
       "</style>\n",
       "<table border=\"1\" class=\"dataframe\">\n",
       "  <thead>\n",
       "    <tr style=\"text-align: right;\">\n",
       "      <th></th>\n",
       "      <th>Adjusted R-Squared</th>\n",
       "      <th>R-Squared</th>\n",
       "      <th>RMSE</th>\n",
       "      <th>Time Taken</th>\n",
       "    </tr>\n",
       "    <tr>\n",
       "      <th>Model</th>\n",
       "      <th></th>\n",
       "      <th></th>\n",
       "      <th></th>\n",
       "      <th></th>\n",
       "    </tr>\n",
       "  </thead>\n",
       "  <tbody>\n",
       "    <tr>\n",
       "      <th>XGBRegressor</th>\n",
       "      <td>0.84</td>\n",
       "      <td>0.86</td>\n",
       "      <td>22.74</td>\n",
       "      <td>1.17</td>\n",
       "    </tr>\n",
       "    <tr>\n",
       "      <th>LGBMRegressor</th>\n",
       "      <td>0.83</td>\n",
       "      <td>0.85</td>\n",
       "      <td>23.88</td>\n",
       "      <td>0.25</td>\n",
       "    </tr>\n",
       "    <tr>\n",
       "      <th>HistGradientBoostingRegressor</th>\n",
       "      <td>0.83</td>\n",
       "      <td>0.85</td>\n",
       "      <td>23.94</td>\n",
       "      <td>6.92</td>\n",
       "    </tr>\n",
       "    <tr>\n",
       "      <th>MLPRegressor</th>\n",
       "      <td>0.82</td>\n",
       "      <td>0.85</td>\n",
       "      <td>24.22</td>\n",
       "      <td>47.35</td>\n",
       "    </tr>\n",
       "    <tr>\n",
       "      <th>RandomForestRegressor</th>\n",
       "      <td>0.82</td>\n",
       "      <td>0.84</td>\n",
       "      <td>24.72</td>\n",
       "      <td>7.66</td>\n",
       "    </tr>\n",
       "    <tr>\n",
       "      <th>GradientBoostingRegressor</th>\n",
       "      <td>0.81</td>\n",
       "      <td>0.84</td>\n",
       "      <td>25.02</td>\n",
       "      <td>1.66</td>\n",
       "    </tr>\n",
       "    <tr>\n",
       "      <th>BaggingRegressor</th>\n",
       "      <td>0.81</td>\n",
       "      <td>0.83</td>\n",
       "      <td>25.26</td>\n",
       "      <td>1.56</td>\n",
       "    </tr>\n",
       "    <tr>\n",
       "      <th>ExtraTreesRegressor</th>\n",
       "      <td>0.81</td>\n",
       "      <td>0.83</td>\n",
       "      <td>25.42</td>\n",
       "      <td>12.17</td>\n",
       "    </tr>\n",
       "    <tr>\n",
       "      <th>BayesianRidge</th>\n",
       "      <td>0.80</td>\n",
       "      <td>0.82</td>\n",
       "      <td>25.85</td>\n",
       "      <td>0.70</td>\n",
       "    </tr>\n",
       "    <tr>\n",
       "      <th>TransformedTargetRegressor</th>\n",
       "      <td>0.80</td>\n",
       "      <td>0.82</td>\n",
       "      <td>25.86</td>\n",
       "      <td>0.30</td>\n",
       "    </tr>\n",
       "    <tr>\n",
       "      <th>LinearRegression</th>\n",
       "      <td>0.80</td>\n",
       "      <td>0.82</td>\n",
       "      <td>25.86</td>\n",
       "      <td>0.31</td>\n",
       "    </tr>\n",
       "    <tr>\n",
       "      <th>ElasticNetCV</th>\n",
       "      <td>0.80</td>\n",
       "      <td>0.82</td>\n",
       "      <td>25.86</td>\n",
       "      <td>3.66</td>\n",
       "    </tr>\n",
       "    <tr>\n",
       "      <th>RidgeCV</th>\n",
       "      <td>0.80</td>\n",
       "      <td>0.82</td>\n",
       "      <td>25.87</td>\n",
       "      <td>0.50</td>\n",
       "    </tr>\n",
       "    <tr>\n",
       "      <th>Ridge</th>\n",
       "      <td>0.80</td>\n",
       "      <td>0.82</td>\n",
       "      <td>25.87</td>\n",
       "      <td>0.31</td>\n",
       "    </tr>\n",
       "    <tr>\n",
       "      <th>Lars</th>\n",
       "      <td>0.80</td>\n",
       "      <td>0.82</td>\n",
       "      <td>25.87</td>\n",
       "      <td>0.36</td>\n",
       "    </tr>\n",
       "    <tr>\n",
       "      <th>LassoCV</th>\n",
       "      <td>0.80</td>\n",
       "      <td>0.82</td>\n",
       "      <td>25.87</td>\n",
       "      <td>2.68</td>\n",
       "    </tr>\n",
       "    <tr>\n",
       "      <th>LassoLarsCV</th>\n",
       "      <td>0.80</td>\n",
       "      <td>0.82</td>\n",
       "      <td>25.87</td>\n",
       "      <td>3.10</td>\n",
       "    </tr>\n",
       "    <tr>\n",
       "      <th>LarsCV</th>\n",
       "      <td>0.80</td>\n",
       "      <td>0.82</td>\n",
       "      <td>25.87</td>\n",
       "      <td>3.54</td>\n",
       "    </tr>\n",
       "    <tr>\n",
       "      <th>SGDRegressor</th>\n",
       "      <td>0.80</td>\n",
       "      <td>0.82</td>\n",
       "      <td>26.01</td>\n",
       "      <td>0.26</td>\n",
       "    </tr>\n",
       "    <tr>\n",
       "      <th>LassoLarsIC</th>\n",
       "      <td>0.79</td>\n",
       "      <td>0.82</td>\n",
       "      <td>26.42</td>\n",
       "      <td>0.51</td>\n",
       "    </tr>\n",
       "    <tr>\n",
       "      <th>HuberRegressor</th>\n",
       "      <td>0.79</td>\n",
       "      <td>0.81</td>\n",
       "      <td>26.61</td>\n",
       "      <td>0.53</td>\n",
       "    </tr>\n",
       "    <tr>\n",
       "      <th>LinearSVR</th>\n",
       "      <td>0.78</td>\n",
       "      <td>0.81</td>\n",
       "      <td>26.89</td>\n",
       "      <td>0.87</td>\n",
       "    </tr>\n",
       "    <tr>\n",
       "      <th>Lasso</th>\n",
       "      <td>0.78</td>\n",
       "      <td>0.80</td>\n",
       "      <td>27.33</td>\n",
       "      <td>0.13</td>\n",
       "    </tr>\n",
       "    <tr>\n",
       "      <th>OrthogonalMatchingPursuit</th>\n",
       "      <td>0.77</td>\n",
       "      <td>0.80</td>\n",
       "      <td>27.56</td>\n",
       "      <td>0.31</td>\n",
       "    </tr>\n",
       "    <tr>\n",
       "      <th>OrthogonalMatchingPursuitCV</th>\n",
       "      <td>0.77</td>\n",
       "      <td>0.80</td>\n",
       "      <td>27.56</td>\n",
       "      <td>0.63</td>\n",
       "    </tr>\n",
       "    <tr>\n",
       "      <th>DecisionTreeRegressor</th>\n",
       "      <td>0.75</td>\n",
       "      <td>0.79</td>\n",
       "      <td>28.57</td>\n",
       "      <td>0.34</td>\n",
       "    </tr>\n",
       "    <tr>\n",
       "      <th>ExtraTreeRegressor</th>\n",
       "      <td>0.75</td>\n",
       "      <td>0.78</td>\n",
       "      <td>28.80</td>\n",
       "      <td>0.30</td>\n",
       "    </tr>\n",
       "    <tr>\n",
       "      <th>ElasticNet</th>\n",
       "      <td>0.74</td>\n",
       "      <td>0.77</td>\n",
       "      <td>29.39</td>\n",
       "      <td>0.15</td>\n",
       "    </tr>\n",
       "    <tr>\n",
       "      <th>PoissonRegressor</th>\n",
       "      <td>0.74</td>\n",
       "      <td>0.77</td>\n",
       "      <td>29.61</td>\n",
       "      <td>0.18</td>\n",
       "    </tr>\n",
       "    <tr>\n",
       "      <th>KNeighborsRegressor</th>\n",
       "      <td>0.72</td>\n",
       "      <td>0.75</td>\n",
       "      <td>30.74</td>\n",
       "      <td>1.44</td>\n",
       "    </tr>\n",
       "    <tr>\n",
       "      <th>GeneralizedLinearRegressor</th>\n",
       "      <td>0.70</td>\n",
       "      <td>0.74</td>\n",
       "      <td>31.67</td>\n",
       "      <td>0.13</td>\n",
       "    </tr>\n",
       "    <tr>\n",
       "      <th>TweedieRegressor</th>\n",
       "      <td>0.70</td>\n",
       "      <td>0.74</td>\n",
       "      <td>31.67</td>\n",
       "      <td>0.13</td>\n",
       "    </tr>\n",
       "    <tr>\n",
       "      <th>AdaBoostRegressor</th>\n",
       "      <td>0.68</td>\n",
       "      <td>0.72</td>\n",
       "      <td>32.78</td>\n",
       "      <td>1.23</td>\n",
       "    </tr>\n",
       "    <tr>\n",
       "      <th>GammaRegressor</th>\n",
       "      <td>0.67</td>\n",
       "      <td>0.71</td>\n",
       "      <td>33.11</td>\n",
       "      <td>0.14</td>\n",
       "    </tr>\n",
       "    <tr>\n",
       "      <th>PassiveAggressiveRegressor</th>\n",
       "      <td>0.64</td>\n",
       "      <td>0.69</td>\n",
       "      <td>34.48</td>\n",
       "      <td>0.14</td>\n",
       "    </tr>\n",
       "    <tr>\n",
       "      <th>SVR</th>\n",
       "      <td>0.45</td>\n",
       "      <td>0.52</td>\n",
       "      <td>42.66</td>\n",
       "      <td>10.62</td>\n",
       "    </tr>\n",
       "    <tr>\n",
       "      <th>NuSVR</th>\n",
       "      <td>0.44</td>\n",
       "      <td>0.51</td>\n",
       "      <td>43.08</td>\n",
       "      <td>7.52</td>\n",
       "    </tr>\n",
       "    <tr>\n",
       "      <th>DummyRegressor</th>\n",
       "      <td>-0.15</td>\n",
       "      <td>-0.00</td>\n",
       "      <td>61.78</td>\n",
       "      <td>0.11</td>\n",
       "    </tr>\n",
       "    <tr>\n",
       "      <th>LassoLars</th>\n",
       "      <td>-0.15</td>\n",
       "      <td>-0.00</td>\n",
       "      <td>61.78</td>\n",
       "      <td>0.31</td>\n",
       "    </tr>\n",
       "    <tr>\n",
       "      <th>KernelRidge</th>\n",
       "      <td>-2.40</td>\n",
       "      <td>-1.96</td>\n",
       "      <td>106.30</td>\n",
       "      <td>28.21</td>\n",
       "    </tr>\n",
       "    <tr>\n",
       "      <th>GaussianProcessRegressor</th>\n",
       "      <td>-2898.98</td>\n",
       "      <td>-2526.13</td>\n",
       "      <td>3105.22</td>\n",
       "      <td>18.20</td>\n",
       "    </tr>\n",
       "    <tr>\n",
       "      <th>RANSACRegressor</th>\n",
       "      <td>-762697599804408165673467904.00</td>\n",
       "      <td>-664636479829555732388249600.00</td>\n",
       "      <td>1592469324219357.00</td>\n",
       "      <td>4.89</td>\n",
       "    </tr>\n",
       "  </tbody>\n",
       "</table>\n",
       "</div>"
      ],
      "text/plain": [
       "                                           Adjusted R-Squared  \\\n",
       "Model                                                           \n",
       "XGBRegressor                                             0.84   \n",
       "LGBMRegressor                                            0.83   \n",
       "HistGradientBoostingRegressor                            0.83   \n",
       "MLPRegressor                                             0.82   \n",
       "RandomForestRegressor                                    0.82   \n",
       "GradientBoostingRegressor                                0.81   \n",
       "BaggingRegressor                                         0.81   \n",
       "ExtraTreesRegressor                                      0.81   \n",
       "BayesianRidge                                            0.80   \n",
       "TransformedTargetRegressor                               0.80   \n",
       "LinearRegression                                         0.80   \n",
       "ElasticNetCV                                             0.80   \n",
       "RidgeCV                                                  0.80   \n",
       "Ridge                                                    0.80   \n",
       "Lars                                                     0.80   \n",
       "LassoCV                                                  0.80   \n",
       "LassoLarsCV                                              0.80   \n",
       "LarsCV                                                   0.80   \n",
       "SGDRegressor                                             0.80   \n",
       "LassoLarsIC                                              0.79   \n",
       "HuberRegressor                                           0.79   \n",
       "LinearSVR                                                0.78   \n",
       "Lasso                                                    0.78   \n",
       "OrthogonalMatchingPursuit                                0.77   \n",
       "OrthogonalMatchingPursuitCV                              0.77   \n",
       "DecisionTreeRegressor                                    0.75   \n",
       "ExtraTreeRegressor                                       0.75   \n",
       "ElasticNet                                               0.74   \n",
       "PoissonRegressor                                         0.74   \n",
       "KNeighborsRegressor                                      0.72   \n",
       "GeneralizedLinearRegressor                               0.70   \n",
       "TweedieRegressor                                         0.70   \n",
       "AdaBoostRegressor                                        0.68   \n",
       "GammaRegressor                                           0.67   \n",
       "PassiveAggressiveRegressor                               0.64   \n",
       "SVR                                                      0.45   \n",
       "NuSVR                                                    0.44   \n",
       "DummyRegressor                                          -0.15   \n",
       "LassoLars                                               -0.15   \n",
       "KernelRidge                                             -2.40   \n",
       "GaussianProcessRegressor                             -2898.98   \n",
       "RANSACRegressor               -762697599804408165673467904.00   \n",
       "\n",
       "                                                    R-Squared  \\\n",
       "Model                                                           \n",
       "XGBRegressor                                             0.86   \n",
       "LGBMRegressor                                            0.85   \n",
       "HistGradientBoostingRegressor                            0.85   \n",
       "MLPRegressor                                             0.85   \n",
       "RandomForestRegressor                                    0.84   \n",
       "GradientBoostingRegressor                                0.84   \n",
       "BaggingRegressor                                         0.83   \n",
       "ExtraTreesRegressor                                      0.83   \n",
       "BayesianRidge                                            0.82   \n",
       "TransformedTargetRegressor                               0.82   \n",
       "LinearRegression                                         0.82   \n",
       "ElasticNetCV                                             0.82   \n",
       "RidgeCV                                                  0.82   \n",
       "Ridge                                                    0.82   \n",
       "Lars                                                     0.82   \n",
       "LassoCV                                                  0.82   \n",
       "LassoLarsCV                                              0.82   \n",
       "LarsCV                                                   0.82   \n",
       "SGDRegressor                                             0.82   \n",
       "LassoLarsIC                                              0.82   \n",
       "HuberRegressor                                           0.81   \n",
       "LinearSVR                                                0.81   \n",
       "Lasso                                                    0.80   \n",
       "OrthogonalMatchingPursuit                                0.80   \n",
       "OrthogonalMatchingPursuitCV                              0.80   \n",
       "DecisionTreeRegressor                                    0.79   \n",
       "ExtraTreeRegressor                                       0.78   \n",
       "ElasticNet                                               0.77   \n",
       "PoissonRegressor                                         0.77   \n",
       "KNeighborsRegressor                                      0.75   \n",
       "GeneralizedLinearRegressor                               0.74   \n",
       "TweedieRegressor                                         0.74   \n",
       "AdaBoostRegressor                                        0.72   \n",
       "GammaRegressor                                           0.71   \n",
       "PassiveAggressiveRegressor                               0.69   \n",
       "SVR                                                      0.52   \n",
       "NuSVR                                                    0.51   \n",
       "DummyRegressor                                          -0.00   \n",
       "LassoLars                                               -0.00   \n",
       "KernelRidge                                             -1.96   \n",
       "GaussianProcessRegressor                             -2526.13   \n",
       "RANSACRegressor               -664636479829555732388249600.00   \n",
       "\n",
       "                                             RMSE  Time Taken  \n",
       "Model                                                          \n",
       "XGBRegressor                                22.74        1.17  \n",
       "LGBMRegressor                               23.88        0.25  \n",
       "HistGradientBoostingRegressor               23.94        6.92  \n",
       "MLPRegressor                                24.22       47.35  \n",
       "RandomForestRegressor                       24.72        7.66  \n",
       "GradientBoostingRegressor                   25.02        1.66  \n",
       "BaggingRegressor                            25.26        1.56  \n",
       "ExtraTreesRegressor                         25.42       12.17  \n",
       "BayesianRidge                               25.85        0.70  \n",
       "TransformedTargetRegressor                  25.86        0.30  \n",
       "LinearRegression                            25.86        0.31  \n",
       "ElasticNetCV                                25.86        3.66  \n",
       "RidgeCV                                     25.87        0.50  \n",
       "Ridge                                       25.87        0.31  \n",
       "Lars                                        25.87        0.36  \n",
       "LassoCV                                     25.87        2.68  \n",
       "LassoLarsCV                                 25.87        3.10  \n",
       "LarsCV                                      25.87        3.54  \n",
       "SGDRegressor                                26.01        0.26  \n",
       "LassoLarsIC                                 26.42        0.51  \n",
       "HuberRegressor                              26.61        0.53  \n",
       "LinearSVR                                   26.89        0.87  \n",
       "Lasso                                       27.33        0.13  \n",
       "OrthogonalMatchingPursuit                   27.56        0.31  \n",
       "OrthogonalMatchingPursuitCV                 27.56        0.63  \n",
       "DecisionTreeRegressor                       28.57        0.34  \n",
       "ExtraTreeRegressor                          28.80        0.30  \n",
       "ElasticNet                                  29.39        0.15  \n",
       "PoissonRegressor                            29.61        0.18  \n",
       "KNeighborsRegressor                         30.74        1.44  \n",
       "GeneralizedLinearRegressor                  31.67        0.13  \n",
       "TweedieRegressor                            31.67        0.13  \n",
       "AdaBoostRegressor                           32.78        1.23  \n",
       "GammaRegressor                              33.11        0.14  \n",
       "PassiveAggressiveRegressor                  34.48        0.14  \n",
       "SVR                                         42.66       10.62  \n",
       "NuSVR                                       43.08        7.52  \n",
       "DummyRegressor                              61.78        0.11  \n",
       "LassoLars                                   61.78        0.31  \n",
       "KernelRidge                                106.30       28.21  \n",
       "GaussianProcessRegressor                  3105.22       18.20  \n",
       "RANSACRegressor               1592469324219357.00        4.89  "
      ]
     },
     "execution_count": 147,
     "metadata": {},
     "output_type": "execute_result"
    }
   ],
   "source": [
    "predictions_test"
   ]
  },
  {
   "cell_type": "markdown",
   "id": "db002e35-504b-4f5d-bd27-46545b84bd7b",
   "metadata": {},
   "source": [
    "### <b>Result</b> -  Using Linear Regression as the Base model as it gives a good result and is less time consuming"
   ]
  },
  {
   "cell_type": "markdown",
   "id": "f5f536b3-93b5-4164-87be-7dc23009e7e7",
   "metadata": {},
   "source": [
    "## <b> Testing Model for Few Properties </b>"
   ]
  },
  {
   "cell_type": "code",
   "execution_count": 148,
   "id": "5eca9727-d9fd-484f-9446-bd2ef1022dd0",
   "metadata": {},
   "outputs": [],
   "source": [
    "def predict_price(area_type, location, sqft, balcony, bathroom, BHK):\n",
    "    area_index = np.where(X.columns==area_type)[0][0]\n",
    "    loc_index = np.where(X.columns==location)[0][0]\n",
    "    \n",
    "    lis = np.zeros(len(X.columns))\n",
    "    lis[0] = sqft\n",
    "    lis[1] = bathroom\n",
    "    lis[2] = balcony\n",
    "    lis[3] = BHK\n",
    "    \n",
    "    if loc_index >=0 and area_index >=0:\n",
    "        lis[area_index] = 1\n",
    "        lis[loc_index] = 1\n",
    "    \n",
    "    return round(LinearModel.predict([lis])[0], 2)\n",
    "    "
   ]
  },
  {
   "cell_type": "code",
   "execution_count": 149,
   "id": "4db5c927-892a-4642-b2ac-1b81b877bff6",
   "metadata": {},
   "outputs": [
    {
     "data": {
      "text/plain": [
       "86.68"
      ]
     },
     "execution_count": 149,
     "metadata": {},
     "output_type": "execute_result"
    }
   ],
   "source": [
    "predict_price('Carpet  Area', 'Whitefield', 1250, 2, 2, 3)"
   ]
  },
  {
   "cell_type": "markdown",
   "id": "373cde2e-fc5a-4b61-bfec-63d217786d44",
   "metadata": {},
   "source": [
    "## Export the Model to a Pickle File "
   ]
  },
  {
   "cell_type": "code",
   "execution_count": 150,
   "id": "d36cf527-ded4-4a10-9a87-5a8f887815bb",
   "metadata": {},
   "outputs": [],
   "source": [
    "import pickle\n",
    "with open('bangalore_home_prices_model.pickle', 'wb') as obj:\n",
    "    pickle.dump(LinearModel, obj)"
   ]
  },
  {
   "cell_type": "markdown",
   "id": "6e9c948c-aab1-408d-bc62-8642a3e044e7",
   "metadata": {},
   "source": [
    "## Importing Columns \n"
   ]
  },
  {
   "cell_type": "code",
   "execution_count": 151,
   "id": "de01d79c-8b37-45ea-99aa-d1e4696b2fc2",
   "metadata": {},
   "outputs": [],
   "source": [
    "import json\n",
    "columns = {\n",
    "    'Columns': [col.lower() for col in X.columns]\n",
    "}\n",
    "with open(\"Columns.json\", 'w') as f:\n",
    "    f.write(json.dumps(columns))"
   ]
  },
  {
   "cell_type": "code",
   "execution_count": null,
   "id": "ba00faf5-ad08-48dd-b2e4-8e961abd9be5",
   "metadata": {},
   "outputs": [],
   "source": []
  }
 ],
 "metadata": {
  "kernelspec": {
   "display_name": "Python 3 (ipykernel)",
   "language": "python",
   "name": "python3"
  },
  "language_info": {
   "codemirror_mode": {
    "name": "ipython",
    "version": 3
   },
   "file_extension": ".py",
   "mimetype": "text/x-python",
   "name": "python",
   "nbconvert_exporter": "python",
   "pygments_lexer": "ipython3",
   "version": "3.9.12"
  }
 },
 "nbformat": 4,
 "nbformat_minor": 5
}
